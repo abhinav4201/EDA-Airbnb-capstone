{
  "nbformat": 4,
  "nbformat_minor": 0,
  "metadata": {
    "colab": {
      "provenance": [],
      "collapsed_sections": [
        "FJNUwmbgGyua",
        "w6K7xa23Elo4",
        "yQaldy8SH6Dl",
        "PH-0ReGfmX4f",
        "mDgbUHAGgjLW",
        "HhfV-JJviCcP",
        "Y3lxredqlCYt",
        "3RnN4peoiCZX",
        "x71ZqKXriCWQ",
        "7hBIi_osiCS2",
        "JlHwYmJAmNHm",
        "35m5QtbWiB9F",
        "H0kj-8xxnORC",
        "nA9Y7ga8ng1Z",
        "PBTbrJXOngz2",
        "u3PMJOP6ngxN",
        "dauF4eBmngu3",
        "bKJF3rekwFvQ",
        "MSa1f5Uengrz",
        "_B-7AtNHD2BN",
        "0wOQAZs5pc--",
        "K5QZ13OEpz2H",
        "lQ7QKXXCp7Bj",
        "448CDAPjqfQr",
        "KSlN3yHqYklG",
        "t6dVpIINYklI",
        "ijmpgYnKYklI",
        "4Of9eVA-YrdM",
        "iky9q4vBYrdO",
        "F6T5p64dYrdO",
        "y-Ehk30pYrdP",
        "EM7whBJCYoAo",
        "fge-S5ZAYoAp",
        "85gYPyotYoAp",
        "RoGjAbkUYoAp",
        "bamQiAODYuh1",
        "QHF8YVU7Yuh3",
        "GwzvFGzlYuh3",
        "qYpmQ266Yuh3",
        "PIIx-8_IphqN",
        "t27r6nlMphqO",
        "r2jJGEOYphqO",
        "b0JNsNcRphqO",
        "BZR9WyysphqO",
        "jj7wYXLtphqO",
        "eZrbJ2SmphqO",
        "rFu4xreNphqO",
        "YJ55k-q6phqO",
        "gCFgpxoyphqP",
        "OVtJsKN_phqQ",
        "lssrdh5qphqQ",
        "U2RJ9gkRphqQ",
        "1M8mcRywphqQ",
        "tgIPom80phqQ",
        "JMzcOPDDphqR",
        "x-EpHcCOp1ci",
        "X_VqEhTip1ck",
        "8zGJKyg5p1ck",
        "PVzmfK_Ep1ck",
        "n3dbpmDWp1ck",
        "ylSl6qgtp1ck",
        "ZWILFDl5p1ck",
        "M7G43BXep1ck",
        "Ag9LCva-p1cl",
        "E6MkPsBcp1cl",
        "2cELzS2fp1cl",
        "3MPXvC8up1cl",
        "NC_X3p0fY2L0",
        "UV0SzAkaZNRQ",
        "YPEH6qLeZNRQ",
        "q29F0dvdveiT",
        "EXh0U9oCveiU",
        "22aHeOlLveiV",
        "JcMwzZxoAimU",
        "8G2x9gOozGDZ"
      ],
      "toc_visible": true,
      "include_colab_link": true
    },
    "kernelspec": {
      "name": "python3",
      "display_name": "Python 3"
    },
    "language_info": {
      "name": "python"
    },
    "gpuClass": "standard"
  },
  "cells": [
    {
      "cell_type": "markdown",
      "metadata": {
        "id": "view-in-github",
        "colab_type": "text"
      },
      "source": [
        "<a href=\"https://colab.research.google.com/github/abhinav4201/Exploratory-data-analysis-EDA-Airbnb/blob/main/Airbnb_Bookings_Analysis_Capstone_Project_1.ipynb\" target=\"_parent\"><img src=\"https://colab.research.google.com/assets/colab-badge.svg\" alt=\"Open In Colab\"/></a>"
      ]
    },
    {
      "cell_type": "markdown",
      "source": [
        "# <font size='8px'><font color='#FF3206'>**Project Name**    - <font color='#3792cb'>Airbnb Bookings Analysis\n",
        "\n"
      ],
      "metadata": {
        "id": "vncDsAP0Gaoa"
      }
    },
    {
      "cell_type": "markdown",
      "source": [
        "##### <font size='5px'>**Project Type**    - **Exploratory Data Analysis**\n",
        "##### **Contribution**    - Individual"
      ],
      "metadata": {
        "id": "beRrZCGUAJYm"
      }
    },
    {
      "cell_type": "markdown",
      "source": [
        "# **Project Summary -**"
      ],
      "metadata": {
        "id": "FJNUwmbgGyua"
      }
    },
    {
      "cell_type": "markdown",
      "source": [
        "Airbnb has revolutionized the way people travel and experience new places by providing a unique and personalized alternative to traditional hotel stays. By connecting hosts who have extra space in their homes or apartments with travelers looking for a more authentic and local experience, Airbnb has created a thriving community of people from all over the world who are passionate about exploring new cultures and sharing their own.\n",
        "\n",
        "As Airbnb has grown in popularity, the company has also recognized the value of data analysis in understanding its customers and hosts, making informed business decisions, and identifying new opportunities for growth. With millions of listings on its platform, Airbnb generates a vast amount of data that can be used to gain insights into the behavior and performance of hosts and guests.\n",
        "\n",
        "This project aims to explore and analyze a dataset of approximately 49,000 Airbnb listings in order to gain a better understanding of the factors that drive success on the platform. The dataset includes both categorical and numeric variables, such as the location of the listing, the type of property, the price, the number of reviews, and the amenities offered.\n",
        "\n",
        "One of the key questions we can explore using this data is what sets successful hosts apart from those who may be struggling. By examining variables such as the number of bookings and reviews, the location of the listings, and the amenities offered, we can identify patterns and trends that may be correlated with higher levels of success. For example, we might find that hosts who are located in popular tourist destinations or who offer unique amenities such as a pool or hot tub tend to have higher bookings and better reviews.\n",
        "\n",
        "In addition to studying the characteristics of individual hosts, we can also use the data to understand the factors that influence demand for Airbnb listings in different areas. By visualizing the data on a map, for example, we can see if certain neighborhoods or cities tend to have more listings or higher demand, and consider the possible reasons for these patterns. Factors such as the availability of local attractions, the cost of living, and the overall quality of life in an area may all play a role in determining the popularity of Airbnb listings.\n",
        "\n",
        "Another area of interest for Airbnb is predicting future demand and pricing for its listings. By using machine learning techniques such as regression or classification, we can build models that can predict the likelihood of a listing being booked or the expected price based on factors such as the location, type of property, and amenities offered. These predictions can be valuable for both hosts and guests, as they can help hosts set competitive prices and guests make informed decisions about where to stay.\n",
        "\n",
        "Finally, data analysis can also be used to identify opportunities for Airbnb to improve its services and expand its offerings. For example, by analyzing customer feedback and host reviews, the company can identify areas where it can improve the user experience or offer new services that will be well received by its users. Similarly, by analyzing trends in demand and supply, Airbnb can identify new markets or demographics to target with its marketing efforts.\n",
        "\n",
        "Overall, the data generated by Airbnb's millions of listings provides a rich source of information that can be used to understand the behavior and preferences of hosts and guests, make informed business decisions, and identify new opportunities for growth and innovation. By exploring and analyzing this data, we can gain a deeper understanding of the factors that drive success on Airbnb and use this knowledge to drive the company's continued success."
      ],
      "metadata": {
        "id": "F6v_1wHtG2nS"
      }
    },
    {
      "cell_type": "markdown",
      "source": [
        "# **GitHub Link -**"
      ],
      "metadata": {
        "id": "w6K7xa23Elo4"
      }
    },
    {
      "cell_type": "markdown",
      "source": [
        "[Link to repository ](https://github.com/abhinav4201/Exploratory-data-analysis-EDA-Airbnb)"
      ],
      "metadata": {
        "id": "h1o69JH3Eqqn"
      }
    },
    {
      "cell_type": "markdown",
      "source": [
        "https://github.com/abhinav4201/Exploratory-data-analysis-EDA-Airbnb"
      ],
      "metadata": {
        "id": "PbtJks0mM2YI"
      }
    },
    {
      "cell_type": "markdown",
      "source": [
        "# **Problem Statement**\n"
      ],
      "metadata": {
        "id": "yQaldy8SH6Dl"
      }
    },
    {
      "cell_type": "markdown",
      "source": [
        "As Airbnb continues to expand and grow, it is important for the company to to use data analysis to gain insights into the behavior and performance of hosts and customers on the Airbnb platform, and to use this knowledge to inform business decisions and identify opportunities for growth and innovation. Specifically, the goal is to understand the factors that drive success on Airbnb, including the characteristics of successful hosts, the demand for listings in different locations, and the factors that influence pricing and demand. The goal is to explore data to predict factors such as demand, pricing, and the busiest hosts, and to identify areas where Airbnb can improve its services or expand its offerings. By understanding these factors, Airbnb can make informed decisions about how to optimize its platform and services to better meet the needs of its users and drive continued growth and success."
      ],
      "metadata": {
        "id": "DpeJGUA3kjGy"
      }
    },
    {
      "cell_type": "markdown",
      "source": [
        "#### **Define Your Business Objective?**"
      ],
      "metadata": {
        "id": "PH-0ReGfmX4f"
      }
    },
    {
      "cell_type": "markdown",
      "source": [
        "In the context of this project, the business objective is to use data analysis to identify the characteristics of successful hosts, understanding the demand for listings in different locations, identifying new markets or demographics to target with marketing efforts and predicting factors such as pricing and demand."
      ],
      "metadata": {
        "id": "PhDvGCAqmjP1"
      }
    },
    {
      "cell_type": "markdown",
      "source": [
        "# **General Guidelines** : -  "
      ],
      "metadata": {
        "id": "mDgbUHAGgjLW"
      }
    },
    {
      "cell_type": "markdown",
      "source": [
        "1.   Well-structured, formatted, and commented code is required. \n",
        "2.   Exception Handling, Production Grade Code & Deployment Ready Code will be a plus. Those students will be awarded some additional credits. \n",
        "     \n",
        "     The additional credits will have advantages over other students during Star Student selection.\n",
        "       \n",
        "             [ Note: - Deployment Ready Code is defined as, the whole .ipynb notebook should be executable in one go\n",
        "                       without a single error logged. ]\n",
        "\n",
        "3.   Each and every logic should have proper comments.\n",
        "4. You may add as many number of charts you want. Make Sure for each and every chart the following format should be answered.\n",
        "        \n",
        "\n",
        "```\n",
        "# Chart visualization code\n",
        "```\n",
        "            \n",
        "\n",
        "*   Why did you pick the specific chart?\n",
        "*   What is/are the insight(s) found from the chart?\n",
        "* Will the gained insights help creating a positive business impact? \n",
        "Are there any insights that lead to negative growth? Justify with specific reason.\n",
        "\n",
        "5. You have to create at least 20 logical & meaningful charts having important insights.\n",
        "\n",
        "\n",
        "[ Hints : - Do the Vizualization in  a structured way while following \"UBM\" Rule. \n",
        "\n",
        "U - Univariate Analysis,\n",
        "\n",
        "B - Bivariate Analysis (Numerical - Categorical, Numerical - Numerical, Categorical - Categorical)\n",
        "\n",
        "M - Multivariate Analysis\n",
        " ]\n",
        "\n",
        "\n",
        "\n"
      ],
      "metadata": {
        "id": "ZrxVaUj-hHfC"
      }
    },
    {
      "cell_type": "markdown",
      "source": [
        "# ***Let's Begin !***"
      ],
      "metadata": {
        "id": "O_i_v8NEhb9l"
      }
    },
    {
      "cell_type": "markdown",
      "source": [
        "## ***1. Know Your Data***"
      ],
      "metadata": {
        "id": "HhfV-JJviCcP"
      }
    },
    {
      "cell_type": "markdown",
      "source": [
        "### Import Libraries"
      ],
      "metadata": {
        "id": "Y3lxredqlCYt"
      }
    },
    {
      "cell_type": "code",
      "source": [
        "# Import Essential Libraries\n",
        "import numpy as np\n",
        "import pandas as pd\n",
        "\n",
        "#Importing Data Visualization libraries\n",
        "import seaborn as sns\n",
        "import matplotlib.pyplot as plt\n",
        "%matplotlib inline\n",
        "import plotly.express as px\n",
        "from scipy.stats import norm\n",
        "\n",
        "# Datetime library for manipulating Date columns.\n",
        "from datetime import datetime\n",
        "import calendar\n",
        "\n",
        "# The following lines adjust the granularity of reporting. \n",
        "pd.options.display.float_format = \"{:.2f}\".format\n",
        "\n",
        "#Import warnings are issued to alert developers to potential issues with their \n",
        "#code, and it is important to address these warnings in order to avoid potential problems.\n",
        "import warnings\n",
        "warnings.filterwarnings('ignore')"
      ],
      "metadata": {
        "id": "M8Vqi-pPk-HR"
      },
      "execution_count": 1,
      "outputs": []
    },
    {
      "cell_type": "markdown",
      "source": [
        "### Dataset Loading"
      ],
      "metadata": {
        "id": "3RnN4peoiCZX"
      }
    },
    {
      "cell_type": "code",
      "source": [
        "#here google drive is attached to colab so that files can be accessed easily\n",
        "from google.colab import drive\n",
        "drive.mount('/content/drive')"
      ],
      "metadata": {
        "colab": {
          "base_uri": "https://localhost:8080/"
        },
        "id": "LyDchz8KYBlE",
        "outputId": "0ffa064e-c030-4ffb-8a3d-047a27066736"
      },
      "execution_count": 2,
      "outputs": [
        {
          "output_type": "stream",
          "name": "stdout",
          "text": [
            "Mounted at /content/drive\n"
          ]
        }
      ]
    },
    {
      "cell_type": "code",
      "source": [
        "# Load Dataset\n",
        "# storing path of the data in variable\n",
        "path = '/content/drive/MyDrive/almabetter/EDA/EDA- Airbnb First Castone Project/Data/Airbnb NYC 2019.csv'\n",
        "\n",
        "#using 'pd.read_csv' function to load csv file, it takes a file path or URL as an \n",
        "#input, and returns a DataFrame that contains the data from the CSV file\n",
        "\n",
        "airbnb_df = pd.read_csv(path)"
      ],
      "metadata": {
        "id": "4CkvbW_SlZ_R"
      },
      "execution_count": 3,
      "outputs": []
    },
    {
      "cell_type": "markdown",
      "source": [
        "### Dataset First View"
      ],
      "metadata": {
        "id": "x71ZqKXriCWQ"
      }
    },
    {
      "cell_type": "code",
      "source": [
        "# Dataset First Look\n",
        "airbnb_df.head()"
      ],
      "metadata": {
        "id": "LWNFOSvLl09H",
        "colab": {
          "base_uri": "https://localhost:8080/",
          "height": 0
        },
        "outputId": "f32d31d3-2bc7-4ff2-c57e-a17fe723dce7"
      },
      "execution_count": 4,
      "outputs": [
        {
          "output_type": "execute_result",
          "data": {
            "text/plain": [
              "     id                                              name  host_id  \\\n",
              "0  2539                Clean & quiet apt home by the park     2787   \n",
              "1  2595                             Skylit Midtown Castle     2845   \n",
              "2  3647               THE VILLAGE OF HARLEM....NEW YORK !     4632   \n",
              "3  3831                   Cozy Entire Floor of Brownstone     4869   \n",
              "4  5022  Entire Apt: Spacious Studio/Loft by central park     7192   \n",
              "\n",
              "     host_name neighbourhood_group neighbourhood  latitude  longitude  \\\n",
              "0         John            Brooklyn    Kensington     40.65     -73.97   \n",
              "1     Jennifer           Manhattan       Midtown     40.75     -73.98   \n",
              "2    Elisabeth           Manhattan        Harlem     40.81     -73.94   \n",
              "3  LisaRoxanne            Brooklyn  Clinton Hill     40.69     -73.96   \n",
              "4        Laura           Manhattan   East Harlem     40.80     -73.94   \n",
              "\n",
              "         room_type  price  minimum_nights  number_of_reviews last_review  \\\n",
              "0     Private room    149               1                  9  2018-10-19   \n",
              "1  Entire home/apt    225               1                 45  2019-05-21   \n",
              "2     Private room    150               3                  0         NaN   \n",
              "3  Entire home/apt     89               1                270  2019-07-05   \n",
              "4  Entire home/apt     80              10                  9  2018-11-19   \n",
              "\n",
              "   reviews_per_month  calculated_host_listings_count  availability_365  \n",
              "0               0.21                               6               365  \n",
              "1               0.38                               2               355  \n",
              "2                NaN                               1               365  \n",
              "3               4.64                               1               194  \n",
              "4               0.10                               1                 0  "
            ],
            "text/html": [
              "\n",
              "  <div id=\"df-56a86880-a34f-4b29-adcd-d6ce5bfefe03\">\n",
              "    <div class=\"colab-df-container\">\n",
              "      <div>\n",
              "<style scoped>\n",
              "    .dataframe tbody tr th:only-of-type {\n",
              "        vertical-align: middle;\n",
              "    }\n",
              "\n",
              "    .dataframe tbody tr th {\n",
              "        vertical-align: top;\n",
              "    }\n",
              "\n",
              "    .dataframe thead th {\n",
              "        text-align: right;\n",
              "    }\n",
              "</style>\n",
              "<table border=\"1\" class=\"dataframe\">\n",
              "  <thead>\n",
              "    <tr style=\"text-align: right;\">\n",
              "      <th></th>\n",
              "      <th>id</th>\n",
              "      <th>name</th>\n",
              "      <th>host_id</th>\n",
              "      <th>host_name</th>\n",
              "      <th>neighbourhood_group</th>\n",
              "      <th>neighbourhood</th>\n",
              "      <th>latitude</th>\n",
              "      <th>longitude</th>\n",
              "      <th>room_type</th>\n",
              "      <th>price</th>\n",
              "      <th>minimum_nights</th>\n",
              "      <th>number_of_reviews</th>\n",
              "      <th>last_review</th>\n",
              "      <th>reviews_per_month</th>\n",
              "      <th>calculated_host_listings_count</th>\n",
              "      <th>availability_365</th>\n",
              "    </tr>\n",
              "  </thead>\n",
              "  <tbody>\n",
              "    <tr>\n",
              "      <th>0</th>\n",
              "      <td>2539</td>\n",
              "      <td>Clean &amp; quiet apt home by the park</td>\n",
              "      <td>2787</td>\n",
              "      <td>John</td>\n",
              "      <td>Brooklyn</td>\n",
              "      <td>Kensington</td>\n",
              "      <td>40.65</td>\n",
              "      <td>-73.97</td>\n",
              "      <td>Private room</td>\n",
              "      <td>149</td>\n",
              "      <td>1</td>\n",
              "      <td>9</td>\n",
              "      <td>2018-10-19</td>\n",
              "      <td>0.21</td>\n",
              "      <td>6</td>\n",
              "      <td>365</td>\n",
              "    </tr>\n",
              "    <tr>\n",
              "      <th>1</th>\n",
              "      <td>2595</td>\n",
              "      <td>Skylit Midtown Castle</td>\n",
              "      <td>2845</td>\n",
              "      <td>Jennifer</td>\n",
              "      <td>Manhattan</td>\n",
              "      <td>Midtown</td>\n",
              "      <td>40.75</td>\n",
              "      <td>-73.98</td>\n",
              "      <td>Entire home/apt</td>\n",
              "      <td>225</td>\n",
              "      <td>1</td>\n",
              "      <td>45</td>\n",
              "      <td>2019-05-21</td>\n",
              "      <td>0.38</td>\n",
              "      <td>2</td>\n",
              "      <td>355</td>\n",
              "    </tr>\n",
              "    <tr>\n",
              "      <th>2</th>\n",
              "      <td>3647</td>\n",
              "      <td>THE VILLAGE OF HARLEM....NEW YORK !</td>\n",
              "      <td>4632</td>\n",
              "      <td>Elisabeth</td>\n",
              "      <td>Manhattan</td>\n",
              "      <td>Harlem</td>\n",
              "      <td>40.81</td>\n",
              "      <td>-73.94</td>\n",
              "      <td>Private room</td>\n",
              "      <td>150</td>\n",
              "      <td>3</td>\n",
              "      <td>0</td>\n",
              "      <td>NaN</td>\n",
              "      <td>NaN</td>\n",
              "      <td>1</td>\n",
              "      <td>365</td>\n",
              "    </tr>\n",
              "    <tr>\n",
              "      <th>3</th>\n",
              "      <td>3831</td>\n",
              "      <td>Cozy Entire Floor of Brownstone</td>\n",
              "      <td>4869</td>\n",
              "      <td>LisaRoxanne</td>\n",
              "      <td>Brooklyn</td>\n",
              "      <td>Clinton Hill</td>\n",
              "      <td>40.69</td>\n",
              "      <td>-73.96</td>\n",
              "      <td>Entire home/apt</td>\n",
              "      <td>89</td>\n",
              "      <td>1</td>\n",
              "      <td>270</td>\n",
              "      <td>2019-07-05</td>\n",
              "      <td>4.64</td>\n",
              "      <td>1</td>\n",
              "      <td>194</td>\n",
              "    </tr>\n",
              "    <tr>\n",
              "      <th>4</th>\n",
              "      <td>5022</td>\n",
              "      <td>Entire Apt: Spacious Studio/Loft by central park</td>\n",
              "      <td>7192</td>\n",
              "      <td>Laura</td>\n",
              "      <td>Manhattan</td>\n",
              "      <td>East Harlem</td>\n",
              "      <td>40.80</td>\n",
              "      <td>-73.94</td>\n",
              "      <td>Entire home/apt</td>\n",
              "      <td>80</td>\n",
              "      <td>10</td>\n",
              "      <td>9</td>\n",
              "      <td>2018-11-19</td>\n",
              "      <td>0.10</td>\n",
              "      <td>1</td>\n",
              "      <td>0</td>\n",
              "    </tr>\n",
              "  </tbody>\n",
              "</table>\n",
              "</div>\n",
              "      <button class=\"colab-df-convert\" onclick=\"convertToInteractive('df-56a86880-a34f-4b29-adcd-d6ce5bfefe03')\"\n",
              "              title=\"Convert this dataframe to an interactive table.\"\n",
              "              style=\"display:none;\">\n",
              "        \n",
              "  <svg xmlns=\"http://www.w3.org/2000/svg\" height=\"24px\"viewBox=\"0 0 24 24\"\n",
              "       width=\"24px\">\n",
              "    <path d=\"M0 0h24v24H0V0z\" fill=\"none\"/>\n",
              "    <path d=\"M18.56 5.44l.94 2.06.94-2.06 2.06-.94-2.06-.94-.94-2.06-.94 2.06-2.06.94zm-11 1L8.5 8.5l.94-2.06 2.06-.94-2.06-.94L8.5 2.5l-.94 2.06-2.06.94zm10 10l.94 2.06.94-2.06 2.06-.94-2.06-.94-.94-2.06-.94 2.06-2.06.94z\"/><path d=\"M17.41 7.96l-1.37-1.37c-.4-.4-.92-.59-1.43-.59-.52 0-1.04.2-1.43.59L10.3 9.45l-7.72 7.72c-.78.78-.78 2.05 0 2.83L4 21.41c.39.39.9.59 1.41.59.51 0 1.02-.2 1.41-.59l7.78-7.78 2.81-2.81c.8-.78.8-2.07 0-2.86zM5.41 20L4 18.59l7.72-7.72 1.47 1.35L5.41 20z\"/>\n",
              "  </svg>\n",
              "      </button>\n",
              "      \n",
              "  <style>\n",
              "    .colab-df-container {\n",
              "      display:flex;\n",
              "      flex-wrap:wrap;\n",
              "      gap: 12px;\n",
              "    }\n",
              "\n",
              "    .colab-df-convert {\n",
              "      background-color: #E8F0FE;\n",
              "      border: none;\n",
              "      border-radius: 50%;\n",
              "      cursor: pointer;\n",
              "      display: none;\n",
              "      fill: #1967D2;\n",
              "      height: 32px;\n",
              "      padding: 0 0 0 0;\n",
              "      width: 32px;\n",
              "    }\n",
              "\n",
              "    .colab-df-convert:hover {\n",
              "      background-color: #E2EBFA;\n",
              "      box-shadow: 0px 1px 2px rgba(60, 64, 67, 0.3), 0px 1px 3px 1px rgba(60, 64, 67, 0.15);\n",
              "      fill: #174EA6;\n",
              "    }\n",
              "\n",
              "    [theme=dark] .colab-df-convert {\n",
              "      background-color: #3B4455;\n",
              "      fill: #D2E3FC;\n",
              "    }\n",
              "\n",
              "    [theme=dark] .colab-df-convert:hover {\n",
              "      background-color: #434B5C;\n",
              "      box-shadow: 0px 1px 3px 1px rgba(0, 0, 0, 0.15);\n",
              "      filter: drop-shadow(0px 1px 2px rgba(0, 0, 0, 0.3));\n",
              "      fill: #FFFFFF;\n",
              "    }\n",
              "  </style>\n",
              "\n",
              "      <script>\n",
              "        const buttonEl =\n",
              "          document.querySelector('#df-56a86880-a34f-4b29-adcd-d6ce5bfefe03 button.colab-df-convert');\n",
              "        buttonEl.style.display =\n",
              "          google.colab.kernel.accessAllowed ? 'block' : 'none';\n",
              "\n",
              "        async function convertToInteractive(key) {\n",
              "          const element = document.querySelector('#df-56a86880-a34f-4b29-adcd-d6ce5bfefe03');\n",
              "          const dataTable =\n",
              "            await google.colab.kernel.invokeFunction('convertToInteractive',\n",
              "                                                     [key], {});\n",
              "          if (!dataTable) return;\n",
              "\n",
              "          const docLinkHtml = 'Like what you see? Visit the ' +\n",
              "            '<a target=\"_blank\" href=https://colab.research.google.com/notebooks/data_table.ipynb>data table notebook</a>'\n",
              "            + ' to learn more about interactive tables.';\n",
              "          element.innerHTML = '';\n",
              "          dataTable['output_type'] = 'display_data';\n",
              "          await google.colab.output.renderOutput(dataTable, element);\n",
              "          const docLink = document.createElement('div');\n",
              "          docLink.innerHTML = docLinkHtml;\n",
              "          element.appendChild(docLink);\n",
              "        }\n",
              "      </script>\n",
              "    </div>\n",
              "  </div>\n",
              "  "
            ]
          },
          "metadata": {},
          "execution_count": 4
        }
      ]
    },
    {
      "cell_type": "markdown",
      "source": [
        "### Dataset Rows & Columns count"
      ],
      "metadata": {
        "id": "7hBIi_osiCS2"
      }
    },
    {
      "cell_type": "code",
      "source": [
        "# Dataset Rows(observation) & Columns count(features)\n",
        "print(f'Shape: {airbnb_df.shape}')"
      ],
      "metadata": {
        "id": "Kllu7SJgmLij",
        "colab": {
          "base_uri": "https://localhost:8080/"
        },
        "outputId": "cc412226-412a-4c57-fce3-28cfdd7f182a"
      },
      "execution_count": 5,
      "outputs": [
        {
          "output_type": "stream",
          "name": "stdout",
          "text": [
            "Shape: (48895, 16)\n"
          ]
        }
      ]
    },
    {
      "cell_type": "markdown",
      "source": [
        "### Dataset Information"
      ],
      "metadata": {
        "id": "JlHwYmJAmNHm"
      }
    },
    {
      "cell_type": "code",
      "source": [
        "# Dataset Info\n",
        "airbnb_df.info()"
      ],
      "metadata": {
        "id": "e9hRXRi6meOf",
        "colab": {
          "base_uri": "https://localhost:8080/"
        },
        "outputId": "f3e2995c-cfeb-405b-8373-0af289f3f103"
      },
      "execution_count": 6,
      "outputs": [
        {
          "output_type": "stream",
          "name": "stdout",
          "text": [
            "<class 'pandas.core.frame.DataFrame'>\n",
            "RangeIndex: 48895 entries, 0 to 48894\n",
            "Data columns (total 16 columns):\n",
            " #   Column                          Non-Null Count  Dtype  \n",
            "---  ------                          --------------  -----  \n",
            " 0   id                              48895 non-null  int64  \n",
            " 1   name                            48879 non-null  object \n",
            " 2   host_id                         48895 non-null  int64  \n",
            " 3   host_name                       48874 non-null  object \n",
            " 4   neighbourhood_group             48895 non-null  object \n",
            " 5   neighbourhood                   48895 non-null  object \n",
            " 6   latitude                        48895 non-null  float64\n",
            " 7   longitude                       48895 non-null  float64\n",
            " 8   room_type                       48895 non-null  object \n",
            " 9   price                           48895 non-null  int64  \n",
            " 10  minimum_nights                  48895 non-null  int64  \n",
            " 11  number_of_reviews               48895 non-null  int64  \n",
            " 12  last_review                     38843 non-null  object \n",
            " 13  reviews_per_month               38843 non-null  float64\n",
            " 14  calculated_host_listings_count  48895 non-null  int64  \n",
            " 15  availability_365                48895 non-null  int64  \n",
            "dtypes: float64(3), int64(7), object(6)\n",
            "memory usage: 6.0+ MB\n"
          ]
        }
      ]
    },
    {
      "cell_type": "markdown",
      "source": [
        "#### Duplicate Values"
      ],
      "metadata": {
        "id": "35m5QtbWiB9F"
      }
    },
    {
      "cell_type": "code",
      "source": [
        "# Dataset Duplicate Value Count\n",
        "# airbnb_df.duplicated().value_counts()\n",
        "len(airbnb_df[airbnb_df.duplicated()])"
      ],
      "metadata": {
        "id": "1sLdpKYkmox0",
        "colab": {
          "base_uri": "https://localhost:8080/"
        },
        "outputId": "e5243d1c-a291-4aaf-b734-4bf92b122d70"
      },
      "execution_count": 7,
      "outputs": [
        {
          "output_type": "execute_result",
          "data": {
            "text/plain": [
              "0"
            ]
          },
          "metadata": {},
          "execution_count": 7
        }
      ]
    },
    {
      "cell_type": "markdown",
      "source": [
        "#### Missing Values/Null Values"
      ],
      "metadata": {
        "id": "PoPl-ycgm1ru"
      }
    },
    {
      "cell_type": "code",
      "source": [
        "# Missing Values/Null Values Count\n",
        "airbnb_df.isnull().sum()"
      ],
      "metadata": {
        "id": "GgHWkxvamxVg",
        "colab": {
          "base_uri": "https://localhost:8080/"
        },
        "outputId": "6eee02d4-f2e3-410c-ad82-522c22caa945"
      },
      "execution_count": 8,
      "outputs": [
        {
          "output_type": "execute_result",
          "data": {
            "text/plain": [
              "id                                    0\n",
              "name                                 16\n",
              "host_id                               0\n",
              "host_name                            21\n",
              "neighbourhood_group                   0\n",
              "neighbourhood                         0\n",
              "latitude                              0\n",
              "longitude                             0\n",
              "room_type                             0\n",
              "price                                 0\n",
              "minimum_nights                        0\n",
              "number_of_reviews                     0\n",
              "last_review                       10052\n",
              "reviews_per_month                 10052\n",
              "calculated_host_listings_count        0\n",
              "availability_365                      0\n",
              "dtype: int64"
            ]
          },
          "metadata": {},
          "execution_count": 8
        }
      ]
    },
    {
      "cell_type": "code",
      "source": [
        "# Visualizing the missing values\n",
        "# Checking Null Value by plotting Heatmap\n",
        "sns.heatmap(airbnb_df.isnull(), cbar=False);"
      ],
      "metadata": {
        "id": "3q5wnI3om9sJ",
        "colab": {
          "base_uri": "https://localhost:8080/",
          "height": 0
        },
        "outputId": "5b031bbe-3363-4276-dd25-9a36ba0d61d2"
      },
      "execution_count": 9,
      "outputs": [
        {
          "output_type": "display_data",
          "data": {
            "text/plain": [
              "<Figure size 432x288 with 1 Axes>"
            ],
            "image/png": "[encoded data removed]"
          },
          "metadata": {
            "needs_background": "light"
          }
        }
      ]
    },
    {
      "cell_type": "code",
      "source": [
        "#this will return column with atleast one null value\n",
        "airbnb_df.loc[:,airbnb_df.isna().sum()!=0][:5]"
      ],
      "metadata": {
        "colab": {
          "base_uri": "https://localhost:8080/",
          "height": 0
        },
        "id": "kJG4P8Seu5YG",
        "outputId": "40c94d7f-71d1-4afe-d2d6-4cf7d8f85b19"
      },
      "execution_count": 10,
      "outputs": [
        {
          "output_type": "execute_result",
          "data": {
            "text/plain": [
              "                                               name    host_name last_review  \\\n",
              "0                Clean & quiet apt home by the park         John  2018-10-19   \n",
              "1                             Skylit Midtown Castle     Jennifer  2019-05-21   \n",
              "2               THE VILLAGE OF HARLEM....NEW YORK !    Elisabeth         NaN   \n",
              "3                   Cozy Entire Floor of Brownstone  LisaRoxanne  2019-07-05   \n",
              "4  Entire Apt: Spacious Studio/Loft by central park        Laura  2018-11-19   \n",
              "\n",
              "   reviews_per_month  \n",
              "0               0.21  \n",
              "1               0.38  \n",
              "2                NaN  \n",
              "3               4.64  \n",
              "4               0.10  "
            ],
            "text/html": [
              "\n",
              "  <div id=\"df-0dff215d-d679-4f63-9133-d1407d244af8\">\n",
              "    <div class=\"colab-df-container\">\n",
              "      <div>\n",
              "<style scoped>\n",
              "    .dataframe tbody tr th:only-of-type {\n",
              "        vertical-align: middle;\n",
              "    }\n",
              "\n",
              "    .dataframe tbody tr th {\n",
              "        vertical-align: top;\n",
              "    }\n",
              "\n",
              "    .dataframe thead th {\n",
              "        text-align: right;\n",
              "    }\n",
              "</style>\n",
              "<table border=\"1\" class=\"dataframe\">\n",
              "  <thead>\n",
              "    <tr style=\"text-align: right;\">\n",
              "      <th></th>\n",
              "      <th>name</th>\n",
              "      <th>host_name</th>\n",
              "      <th>last_review</th>\n",
              "      <th>reviews_per_month</th>\n",
              "    </tr>\n",
              "  </thead>\n",
              "  <tbody>\n",
              "    <tr>\n",
              "      <th>0</th>\n",
              "      <td>Clean &amp; quiet apt home by the park</td>\n",
              "      <td>John</td>\n",
              "      <td>2018-10-19</td>\n",
              "      <td>0.21</td>\n",
              "    </tr>\n",
              "    <tr>\n",
              "      <th>1</th>\n",
              "      <td>Skylit Midtown Castle</td>\n",
              "      <td>Jennifer</td>\n",
              "      <td>2019-05-21</td>\n",
              "      <td>0.38</td>\n",
              "    </tr>\n",
              "    <tr>\n",
              "      <th>2</th>\n",
              "      <td>THE VILLAGE OF HARLEM....NEW YORK !</td>\n",
              "      <td>Elisabeth</td>\n",
              "      <td>NaN</td>\n",
              "      <td>NaN</td>\n",
              "    </tr>\n",
              "    <tr>\n",
              "      <th>3</th>\n",
              "      <td>Cozy Entire Floor of Brownstone</td>\n",
              "      <td>LisaRoxanne</td>\n",
              "      <td>2019-07-05</td>\n",
              "      <td>4.64</td>\n",
              "    </tr>\n",
              "    <tr>\n",
              "      <th>4</th>\n",
              "      <td>Entire Apt: Spacious Studio/Loft by central park</td>\n",
              "      <td>Laura</td>\n",
              "      <td>2018-11-19</td>\n",
              "      <td>0.10</td>\n",
              "    </tr>\n",
              "  </tbody>\n",
              "</table>\n",
              "</div>\n",
              "      <button class=\"colab-df-convert\" onclick=\"convertToInteractive('df-0dff215d-d679-4f63-9133-d1407d244af8')\"\n",
              "              title=\"Convert this dataframe to an interactive table.\"\n",
              "              style=\"display:none;\">\n",
              "        \n",
              "  <svg xmlns=\"http://www.w3.org/2000/svg\" height=\"24px\"viewBox=\"0 0 24 24\"\n",
              "       width=\"24px\">\n",
              "    <path d=\"M0 0h24v24H0V0z\" fill=\"none\"/>\n",
              "    <path d=\"M18.56 5.44l.94 2.06.94-2.06 2.06-.94-2.06-.94-.94-2.06-.94 2.06-2.06.94zm-11 1L8.5 8.5l.94-2.06 2.06-.94-2.06-.94L8.5 2.5l-.94 2.06-2.06.94zm10 10l.94 2.06.94-2.06 2.06-.94-2.06-.94-.94-2.06-.94 2.06-2.06.94z\"/><path d=\"M17.41 7.96l-1.37-1.37c-.4-.4-.92-.59-1.43-.59-.52 0-1.04.2-1.43.59L10.3 9.45l-7.72 7.72c-.78.78-.78 2.05 0 2.83L4 21.41c.39.39.9.59 1.41.59.51 0 1.02-.2 1.41-.59l7.78-7.78 2.81-2.81c.8-.78.8-2.07 0-2.86zM5.41 20L4 18.59l7.72-7.72 1.47 1.35L5.41 20z\"/>\n",
              "  </svg>\n",
              "      </button>\n",
              "      \n",
              "  <style>\n",
              "    .colab-df-container {\n",
              "      display:flex;\n",
              "      flex-wrap:wrap;\n",
              "      gap: 12px;\n",
              "    }\n",
              "\n",
              "    .colab-df-convert {\n",
              "      background-color: #E8F0FE;\n",
              "      border: none;\n",
              "      border-radius: 50%;\n",
              "      cursor: pointer;\n",
              "      display: none;\n",
              "      fill: #1967D2;\n",
              "      height: 32px;\n",
              "      padding: 0 0 0 0;\n",
              "      width: 32px;\n",
              "    }\n",
              "\n",
              "    .colab-df-convert:hover {\n",
              "      background-color: #E2EBFA;\n",
              "      box-shadow: 0px 1px 2px rgba(60, 64, 67, 0.3), 0px 1px 3px 1px rgba(60, 64, 67, 0.15);\n",
              "      fill: #174EA6;\n",
              "    }\n",
              "\n",
              "    [theme=dark] .colab-df-convert {\n",
              "      background-color: #3B4455;\n",
              "      fill: #D2E3FC;\n",
              "    }\n",
              "\n",
              "    [theme=dark] .colab-df-convert:hover {\n",
              "      background-color: #434B5C;\n",
              "      box-shadow: 0px 1px 3px 1px rgba(0, 0, 0, 0.15);\n",
              "      filter: drop-shadow(0px 1px 2px rgba(0, 0, 0, 0.3));\n",
              "      fill: #FFFFFF;\n",
              "    }\n",
              "  </style>\n",
              "\n",
              "      <script>\n",
              "        const buttonEl =\n",
              "          document.querySelector('#df-0dff215d-d679-4f63-9133-d1407d244af8 button.colab-df-convert');\n",
              "        buttonEl.style.display =\n",
              "          google.colab.kernel.accessAllowed ? 'block' : 'none';\n",
              "\n",
              "        async function convertToInteractive(key) {\n",
              "          const element = document.querySelector('#df-0dff215d-d679-4f63-9133-d1407d244af8');\n",
              "          const dataTable =\n",
              "            await google.colab.kernel.invokeFunction('convertToInteractive',\n",
              "                                                     [key], {});\n",
              "          if (!dataTable) return;\n",
              "\n",
              "          const docLinkHtml = 'Like what you see? Visit the ' +\n",
              "            '<a target=\"_blank\" href=https://colab.research.google.com/notebooks/data_table.ipynb>data table notebook</a>'\n",
              "            + ' to learn more about interactive tables.';\n",
              "          element.innerHTML = '';\n",
              "          dataTable['output_type'] = 'display_data';\n",
              "          await google.colab.output.renderOutput(dataTable, element);\n",
              "          const docLink = document.createElement('div');\n",
              "          docLink.innerHTML = docLinkHtml;\n",
              "          element.appendChild(docLink);\n",
              "        }\n",
              "      </script>\n",
              "    </div>\n",
              "  </div>\n",
              "  "
            ]
          },
          "metadata": {},
          "execution_count": 10
        }
      ]
    },
    {
      "cell_type": "code",
      "source": [
        "# Missing Value Count Function\n",
        "def showMissing():\n",
        "    missing = airbnb_df.columns[airbnb_df.isnull().any()].tolist()\n",
        "    return missing\n",
        "\n",
        "missingVal = pd.DataFrame()\n",
        "missingVal['Missing Data Count'] = airbnb_df[showMissing()].isnull().sum().sort_values(ascending = False)\n",
        "missingVal['Missing Data Percentage'] = airbnb_df[showMissing()].isnull().sum().sort_values(ascending = False)/len(airbnb_df)*100\n",
        "\n",
        "print(missingVal)"
      ],
      "metadata": {
        "colab": {
          "base_uri": "https://localhost:8080/"
        },
        "id": "h5kZsD4DwMK3",
        "outputId": "c29359cb-7df6-4a73-a8ca-2527060af3d3"
      },
      "execution_count": 11,
      "outputs": [
        {
          "output_type": "stream",
          "name": "stdout",
          "text": [
            "                   Missing Data Count  Missing Data Percentage\n",
            "last_review                     10052                    20.56\n",
            "reviews_per_month               10052                    20.56\n",
            "host_name                          21                     0.04\n",
            "name                               16                     0.03\n"
          ]
        }
      ]
    },
    {
      "cell_type": "markdown",
      "source": [
        "### What did you know about your dataset?"
      ],
      "metadata": {
        "id": "H0kj-8xxnORC"
      }
    },
    {
      "cell_type": "markdown",
      "source": [
        "These observation can be concluded from the above analysis:\n",
        "1.   There are 48895 observation and 16 features with a mixture of interger, float and object data type i.e., contains both numerical and categorial feature.\n",
        "2.   Last_review feature is a date but has object data type, need to change it to correct data type.\n",
        "3.   Dataset contains all unique value i.e., there is no duplicate.\n",
        "4. Some of the features like name, host_name, last_review and reviews_per_month has null values.\n",
        "\n"
      ],
      "metadata": {
        "id": "gfoNAAC-nUe_"
      }
    },
    {
      "cell_type": "markdown",
      "source": [
        "## ***2. Understanding Your Variables***"
      ],
      "metadata": {
        "id": "nA9Y7ga8ng1Z"
      }
    },
    {
      "cell_type": "code",
      "source": [
        "# Dataset Columns\n",
        "print(f'Features : {airbnb_df.columns.to_list()}')"
      ],
      "metadata": {
        "id": "j7xfkqrt5Ag5",
        "colab": {
          "base_uri": "https://localhost:8080/"
        },
        "outputId": "f90091bf-853a-419c-c49a-30d2a2a906a7"
      },
      "execution_count": 12,
      "outputs": [
        {
          "output_type": "stream",
          "name": "stdout",
          "text": [
            "Features : ['id', 'name', 'host_id', 'host_name', 'neighbourhood_group', 'neighbourhood', 'latitude', 'longitude', 'room_type', 'price', 'minimum_nights', 'number_of_reviews', 'last_review', 'reviews_per_month', 'calculated_host_listings_count', 'availability_365']\n"
          ]
        }
      ]
    },
    {
      "cell_type": "code",
      "source": [
        "# Dataset Describe\n",
        "airbnb_df.describe()"
      ],
      "metadata": {
        "id": "DnOaZdaE5Q5t",
        "colab": {
          "base_uri": "https://localhost:8080/",
          "height": 0
        },
        "outputId": "b6e982fd-0f0a-4605-cca5-a87073716ffd"
      },
      "execution_count": 13,
      "outputs": [
        {
          "output_type": "execute_result",
          "data": {
            "text/plain": [
              "               id      host_id  latitude  longitude    price  minimum_nights  \\\n",
              "count    48895.00     48895.00  48895.00   48895.00 48895.00        48895.00   \n",
              "mean  19017143.24  67620010.65     40.73     -73.95   152.72            7.03   \n",
              "std   10983108.39  78610967.03      0.05       0.05   240.15           20.51   \n",
              "min       2539.00      2438.00     40.50     -74.24     0.00            1.00   \n",
              "25%    9471945.00   7822033.00     40.69     -73.98    69.00            1.00   \n",
              "50%   19677284.00  30793816.00     40.72     -73.96   106.00            3.00   \n",
              "75%   29152178.50 107434423.00     40.76     -73.94   175.00            5.00   \n",
              "max   36487245.00 274321313.00     40.91     -73.71 10000.00         1250.00   \n",
              "\n",
              "       number_of_reviews  reviews_per_month  calculated_host_listings_count  \\\n",
              "count           48895.00           38843.00                        48895.00   \n",
              "mean               23.27               1.37                            7.14   \n",
              "std                44.55               1.68                           32.95   \n",
              "min                 0.00               0.01                            1.00   \n",
              "25%                 1.00               0.19                            1.00   \n",
              "50%                 5.00               0.72                            1.00   \n",
              "75%                24.00               2.02                            2.00   \n",
              "max               629.00              58.50                          327.00   \n",
              "\n",
              "       availability_365  \n",
              "count          48895.00  \n",
              "mean             112.78  \n",
              "std              131.62  \n",
              "min                0.00  \n",
              "25%                0.00  \n",
              "50%               45.00  \n",
              "75%              227.00  \n",
              "max              365.00  "
            ],
            "text/html": [
              "\n",
              "  <div id=\"df-a6389135-c08d-4f81-b2d7-4fad9af2e833\">\n",
              "    <div class=\"colab-df-container\">\n",
              "      <div>\n",
              "<style scoped>\n",
              "    .dataframe tbody tr th:only-of-type {\n",
              "        vertical-align: middle;\n",
              "    }\n",
              "\n",
              "    .dataframe tbody tr th {\n",
              "        vertical-align: top;\n",
              "    }\n",
              "\n",
              "    .dataframe thead th {\n",
              "        text-align: right;\n",
              "    }\n",
              "</style>\n",
              "<table border=\"1\" class=\"dataframe\">\n",
              "  <thead>\n",
              "    <tr style=\"text-align: right;\">\n",
              "      <th></th>\n",
              "      <th>id</th>\n",
              "      <th>host_id</th>\n",
              "      <th>latitude</th>\n",
              "      <th>longitude</th>\n",
              "      <th>price</th>\n",
              "      <th>minimum_nights</th>\n",
              "      <th>number_of_reviews</th>\n",
              "      <th>reviews_per_month</th>\n",
              "      <th>calculated_host_listings_count</th>\n",
              "      <th>availability_365</th>\n",
              "    </tr>\n",
              "  </thead>\n",
              "  <tbody>\n",
              "    <tr>\n",
              "      <th>count</th>\n",
              "      <td>48895.00</td>\n",
              "      <td>48895.00</td>\n",
              "      <td>48895.00</td>\n",
              "      <td>48895.00</td>\n",
              "      <td>48895.00</td>\n",
              "      <td>48895.00</td>\n",
              "      <td>48895.00</td>\n",
              "      <td>38843.00</td>\n",
              "      <td>48895.00</td>\n",
              "      <td>48895.00</td>\n",
              "    </tr>\n",
              "    <tr>\n",
              "      <th>mean</th>\n",
              "      <td>19017143.24</td>\n",
              "      <td>67620010.65</td>\n",
              "      <td>40.73</td>\n",
              "      <td>-73.95</td>\n",
              "      <td>152.72</td>\n",
              "      <td>7.03</td>\n",
              "      <td>23.27</td>\n",
              "      <td>1.37</td>\n",
              "      <td>7.14</td>\n",
              "      <td>112.78</td>\n",
              "    </tr>\n",
              "    <tr>\n",
              "      <th>std</th>\n",
              "      <td>10983108.39</td>\n",
              "      <td>78610967.03</td>\n",
              "      <td>0.05</td>\n",
              "      <td>0.05</td>\n",
              "      <td>240.15</td>\n",
              "      <td>20.51</td>\n",
              "      <td>44.55</td>\n",
              "      <td>1.68</td>\n",
              "      <td>32.95</td>\n",
              "      <td>131.62</td>\n",
              "    </tr>\n",
              "    <tr>\n",
              "      <th>min</th>\n",
              "      <td>2539.00</td>\n",
              "      <td>2438.00</td>\n",
              "      <td>40.50</td>\n",
              "      <td>-74.24</td>\n",
              "      <td>0.00</td>\n",
              "      <td>1.00</td>\n",
              "      <td>0.00</td>\n",
              "      <td>0.01</td>\n",
              "      <td>1.00</td>\n",
              "      <td>0.00</td>\n",
              "    </tr>\n",
              "    <tr>\n",
              "      <th>25%</th>\n",
              "      <td>9471945.00</td>\n",
              "      <td>7822033.00</td>\n",
              "      <td>40.69</td>\n",
              "      <td>-73.98</td>\n",
              "      <td>69.00</td>\n",
              "      <td>1.00</td>\n",
              "      <td>1.00</td>\n",
              "      <td>0.19</td>\n",
              "      <td>1.00</td>\n",
              "      <td>0.00</td>\n",
              "    </tr>\n",
              "    <tr>\n",
              "      <th>50%</th>\n",
              "      <td>19677284.00</td>\n",
              "      <td>30793816.00</td>\n",
              "      <td>40.72</td>\n",
              "      <td>-73.96</td>\n",
              "      <td>106.00</td>\n",
              "      <td>3.00</td>\n",
              "      <td>5.00</td>\n",
              "      <td>0.72</td>\n",
              "      <td>1.00</td>\n",
              "      <td>45.00</td>\n",
              "    </tr>\n",
              "    <tr>\n",
              "      <th>75%</th>\n",
              "      <td>29152178.50</td>\n",
              "      <td>107434423.00</td>\n",
              "      <td>40.76</td>\n",
              "      <td>-73.94</td>\n",
              "      <td>175.00</td>\n",
              "      <td>5.00</td>\n",
              "      <td>24.00</td>\n",
              "      <td>2.02</td>\n",
              "      <td>2.00</td>\n",
              "      <td>227.00</td>\n",
              "    </tr>\n",
              "    <tr>\n",
              "      <th>max</th>\n",
              "      <td>36487245.00</td>\n",
              "      <td>274321313.00</td>\n",
              "      <td>40.91</td>\n",
              "      <td>-73.71</td>\n",
              "      <td>10000.00</td>\n",
              "      <td>1250.00</td>\n",
              "      <td>629.00</td>\n",
              "      <td>58.50</td>\n",
              "      <td>327.00</td>\n",
              "      <td>365.00</td>\n",
              "    </tr>\n",
              "  </tbody>\n",
              "</table>\n",
              "</div>\n",
              "      <button class=\"colab-df-convert\" onclick=\"convertToInteractive('df-a6389135-c08d-4f81-b2d7-4fad9af2e833')\"\n",
              "              title=\"Convert this dataframe to an interactive table.\"\n",
              "              style=\"display:none;\">\n",
              "        \n",
              "  <svg xmlns=\"http://www.w3.org/2000/svg\" height=\"24px\"viewBox=\"0 0 24 24\"\n",
              "       width=\"24px\">\n",
              "    <path d=\"M0 0h24v24H0V0z\" fill=\"none\"/>\n",
              "    <path d=\"M18.56 5.44l.94 2.06.94-2.06 2.06-.94-2.06-.94-.94-2.06-.94 2.06-2.06.94zm-11 1L8.5 8.5l.94-2.06 2.06-.94-2.06-.94L8.5 2.5l-.94 2.06-2.06.94zm10 10l.94 2.06.94-2.06 2.06-.94-2.06-.94-.94-2.06-.94 2.06-2.06.94z\"/><path d=\"M17.41 7.96l-1.37-1.37c-.4-.4-.92-.59-1.43-.59-.52 0-1.04.2-1.43.59L10.3 9.45l-7.72 7.72c-.78.78-.78 2.05 0 2.83L4 21.41c.39.39.9.59 1.41.59.51 0 1.02-.2 1.41-.59l7.78-7.78 2.81-2.81c.8-.78.8-2.07 0-2.86zM5.41 20L4 18.59l7.72-7.72 1.47 1.35L5.41 20z\"/>\n",
              "  </svg>\n",
              "      </button>\n",
              "      \n",
              "  <style>\n",
              "    .colab-df-container {\n",
              "      display:flex;\n",
              "      flex-wrap:wrap;\n",
              "      gap: 12px;\n",
              "    }\n",
              "\n",
              "    .colab-df-convert {\n",
              "      background-color: #E8F0FE;\n",
              "      border: none;\n",
              "      border-radius: 50%;\n",
              "      cursor: pointer;\n",
              "      display: none;\n",
              "      fill: #1967D2;\n",
              "      height: 32px;\n",
              "      padding: 0 0 0 0;\n",
              "      width: 32px;\n",
              "    }\n",
              "\n",
              "    .colab-df-convert:hover {\n",
              "      background-color: #E2EBFA;\n",
              "      box-shadow: 0px 1px 2px rgba(60, 64, 67, 0.3), 0px 1px 3px 1px rgba(60, 64, 67, 0.15);\n",
              "      fill: #174EA6;\n",
              "    }\n",
              "\n",
              "    [theme=dark] .colab-df-convert {\n",
              "      background-color: #3B4455;\n",
              "      fill: #D2E3FC;\n",
              "    }\n",
              "\n",
              "    [theme=dark] .colab-df-convert:hover {\n",
              "      background-color: #434B5C;\n",
              "      box-shadow: 0px 1px 3px 1px rgba(0, 0, 0, 0.15);\n",
              "      filter: drop-shadow(0px 1px 2px rgba(0, 0, 0, 0.3));\n",
              "      fill: #FFFFFF;\n",
              "    }\n",
              "  </style>\n",
              "\n",
              "      <script>\n",
              "        const buttonEl =\n",
              "          document.querySelector('#df-a6389135-c08d-4f81-b2d7-4fad9af2e833 button.colab-df-convert');\n",
              "        buttonEl.style.display =\n",
              "          google.colab.kernel.accessAllowed ? 'block' : 'none';\n",
              "\n",
              "        async function convertToInteractive(key) {\n",
              "          const element = document.querySelector('#df-a6389135-c08d-4f81-b2d7-4fad9af2e833');\n",
              "          const dataTable =\n",
              "            await google.colab.kernel.invokeFunction('convertToInteractive',\n",
              "                                                     [key], {});\n",
              "          if (!dataTable) return;\n",
              "\n",
              "          const docLinkHtml = 'Like what you see? Visit the ' +\n",
              "            '<a target=\"_blank\" href=https://colab.research.google.com/notebooks/data_table.ipynb>data table notebook</a>'\n",
              "            + ' to learn more about interactive tables.';\n",
              "          element.innerHTML = '';\n",
              "          dataTable['output_type'] = 'display_data';\n",
              "          await google.colab.output.renderOutput(dataTable, element);\n",
              "          const docLink = document.createElement('div');\n",
              "          docLink.innerHTML = docLinkHtml;\n",
              "          element.appendChild(docLink);\n",
              "        }\n",
              "      </script>\n",
              "    </div>\n",
              "  </div>\n",
              "  "
            ]
          },
          "metadata": {},
          "execution_count": 13
        }
      ]
    },
    {
      "cell_type": "markdown",
      "source": [
        "### Variables Description "
      ],
      "metadata": {
        "id": "PBTbrJXOngz2"
      }
    },
    {
      "cell_type": "markdown",
      "source": [
        "* **id** : Unique Id generated while storing data \n",
        "* **name** : Name of the listing\n",
        "* **host_id** : The host id is assigned to each host by Airbnb and is used to identify and distinguish hosts from one another.\n",
        "* **host_name** : The host name is typically the name of the person who owns the property or is authorized to list it on Airbnb. \n",
        "* **neighbourhood_group** : Location of the listing / categorical variable that indicates the general geographic area in which a listing is located.\n",
        "* **neighbourhood** : area of the listing \n",
        "* **latitude** : Latitude range of the listing \n",
        "* **longitude** : Longitude range of the listing \n",
        "* **room_type** : Type of the listing \n",
        "* **price** : Price of the listing\n",
        "* **minimum_nights** : Minimum nights to be paid for\n",
        "* **number_of_reviews** : Number of reviews for the listing\n",
        "* **last_review** : Content of the last review\n",
        "* **reviews_per_month** : Average number of reviews that a listing receives per month\n",
        "* **calculated_host_listings_count** : Total number of listings that a host has on the Airbnb platform\n",
        "* **availability_365** : The number of days in a year that a listing is available for booking on the Airbnb platform based on the listing's calendar, and reflects the number of days in the future that the listing is marked as available for booking.\n",
        "\n"
      ],
      "metadata": {
        "id": "aJV4KIxSnxay"
      }
    },
    {
      "cell_type": "markdown",
      "source": [
        "### Check Unique Values for each variable."
      ],
      "metadata": {
        "id": "u3PMJOP6ngxN"
      }
    },
    {
      "cell_type": "code",
      "source": [
        "# Check Unique Values for each variable.\n",
        "# airbnb_df.nunique()\n",
        "for i in airbnb_df.columns.tolist():\n",
        "  print(f\"No. of unique values in {i} is {airbnb_df[i].nunique()}.\")"
      ],
      "metadata": {
        "id": "zms12Yq5n-jE",
        "colab": {
          "base_uri": "https://localhost:8080/"
        },
        "outputId": "6f451079-523f-40cb-cac3-84a63f18bac4"
      },
      "execution_count": 14,
      "outputs": [
        {
          "output_type": "stream",
          "name": "stdout",
          "text": [
            "No. of unique values in id is 48895.\n",
            "No. of unique values in name is 47905.\n",
            "No. of unique values in host_id is 37457.\n",
            "No. of unique values in host_name is 11452.\n",
            "No. of unique values in neighbourhood_group is 5.\n",
            "No. of unique values in neighbourhood is 221.\n",
            "No. of unique values in latitude is 19048.\n",
            "No. of unique values in longitude is 14718.\n",
            "No. of unique values in room_type is 3.\n",
            "No. of unique values in price is 674.\n",
            "No. of unique values in minimum_nights is 109.\n",
            "No. of unique values in number_of_reviews is 394.\n",
            "No. of unique values in last_review is 1764.\n",
            "No. of unique values in reviews_per_month is 937.\n",
            "No. of unique values in calculated_host_listings_count is 47.\n",
            "No. of unique values in availability_365 is 366.\n"
          ]
        }
      ]
    },
    {
      "cell_type": "markdown",
      "source": [
        "## 3. ***Data Wrangling***"
      ],
      "metadata": {
        "id": "dauF4eBmngu3"
      }
    },
    {
      "cell_type": "markdown",
      "source": [
        "### Data Wrangling Code"
      ],
      "metadata": {
        "id": "bKJF3rekwFvQ"
      }
    },
    {
      "cell_type": "code",
      "source": [
        "# Write your code to make your dataset analysis ready.\n",
        "df = airbnb_df.copy()  #creating copy to keep original dataset safe"
      ],
      "metadata": {
        "id": "wk-9a2fpoLcV"
      },
      "execution_count": 15,
      "outputs": []
    },
    {
      "cell_type": "code",
      "source": [
        "#changing data type for last review \n",
        "df['last_review'] = pd.to_datetime(df['last_review'], infer_datetime_format=True)\n",
        "\n",
        "#calculating total count of observation where number of review is equal to 0\n",
        "len(df[df['number_of_reviews']== 0])"
      ],
      "metadata": {
        "colab": {
          "base_uri": "https://localhost:8080/"
        },
        "id": "DbXfewD--dRj",
        "outputId": "36c4bc72-61a7-423c-863b-b2e3ff0fdefd"
      },
      "execution_count": 16,
      "outputs": [
        {
          "output_type": "execute_result",
          "data": {
            "text/plain": [
              "10052"
            ]
          },
          "metadata": {},
          "execution_count": 16
        }
      ]
    },
    {
      "cell_type": "code",
      "source": [
        "#replacing null values with possible data\n",
        "\n",
        "#categorial value like name and host name is replace with not known \n",
        "df['name'].fillna('not known',inplace = True)\n",
        "df['host_name'].fillna('not known',inplace = True)\n",
        "\n",
        "#replacing numerical value for reviews per month with 0 as number of review is 0 for those values\n",
        "df['reviews_per_month'].fillna(0,inplace = True)"
      ],
      "metadata": {
        "id": "xRl-bjphOLPg"
      },
      "execution_count": 17,
      "outputs": []
    },
    {
      "cell_type": "code",
      "source": [
        "#dropping last review column as it can only provide information about the timeliness of the data being analyzed\n",
        "df.drop(['last_review'], axis=1,inplace = True)\n",
        "df.isnull().sum()"
      ],
      "metadata": {
        "colab": {
          "base_uri": "https://localhost:8080/"
        },
        "id": "lQe1u51wPU3K",
        "outputId": "704e3d3d-f09e-4685-c5ca-a45a85152952"
      },
      "execution_count": 18,
      "outputs": [
        {
          "output_type": "execute_result",
          "data": {
            "text/plain": [
              "id                                0\n",
              "name                              0\n",
              "host_id                           0\n",
              "host_name                         0\n",
              "neighbourhood_group               0\n",
              "neighbourhood                     0\n",
              "latitude                          0\n",
              "longitude                         0\n",
              "room_type                         0\n",
              "price                             0\n",
              "minimum_nights                    0\n",
              "number_of_reviews                 0\n",
              "reviews_per_month                 0\n",
              "calculated_host_listings_count    0\n",
              "availability_365                  0\n",
              "dtype: int64"
            ]
          },
          "metadata": {},
          "execution_count": 18
        }
      ]
    },
    {
      "cell_type": "code",
      "source": [
        "# Calculate the median of the feature price\n",
        "median = df['price'].median()\n",
        "\n",
        "# Replace 0 with the median\n",
        "df['price'].replace(0, median, inplace=True)"
      ],
      "metadata": {
        "id": "vjFiPTp2SFwN"
      },
      "execution_count": 19,
      "outputs": []
    },
    {
      "cell_type": "code",
      "source": [
        "#calculating total count of observation where number of review is equal to 0\n",
        "len(df[df['price']== 0])"
      ],
      "metadata": {
        "colab": {
          "base_uri": "https://localhost:8080/"
        },
        "id": "TbIeUjnASYRm",
        "outputId": "22590688-b135-482f-c20d-c86aa9c69a88"
      },
      "execution_count": 20,
      "outputs": [
        {
          "output_type": "execute_result",
          "data": {
            "text/plain": [
              "0"
            ]
          },
          "metadata": {},
          "execution_count": 20
        }
      ]
    },
    {
      "cell_type": "code",
      "source": [
        "#calculating number of potential booking each can take\n",
        "df['number_of_bookings'] = (df['availability_365'] / df['minimum_nights']).astype(int)\n",
        "df['potential_revenue_per_year'] = df['number_of_bookings']* df['price']"
      ],
      "metadata": {
        "id": "iwavWUW70dG8"
      },
      "execution_count": 21,
      "outputs": []
    },
    {
      "cell_type": "code",
      "source": [
        "# Save the DataFrame to a CSV file\n",
        "# df.to_csv('output.csv', index=False)"
      ],
      "metadata": {
        "id": "u7ACkkBMbz25"
      },
      "execution_count": 22,
      "outputs": []
    },
    {
      "cell_type": "markdown",
      "source": [
        "### What all manipulations have you done and insights you found?"
      ],
      "metadata": {
        "id": "MSa1f5Uengrz"
      }
    },
    {
      "cell_type": "markdown",
      "source": [
        "\n",
        "In order to proceed and find the insight from the data it was important to make it consistent, therefore i first changed ***data type*** for '***last_review***' feature as it represent date but had object data type. so change it into ***datetime*** data type. Secondly, it was important to deal with null values, therefore i changed the ***name*** and ***host_name*** null value with ***'not known'***. Since total count of number of review equal to zero was equal to the count of null values in ***review per month***, and as there was no review for the month therefore review per month should also be zero therefore, i changed null value with ***zero***. Thirdly, since ***minimum value*** for ***price*** was ***zero***, and since there is no specific data available why it was zero for example whether any discount was given or because of some other reason, therefore i changed zero value with ***median*** as median is less sensitive to the presence of outliers than the mean, and can provide a more accurate representation of the central tendency of the data in these cases. Next added ***new column - number_of_booking*** and ***potenial_revenue_per_year*** as it will be helpful in forecasting potential revenue it can generate throughout year if ideally booked based on availability. Finally ***dropped*** the ***last_review*** date column even though it can be used to know how old our data can be and in sentiment analysis, but in the context of this analysis it may not be used. Ignored ***availability_365*** ***zero*** values to understand how these values are affecting overall business as being an airbnb host you should be available for atleast more than 1 day in entire year, its better to figure out what the reason may be,so a better anlysis on these number was needed. Then dumped the cleaned data into csv format for visual anlaysis in tableau."
      ],
      "metadata": {
        "id": "LbyXE7I1olp8"
      }
    },
    {
      "cell_type": "markdown",
      "source": [
        "## ***4. Data Vizualization, Storytelling & Experimenting with charts : Understand the relationships between variables***"
      ],
      "metadata": {
        "id": "GF8Ens_Soomf"
      }
    },
    {
      "cell_type": "markdown",
      "source": [
        "###Univariate Analysis"
      ],
      "metadata": {
        "id": "_B-7AtNHD2BN"
      }
    },
    {
      "cell_type": "markdown",
      "source": [
        "#### Chart - 1 Distplot - Dependent Variable - Price"
      ],
      "metadata": {
        "id": "0wOQAZs5pc--"
      }
    },
    {
      "cell_type": "code",
      "source": [
        "# Chart - 1 visualization code\n",
        "fig = px.histogram(df, x=\"price\");\n",
        "fig.show()"
      ],
      "metadata": {
        "id": "7v_ESjsspbW7",
        "colab": {
          "base_uri": "https://localhost:8080/",
          "height": 542
        },
        "outputId": "875d4e01-62f5-4f49-f7f8-2bf40404194f"
      },
      "execution_count": 23,
      "outputs": [
        {
          "output_type": "display_data",
          "data": {
            "text/html": [
              "<html>\n",
              "<head><meta charset=\"utf-8\" /></head>\n",
              "<body>\n",
              "    <div>            <script src=\"https://cdnjs.cloudflare.com/ajax/libs/mathjax/2.7.5/MathJax.js?config=TeX-AMS-MML_SVG\"></script><script type=\"text/javascript\">if (window.MathJax) {MathJax.Hub.Config({SVG: {font: \"STIX-Web\"}});}</script>                <script type=\"text/javascript\">window.PlotlyConfig = {MathJaxConfig: 'local'};</script>\n",
              "        <script src=\"https://cdn.plot.ly/plotly-2.8.3.min.js\"></script>                <div id=\"f0715741-e884-4808-97c8-438f31fc87bd\" class=\"plotly-graph-div\" style=\"height:525px; width:100%;\"></div>            <script type=\"text/javascript\">                                    window.PLOTLYENV=window.PLOTLYENV || {};                                    if (document.getElementById(\"f0715741-e884-4808-97c8-438f31fc87bd\")) {                    Plotly.newPlot(                        \"f0715741-e884-4808-97c8-438f31fc87bd\",                        [{\"alignmentgroup\":\"True\",\"bingroup\":\"x\",\"hovertemplate\":\"price=%{x}<br>count=%{y}<extra></extra>\",\"legendgroup\":\"\",\"marker\":{\"color\":\"#636efa\",\"pattern\":{\"shape\":\"\"}},\"name\":\"\",\"offsetgroup\":\"\",\"orientation\":\"v\",\"showlegend\":false,\"x\":[149,225,150,89,80,200,60,79,79,150,135,85,89,85,120,140,215,140,99,190,299,130,80,110,120,60,80,150,44,180,50,52,55,50,70,89,35,85,150,40,68,120,120,135,150,150,130,110,115,80,80,151,228,144,200,150,110,69,49,180,80,375,250,200,55,52,225,80,275,99,225,230,51,65,105,190,200,70,95,150,145,110,285,130,94,800,105,60,50,85,65,131,98,250,100,105,140,89,98,125,60,175,65,500,101,220,125,80,100,200,59,125,140,120,350,199,325,235,225,99,170,400,170,100,75,90,150,85,70,120,89,185,50,105,130,115,77,76,125,135,250,199,140,140,115,160,195,195,80,44,156,85,125,115,69,225,125,219,475,99,69,79,135,250,250,250,80,70,165,70,50,40,150,125,196,110,170,165,150,100,65,350,99,200,150,90,120,75,175,125,275,299,135,130,83,123,55,195,80,98,140,265,249,105,200,100,121,45,100,140,71,130,199,69,68,130,195,64,140,159,189,250,239,305,155,60,135,120,150,140,135,250,250,500,225,125,92,175,99,195,140,135,500,80,120,110,65,130,99,36,37,37,175,205,285,59,36,99,39,60,90,105,135,390,70,75,60,200,100,70,110,60,90,68,115,75,60,129,130,95,75,175,190,49,212,95,140,135,150,190,124,135,122,109,85,145,195,250,125,575,150,70,90,65,500,250,125,200,229,90,110,59,195,169,113,250,115,55,69,150,169,179,150,135,350,120,71,349,349,165,249,100,200,169,185,65,130,199,225,179,150,139,95,79,150,650,90,120,80,100,175,120,140,200,165,125,130,65,123,67,50,130,100,212,190,599,249,70,100,60,135,175,120,169,165,90,225,95,55,85,199,211,145,65,99,110,80,150,110,290,87,190,200,165,110,395,99,39,189,85,260,122,165,97,170,125,130,225,50,170,132,250,141,64,249,79,185,120,495,375,175,150,259,96,145,200,95,250,295,175,451,165,250,77,250,129,98,150,95,55,300,42,125,175,75,255,72,165,165,75,130,139,88,80,150,200,200,42,90,295,450,130,89,198,99,46,140,500,75,33,250,60,75,350,205,219,60,185,190,105,250,175,65,75,37,85,106,79,85,170,115,89,49,91,400,150,2000,97,100,179,500,429,189,120,300,107,95,199,120,199,125,70,75,100,99,250,350,170,165,99,255,169,99,169,160,215,130,110,150,65,75,149,89,50,43,42,85,139,105,265,149,68,99,75,100,90,160,190,67,190,248,100,95,150,145,41,120,50,157,195,70,185,145,50,185,250,80,230,100,40,200,80,79,95,300,100,80,110,172,199,199,100,55,75,146,250,116,150,120,199,150,69,300,230,125,79,130,239,75,220,80,288,135,225,110,100,130,89,200,80,50,135,90,270,110,145,179,55,110,325,75,300,130,190,200,180,350,160,195,241,300,75,100,399,85,80,55,438,110,200,279,137,280,199,71,42,180,226,85,135,79,154,199,700,246,125,100,295,150,119,125,400,850,129,140,115,200,96,199,199,199,69,185,81,199,199,199,199,199,349,249,299,179,54,599,110,220,89,170,495,80,760,98,125,48,64,154,139,75,325,195,58,250,50,125,70,189,130,145,101,95,375,153,92,80,300,145,88,155,185,73,225,85,99,48,200,485,310,110,109,167,147,220,195,199,65,55,50,60,99,130,290,350,50,96,45,85,34,250,190,75,93,60,65,125,300,150,56,299,60,88,60,1300,200,99,110,135,110,165,127,402,85,75,139,70,50,30,250,64,300,800,100,250,200,140,130,90,90,97,91,125,75,180,300,100,175,65,240,300,385,47,110,75,100,165,300,140,120,175,275,179,189,219,450,249,65,250,139,209,120,70,90,199,50,100,110,157,199,192,199,150,199,199,199,105,135,199,125,60,85,300,75,55,44,55,30,35,70,130,52,75,190,250,100,130,140,75,150,90,295,150,180,135,65,99,149,59,75,75,75,109,225,86,52,100,99,89,135,199,89,110,120,59,49,79,135,185,225,245,115,325,95,120,499,75,109,160,219,159,180,150,106,299,179,165,500,250,87,79,75,200,80,115,115,120,125,387,95,99,121,350,75,95,89,195,160,70,100,140,189,160,178,145,125,265,77,60,129,199,92,185,110,65,135,115,175,3000,72,80,125,120,94,56,549,190,129,85,20,145,200,125,50,160,180,100,70,120,110,105,250,74,165,99,125,75,45,159,45,104,225,100,90,75,350,135,125,225,85,200,250,90,130,90,298,300,125,125,145,147,123,88,215,225,269,145,75,145,229,300,100,75,225,120,160,125,95,119,275,160,500,175,87,160,125,90,200,250,99,325,99,325,129,130,190,55,60,250,275,50,125,150,70,138,265,145,151,208,200,110,58,55,105,350,150,55,299,77,125,395,189,49,90,100,299,75,69,90,94,80,100,39,250,55,110,200,142,70,260,225,59,65,99,239,50,65,139,174,315,75,210,55,229,150,129,100,200,89,250,65,68,235,100,311,39,100,1300,210,55,65,165,89,500,145,110,180,115,82,70,155,117,100,89,89,99,155,85,80,135,150,380,450,145,80,225,99,125,80,100,55,328,142,350,300,105,125,225,92,185,226,50,80,200,99,68,102,220,199,165,150,385,75,499,85,160,249,80,120,35,169,220,85,300,79,90,99,50,46,325,68,198,100,175,130,180,209,150,104,175,80,68,72,107,150,45,49,349,185,145,96,120,160,800,349,350,125,350,150,180,200,99,130,150,90,95,70,82,250,90,75,160,115,150,89,69,170,375,118,135,250,200,150,50,60,100,265,90,175,36,250,220,93,275,109,450,165,80,295,280,300,99,175,225,230,90,102,59,195,150,170,217,185,58,189,88,195,110,120,79,110,200,69,55,135,500,90,135,199,90,160,65,210,399,300,185,220,121,120,152,250,99,104,120,295,90,197,145,90,125,190,76,50,107,80,150,110,115,151,130,180,95,79,60,133,120,120,700,165,165,54,100,80,96,159,50,75,155,150,92,75,69,115,120,120,215,195,175,80,48,200,275,72,199,250,75,125,229,175,140,54,75,110,165,55,55,300,275,331,77,60,129,100,120,500,179,149,180,100,180,128,260,55,65,200,249,300,120,120,125,99,115,275,198,199,45,125,80,130,35,90,250,115,200,64,65,175,90,85,150,50,136,400,125,165,180,105,148,120,99,175,85,80,119,89,195,1000,225,165,60,165,80,52,160,110,60,299,200,700,120,65,263,120,150,60,350,71,433,79,140,61,100,250,145,45,73,150,234,150,65,195,135,90,595,109,200,90,100,85,87,95,349,99,160,149,60,285,72,150,200,79,197,75,127,110,69,100,99,139,113,250,295,2000,220,75,100,199,200,140,50,45,109,108,42,70,141,355,80,250,75,88,65,58,75,100,167,65,125,95,54,89,92,199,179,65,55,129,134,35,250,249,62,119,179,220,198,155,199,95,550,60,380,84,165,105,134,68,73,150,100,75,120,85,55,95,72,250,69,78,220,230,150,80,150,150,900,130,70,120,75,100,69,399,299,100,68,103,175,330,425,240,75,210,175,85,120,120,75,495,65,39,93,146,120,79,100,120,150,144,60,350,85,195,200,169,95,375,168,50,129,245,199,199,99,160,65,70,80,100,70,200,66,200,95,140,65,106,155,249,120,52,75,195,625,171,185,55,50,120,210,133,73,350,259,97,199,125,100,39,125,150,170,199,80,125,155,120,220,90,61,179,108,575,99,175,110,250,100,200,89,400,149,500,95,125,80,105,39,49,187,55,250,125,100,175,50,133,155,140,80,103,600,70,75,55,50,390,82,52,115,299,175,100,95,55,45,165,105,200,65,100,312,195,100,155,250,165,120,38,200,90,85,55,350,59,280,69,230,200,150,75,120,140,200,225,145,60,119,189,190,69,70,155,149,160,100,220,85,135,45,225,100,145,210,195,95,140,95,295,80,250,60,150,159,225,78,210,60,220,199,225,350,65,225,82,75,60,105,115,150,65,150,101,130,165,175,115,128,116,192,150,163,40,200,158,115,85,173,250,465,275,195,63,36,130,200,85,150,45,45,79,149,200,85,60,139,160,95,80,250,349,165,119,240,79,215,49,190,99,68,185,225,81,199,55,340,135,85,65,100,109,290,35,148,57,150,60,60,45,60,125,60,75,121,89,300,110,99,170,90,179,80,65,69,42,70,155,135,120,135,47,69,100,51,4000,65,60,70,130,70,200,150,130,68,79,149,120,250,175,40,55,99,500,240,400,280,235,130,96,63,150,200,90,269,80,80,400,349,495,85,85,999,109,175,150,80,150,175,107,80,80,75,800,130,250,260,36,140,145,120,75,60,69,95,300,131,120,100,100,190,160,60,75,45,65,120,80,100,250,235,85,195,145,55,289,120,149,100,166,99,150,44,195,95,100,60,62,99,90,88,125,74,176,62,51,249,200,30,240,100,125,149,170,150,125,68,90,65,50,65,200,65,58,65,185,115,100,200,115,140,62,95,100,113,108,62,95,200,165,60,80,100,110,50,79,140,339,55,81,191,139,500,120,60,70,295,100,49,150,120,2500,175,107,98,47,100,170,150,63,110,275,329,49,49,165,160,38,170,105,50,100,100,890,160,145,51,150,180,225,250,56,70,70,125,399,157,145,75,280,220,190,200,77,35,30,199,140,124,295,160,349,98,76,230,60,40,118,125,195,85,55,155,99,140,85,75,53,150,179,135,200,200,100,134,100,50,50,400,115,235,125,250,650,97,189,100,49,84,165,87,120,195,89,62,130,75,64,150,100,190,98,150,99,100,159,70,91,325,149,200,169,249,85,81,199,88,170,100,130,135,65,100,165,78,350,160,225,170,349,65,420,119,100,97,191,187,172,950,275,99,334,60,145,75,130,575,295,300,120,50,56,191,135,195,75,99,350,40,130,225,225,38,200,550,235,75,249,120,50,85,78,110,50,52,63,105,75,69,165,125,85,499,60,95,105,55,289,70,275,130,125,150,46,100,90,90,220,1000,130,499,45,70,59,160,195,96,75,195,200,139,190,95,350,80,120,42,116,60,1395,425,225,159,221,150,199,70,110,60,50,120,395,60,145,83,100,200,50,70,175,149,125,58,160,150,131,250,70,149,109,185,138,150,80,75,300,176,47,40,60,89,75,110,85,72,190,85,325,125,200,195,175,189,182,105,240,185,160,250,650,35,85,550,80,175,95,158,85,209,150,70,73,85,95,125,89,50,75,60,45,130,70,125,140,120,99,300,40,47,115,90,199,110,100,90,40,133,130,79,200,175,200,200,300,135,189,133,65,179,90,49,140,115,190,99,110,109,64,1000,750,175,47,60,48,100,105,138,129,170,139,94,115,499,79,200,152,50,212,108,89,89,65,239,99,80,125,55,160,100,1000,225,35,275,200,190,117,80,99,70,44,125,130,130,125,199,89,155,60,248,85,85,80,79,55,65,150,285,119,137,190,80,120,95,90,75,50,103,125,150,50,148,120,99,69,200,55,175,240,95,150,150,179,105,84,90,53,41,135,84,290,35,110,350,60,220,275,142,38,100,200,225,135,72,59,350,75,70,99,42,60,125,99,99,165,250,135,58,250,95,125,147,300,350,102,95,65,350,595,165,181,110,65,155,50,85,120,75,55,200,75,150,60,150,240,150,200,269,112,250,390,350,80,295,160,399,150,60,219,119,190,140,125,144,1500,100,115,1899,110,140,94,50,131,175,299,145,145,175,109,150,133,399,48,75,55,75,465,151,199,45,160,36,235,225,300,35,80,79,82,82,215,147,145,65,78,120,120,95,90,95,100,350,188,80,175,495,250,115,55,93,93,199,70,125,125,169,150,61,40,150,65,90,190,79,225,185,100,85,75,85,98,262,145,280,210,70,100,250,59,199,219,100,175,220,40,120,140,105,110,131,265,54,800,53,99,65,55,120,169,180,67,111,90,259,89,129,69,75,250,120,129,199,450,217,90,350,160,45,70,260,100,125,195,58,75,200,75,95,99,275,162,200,285,120,120,210,160,110,200,138,90,45,80,70,72,95,75,70,160,29,175,75,110,175,99,100,144,171,99,270,160,65,99,125,72,300,112,100,60,232,138,140,5000,168,100,150,95,175,220,178,85,35,129,55,69,68,69,300,175,59,59,169,120,155,165,60,190,150,150,120,349,59,99,59,110,73,179,102,62,140,300,299,104,98,49,96,80,89,125,345,150,100,120,149,145,390,60,190,80,55,275,250,100,600,66,65,220,159,70,49,47,299,79,115,229,115,1100,165,67,68,85,170,95,45,178,140,149,89,108,138,115,69,269,160,150,121,95,99,40,89,50,55,224,120,59,135,175,250,156,75,79,104,280,80,136,550,190,199,75,100,125,75,99,35,51,188,90,279,350,125,85,48,56,84,155,250,300,140,120,99,240,72,45,250,100,175,200,59,420,120,295,200,48,99,129,160,142,120,400,130,85,600,69,150,10,87,249,65,175,79,194,150,241,80,120,155,150,140,90,150,135,140,130,150,115,130,380,115,125,65,110,31,135,200,212,40,80,95,185,100,1200,149,139,226,74,195,104,275,310,145,75,99,250,104,250,150,195,350,75,80,96,200,90,79,220,224,35,70,85,110,65,200,249,62,50,62,50,55,71,75,115,82,75,60,200,90,215,100,38,159,64,125,120,76,175,110,75,80,110,89,110,96,75,185,49,440,220,99,85,98,84,65,160,115,59,119,120,439,99,199,99,195,180,100,115,115,180,45,300,90,95,140,123,200,100,250,85,100,109,159,260,555,87,43,199,90,195,185,400,200,100,225,450,80,89,179,90,275,35,86,95,116,80,110,29,200,390,55,75,75,120,143,250,99,150,55,175,69,184,145,100,44,70,185,225,199,60,175,199,65,190,107,150,700,75,45,179,110,245,799,100,61,475,275,250,120,135,199,75,75,75,140,90,80,115,60,175,125,185,56,64,300,455,37,193,53,161,99,420,92,195,81,65,70,400,170,175,41,149,87,300,92,85,150,300,139,90,118,295,125,122,280,215,89,130,201,119,103,72,169,240,180,150,120,345,95,550,150,95,90,175,225,240,150,44,1700,299,120,525,600,88,139,200,100,209,240,90,73,90,200,94,145,199,150,85,195,173,159,85,120,225,175,130,249,38,53,125,245,150,32,160,175,40,58,149,200,100,50,97,84,275,99,70,149,399,145,200,59,70,249,70,45,75,70,159,499,55,228,67,119,189,350,450,45,175,83,120,35,140,45,90,79,100,225,66,140,98,140,195,60,150,40,130,75,248,450,120,250,80,140,120,45,100,175,130,175,40,650,85,175,105,80,150,195,750,249,140,180,90,120,85,174,150,295,180,172,130,52,220,50,37,85,249,150,119,49,90,200,97,399,151,200,200,82,130,69,150,150,150,100,195,251,200,100,140,146,250,499,80,80,220,102,120,170,235,149,180,89,199,72,80,99,125,150,100,106,250,150,100,189,1999,120,100,149,480,100,300,33,175,142,135,135,350,80,80,87,450,275,150,50,79,60,45,120,145,175,137,1500,86,90,345,150,250,105,130,90,150,150,225,1000,80,150,120,53,115,175,150,162,95,55,117,175,75,189,150,45,190,130,79,850,150,100,115,300,159,500,39,250,200,250,120,105,100,175,500,120,85,320,149,400,72,300,115,325,32,100,150,95,290,30,75,140,500,100,80,125,250,50,395,100,250,79,100,52,98,120,40,345,50,45,250,350,57,120,1000,125,145,150,89,164,210,115,110,199,272,75,69,179,106,800,100,60,120,80,75,35,88,50,45,75,79,55,45,85,80,599,110,199,94,400,60,175,200,100,50,175,199,54,130,151,80,110,60,110,73,177,90,190,105,150,65,35,700,185,150,100,575,128,299,169,109,99,130,239,100,124,69,180,225,119,220,150,75,51,150,91,139,100,60,255,94,179,135,50,350,150,375,150,175,170,275,30,150,140,200,560,240,99,195,89,65,156,120,400,210,159,55,129,300,79,100,6000,64,110,55,55,75,70,85,130,120,50,100,145,100,200,80,200,325,120,180,379,33,60,199,149,150,98,250,60,149,95,85,90,47,180,110,170,210,900,65,60,225,200,170,62,125,106,93,85,300,224,145,40,135,97,69,225,900,215,99,850,2000,60,303,750,111,60,320,112,185,100,150,130,130,575,125,190,70,599,80,99,100,200,60,100,2000,90,61,99,100,340,75,130,140,112,160,165,80,850,950,1500,160,300,150,250,100,49,675,150,300,79,225,90,285,300,55,80,90,325,55,208,156,85,200,180,250,325,140,160,130,110,150,149,900,215,155,50,225,65,112,250,65,159,99,395,145,185,1500,45,60,749,55,1000,165,285,220,75,120,4000,650,750,100,95,1000,119,1200,200,48,30,65,79,105,420,250,95,290,100,395,180,380,40,45,300,5250,1500,125,1500,110,105,45,1000,80,375,1000,1500,1550,89,129,500,500,250,250,175,40,400,85,219,130,149,100,289,67,221,750,75,350,425,200,1000,100,65,1250,112,175,1485,120,150,369,81,89,199,149,45,149,600,400,65,6500,150,265,199,395,150,130,175,2750,90,1500,2500,350,250,3750,250,500,180,800,1600,85,49,750,91,100,152,250,110,73,300,1000,135,75,600,800,250,200,75,1000,900,70,88,425,975,305,220,150,49,86,140,86,650,350,225,75,150,199,95,200,200,175,129,200,60,130,115,135,300,59,196,128,400,200,180,60,70,40,250,80,85,70,55,60,100,73,145,65,162,275,56,200,250,500,120,55,59,99,155,200,60,85,150,45,200,120,100,195,38,75,76,175,500,179,200,400,32,50,75,40,62,239,179,250,400,98,89,185,125,180,30,60,115,200,70,179,109,124,159,85,109,110,500,65,112,25,220,79,200,55,50,129,195,79,65,123,70,100,69,450,650,125,75,154,60,279,80,84,180,100,86,189,130,150,149,83,180,18,100,145,133,75,100,99,132,72,125,102,129,107,250,90,200,90,200,160,124,95,129,110,92,175,30,134,400,152,75,169,95,90,60,180,84,98,90,134,119,141,199,108,150,175,90,45,49,63,100,110,600,395,70,399,145,59,50,145,245,149,50,150,110,60,165,53,160,38,49,47,120,175,129,105,275,99,210,65,52,100,91,124,200,550,70,150,176,99,130,109,75,95,50,100,68,104,30,595,65,55,250,85,90,90,90,199,275,125,150,140,120,60,36,85,85,45,92,30,75,99,100,115,175,112,450,103,117,150,129,145,115,90,90,100,41,145,139,117,50,80,100,225,70,80,70,31,40,290,235,200,180,110,120,142,105,100,102,152,150,95,67,65,79,55,83,200,150,160,80,159,90,45,100,125,100,80,2300,90,140,52,200,94,40,55,69,200,100,53,425,40,40,150,65,109,60,180,95,140,155,105,45,330,50,100,49,65,70,180,130,225,225,85,125,99,95,400,99,85,90,85,130,95,149,225,135,140,200,159,200,155,125,71,75,275,70,250,200,90,50,124,110,50,75,90,130,140,200,350,100,225,65,145,189,265,409,95,175,55,200,200,69,135,325,95,117,59,85,55,80,115,78,150,195,142,150,55,97,70,70,155,68,68,150,150,150,100,110,150,160,218,430,79,120,200,120,250,200,75,175,76,75,400,75,189,55,80,69,100,100,300,53,179,100,130,120,150,105,150,200,39,67,200,129,55,65,100,55,240,150,299,160,299,99,199,100,45,44,150,100,185,150,650,100,111,99,75,103,130,109,95,100,155,60,195,69,72,300,119,100,199,75,100,125,95,295,149,150,100,45,385,87,180,59,95,130,120,113,60,40,250,150,450,149,169,105,42,325,200,160,155,151,200,80,119,5000,45,115,65,87,110,80,250,63,200,185,250,130,185,75,240,65,195,200,120,180,53,200,100,86,225,40,60,70,35,250,4500,8000,169,255,290,140,115,299,160,175,120,179,74,68,235,100,270,200,161,60,155,95,125,118,80,210,150,135,118,110,70,43,140,116,159,135,39,59,600,66,130,100,50,185,54,100,180,115,350,32,165,350,795,200,175,50,190,110,414,135,150,93,70,175,155,129,50,499,80,115,47,95,249,150,77,225,70,100,87,245,300,55,120,40,115,93,37,240,130,70,149,100,200,99,220,250,103,108,75,78,75,152,150,320,220,99,950,120,100,199,100,75,84,100,75,93,140,200,200,200,100,100,120,109,126,50,325,750,135,52,124,59,215,240,150,83,70,160,200,50,87,125,250,162,67,147,149,65,250,160,150,199,64,33,500,150,110,145,40,95,185,500,115,195,105,67,75,100,125,350,150,200,270,184,275,171,425,200,165,85,170,70,125,275,120,429,225,119,175,155,100,70,95,450,215,60,75,99,300,175,195,50,175,120,54,345,225,151,110,280,99,350,70,120,89,120,85,220,125,189,100,81,45,150,62,330,80,65,125,165,90,120,250,115,55,200,149,55,400,200,111,175,150,52,88,425,175,270,180,55,105,265,60,45,89,200,149,80,125,78,65,350,115,289,158,50,234,50,69,135,89,16,300,250,70,140,175,160,200,57,90,89,90,200,100,68,170,40,500,145,250,288,245,80,125,166,330,60,130,45,165,155,119,158,169,139,125,70,135,99,175,150,250,100,100,128,121,160,135,275,180,189,250,99,200,145,100,240,90,220,100,59,78,75,78,250,150,44,69,65,90,125,78,785,99,74,130,105,145,90,215,100,92,185,1000,160,93,300,75,370,425,200,125,179,46,150,52,80,120,300,110,200,75,200,300,22,129,125,150,185,158,30,316,175,97,175,60,72,175,225,85,150,225,400,125,200,88,250,300,89,165,84,285,150,70,300,220,149,249,90,69,120,69,54,50,51,99,290,240,49,115,78,125,135,110,205,95,55,47,39,349,250,290,85,170,146,99,150,240,500,48,129,750,180,70,150,240,100,122,400,47,140,55,110,175,80,150,200,50,99,60,225,175,60,255,75,190,495,98,150,250,215,200,100,200,200,110,115,75,289,95,197,150,225,375,56,225,70,264,199,149,142,299,50,160,127,110,69,175,179,144,175,150,109,350,75,135,39,38,195,146,318,184,140,85,170,100,350,199,77,80,79,550,155,275,119,85,84,90,135,90,150,38,87,210,80,250,175,65,140,129,159,125,249,151,79,125,135,151,600,59,273,70,95,399,96,110,110,69,85,150,170,125,130,145,500,95,150,150,56,60,85,80,100,54,113,200,75,200,110,500,180,200,69,200,140,45,35,80,150,70,200,308,270,150,365,99,175,220,80,230,60,120,45,100,138,100,230,225,120,99,150,122,150,140,150,38,200,50,45,90,85,85,108,129,275,148,250,160,130,180,50,145,94,180,80,97,90,70,120,120,165,59,91,184,45,150,139,65,65,150,115,299,80,80,100,135,80,69,75,94,192,50,58,120,69,50,125,50,85,59,130,104,95,199,105,34,120,87,125,170,250,55,80,95,150,140,150,159,95,159,65,100,85,175,175,260,80,69,100,85,95,160,49,65,150,115,113,110,75,250,50,81,69,125,65,150,175,49,191,200,250,216,200,119,118,95,110,170,99,172,75,50,77,125,75,350,55,99,545,70,250,150,55,100,100,95,175,200,190,65,400,95,197,395,100,200,165,145,75,180,73,87,74,65,199,65,160,175,200,195,99,175,190,99,100,199,199,100,45,72,129,100,85,70,100,160,185,162,80,200,45,129,55,68,120,55,50,50,150,140,136,92,125,48,82,150,90,117,71,390,58,50,150,150,80,115,70,95,85,180,149,200,69,85,117,219,100,320,95,110,105,134,45,200,110,150,149,85,200,170,40,70,95,95,350,165,120,130,40,130,120,90,120,115,150,170,124,104,99,85,158,400,100,115,55,72,170,150,39,49,39,200,185,200,110,275,105,260,175,90,125,239,195,53,99,52,130,325,135,85,68,45,87,89,150,124,169,125,145,75,75,87,50,150,95,200,120,325,165,140,33,169,75,190,39,165,79,125,349,130,40,76,50,45,80,265,65,90,115,145,45,50,72,50,57,225,80,120,450,249,100,225,95,90,101,246,120,150,119,150,80,189,90,200,120,149,130,35,139,100,65,200,99,115,149,135,150,105,75,175,135,72,60,97,860,200,98,87,150,50,185,225,151,75,110,150,145,250,170,145,200,50,250,229,129,250,168,80,104,100,95,95,200,180,100,195,299,45,139,200,70,50,42,116,200,129,125,55,200,165,199,150,95,90,120,40,75,68,75,45,45,65,75,84,130,50,150,95,300,113,145,150,90,95,118,75,225,81,190,75,59,99,270,140,275,1000,120,125,75,117,80,60,103,65,45,70,90,225,125,175,195,130,96,129,200,95,189,450,264,45,150,540,95,230,65,70,160,200,138,155,75,39,115,110,100,225,125,150,199,250,210,180,129,90,50,140,150,233,170,60,200,160,150,140,65,60,130,103,89,50,150,240,1400,200,88,75,500,125,75,130,170,300,115,93,119,180,226,155,115,50,600,200,157,145,95,115,65,275,250,95,185,55,350,170,100,36,60,125,120,90,129,78,120,99,50,16,47,150,200,125,60,200,100,99,75,140,90,59,111,80,80,50,300,90,119,69,260,185,100,85,135,169,38,90,45,149,200,125,65,174,89,150,75,58,103,383,40,76,170,45,100,199,99,39,60,130,200,65,105,115,145,75,250,80,120,100,125,132,225,175,225,215,300,130,110,75,36,299,200,110,160,152,145,120,84,160,150,180,68,125,25,155,105,75,80,72,52,125,85,58,100,65,300,40,110,85,158,65,100,64,395,120,51,149,65,70,170,150,75,100,38,200,145,150,200,125,175,180,175,175,50,109,67,57,77,80,85,86,120,140,300,90,70,90,200,135,37,60,419,130,180,160,125,100,65,140,79,125,115,100,90,135,50,71,80,103,250,219,225,99,35,90,47,75,170,150,30,119,40,85,99,250,79,60,115,90,65,65,131,150,55,70,160,95,99,500,35,50,77,380,65,150,125,199,150,145,70,120,86,139,85,94,116,72,95,100,200,72,100,900,80,75,92,160,50,350,135,160,270,129,180,350,75,119,99,120,73,500,225,275,50,40,115,110,100,150,200,75,98,199,109,110,59,95,159,225,195,96,73,88,90,99,150,35,1050,175,395,195,49,150,250,150,260,100,55,275,110,150,80,89,280,100,80,70,75,80,41,195,250,96,98,140,99,175,120,89,90,178,210,150,149,225,2695,63,150,106,165,75,39,39,30,70,100,125,110,145,112,69,300,260,49,215,200,100,1000,120,310,70,195,110,75,45,165,150,80,180,80,60,149,53,200,160,199,140,199,190,125,145,150,95,100,99,130,56,450,75,240,129,45,259,75,37,210,199,189,58,60,190,139,125,94,100,149,128,160,160,110,285,75,650,133,149,210,200,110,375,95,94,120,150,160,132,102,85,142,70,200,199,100,123,175,100,57,39,107,2000,69,137,150,65,66,77,110,64,90,50,146,200,189,985,285,140,97,180,199,220,180,88,350,170,120,105,110,55,150,180,110,160,215,75,200,120,198,60,170,248,100,180,60,83,45,135,275,230,180,175,110,160,115,169,100,87,75,130,115,50,200,55,125,160,39,89,85,50,229,130,149,120,45,56,295,75,110,115,90,109,49,100,295,245,79,60,125,55,425,150,130,250,49,250,97,115,200,250,200,160,90,239,290,150,55,380,120,200,188,103,64,195,70,150,300,60,150,105,360,165,325,105,57,100,129,229,64,100,99,300,84,125,50,200,350,80,180,105,200,100,90,160,250,115,250,130,159,110,60,57,180,250,92,195,47,175,175,165,79,345,80,300,325,249,699,25,195,165,65,550,149,225,135,495,200,125,95,135,120,160,225,139,69,100,71,250,70,225,170,125,139,69,199,175,120,100,150,100,130,150,50,80,250,227,300,130,225,149,320,75,115,97,80,275,163,55,75,110,247,180,69,150,140,205,148,299,49,150,195,80,68,72,97,170,67,80,29,120,100,250,200,90,125,90,180,53,200,66,200,75,165,45,80,125,90,40,400,39,125,85,39,150,100,189,99,167,205,50,109,127,220,45,75,120,55,120,108,200,55,205,129,150,110,65,150,65,75,85,58,90,120,115,99,105,69,80,125,90,80,125,215,107,89,175,245,245,450,100,98,39,160,150,299,75,99,165,145,239,76,65,60,50,250,140,125,80,150,75,200,150,220,180,260,80,1500,50,400,450,225,100,205,110,95,150,100,69,110,250,44,155,300,67,175,149,85,75,120,100,129,150,219,185,65,55,350,170,250,250,70,150,172,79,100,272,85,350,249,180,38,450,60,95,85,199,260,140,185,126,399,100,1000,225,85,147,90,500,72,41,180,67,122,105,95,100,130,107,100,85,30,175,95,125,35,119,150,55,115,99,150,84,129,44,55,100,65,99,100,225,120,139,142,140,130,325,350,175,89,69,40,65,160,135,109,85,189,125,140,160,115,80,198,200,230,450,895,170,120,140,70,70,45,140,600,195,79,55,275,60,195,50,125,145,99,130,115,60,199,170,385,125,37,80,65,600,140,56,70,105,70,60,120,150,112,145,80,99,110,70,140,46,180,250,75,250,250,60,95,138,550,35,90,180,145,100,119,70,48,35,200,64,120,50,190,235,70,60,90,125,120,55,225,150,175,70,112,200,105,70,115,99,120,80,90,70,52,150,170,132,90,525,249,160,125,500,65,170,150,80,1000,175,50,250,40,75,82,93,100,75,1000,65,250,130,199,37,80,33,55,299,69,200,109,200,95,375,50,60,44,9999,77,40,110,65,85,175,93,375,100,258,75,118,120,154,150,150,145,250,100,155,100,75,110,50,225,150,125,200,90,125,125,70,55,199,89,298,70,110,239,300,31,70,73,70,63,200,220,95,127,85,250,195,50,60,58,80,73,91,100,52,65,70,150,107,80,45,62,49,50,175,129,198,185,90,40,130,100,75,90,110,65,49,400,60,31,70,250,215,235,2400,35,59,65,180,175,81,225,100,75,85,99,175,90,125,30,165,149,100,200,110,315,148,150,175,59,139,50,250,42,100,80,90,105,75,130,149,200,149,60,100,43,145,85,275,100,105,250,180,175,600,95,150,119,165,50,225,80,149,195,130,95,125,95,50,85,95,50,80,320,37,90,95,85,79,100,54,129,90,254,159,90,85,45,275,38,100,103,99,185,90,86,40,165,35,2000,117,50,175,95,70,100,150,169,50,99,200,70,130,125,180,80,45,99,99,99,225,150,100,73,180,80,80,85,175,100,85,65,150,249,40,200,124,200,50,160,200,300,200,139,49,55,260,150,110,110,81,60,65,175,130,240,130,97,50,88,112,65,105,120,70,75,99,275,600,90,60,125,65,159,145,130,255,90,150,295,125,75,188,130,72,45,80,94,70,150,70,42,225,70,60,180,150,105,100,225,125,82,140,250,69,275,145,125,100,100,190,200,125,300,159,225,300,180,99,120,90,59,95,65,40,250,85,71,109,262,55,70,109,40,70,50,120,80,200,300,175,75,119,165,40,265,130,85,70,210,225,46,75,126,88,150,175,380,500,110,175,78,250,125,200,55,65,175,205,90,100,60,99,50,50,68,125,175,100,85,125,118,346,52,107,99,150,65,85,155,125,59,70,115,175,149,50,190,80,75,89,123,78,62,120,80,180,145,99,300,87,155,250,130,65,156,50,450,40,95,45,60,100,75,84,70,69,62,200,100,45,170,150,99,45,95,95,79,120,375,120,85,100,84,549,230,100,70,72,140,125,135,120,49,240,380,150,89,100,75,50,60,760,85,65,150,169,85,350,148,100,1000,125,80,72,125,34,288,167,125,100,290,229,100,60,225,70,174,350,250,105,40,50,65,75,180,60,69,150,200,125,795,450,80,300,80,75,500,135,250,80,85,150,60,249,155,65,90,150,96,90,89,80,77,60,165,70,83,70,139,50,50,220,250,177,150,50,90,150,125,150,415,50,165,175,50,250,100,99,80,140,83,99,79,100,160,45,225,180,90,60,120,150,80,275,110,85,245,90,115,54,195,995,120,135,150,61,115,63,185,1763,33,55,150,80,40,79,140,198,65,117,125,510,125,170,65,195,115,135,350,115,45,65,135,40,70,199,100,195,200,150,60,70,30,100,180,105,110,38,70,72,75,63,58,70,145,45,60,158,139,45,99,85,85,95,150,96,230,150,225,130,116,115,126,174,149,150,100,150,89,308,40,150,55,55,139,90,249,150,95,135,45,289,97,180,75,320,60,60,144,40,115,75,47,1450,100,50,250,115,60,135,50,149,120,150,110,95,190,139,115,130,125,45,110,120,50,100,75,129,196,400,140,60,55,175,90,281,50,65,85,38,59,40,229,70,190,150,68,109,37,124,190,160,160,145,49,159,75,175,150,65,50,52,176,90,175,125,249,87,65,495,120,110,159,189,58,59,51,199,52,199,100,54,49,250,45,50,600,200,38,300,50,55,27,200,99,80,250,95,59,57,170,50,49,65,250,200,110,250,73,70,125,195,75,36,99,100,71,100,85,169,149,89,44,150,125,42,28,155,300,250,70,80,150,65,167,130,115,94,185,195,90,99,499,180,300,100,134,49,47,120,185,169,130,110,122,150,129,65,115,60,150,200,110,259,150,295,140,70,134,825,100,175,60,250,58,142,120,136,55,185,75,103,193,700,200,145,200,160,45,151,98,75,185,150,170,119,229,80,100,500,120,85,135,524,60,159,200,73,70,168,75,169,85,38,48,42,80,145,72,95,45,250,73,100,50,165,184,295,135,160,99,85,199,195,80,69,145,52,80,300,75,180,62,750,31,250,99,120,150,100,150,99,200,75,45,45,59,84,140,90,125,250,100,190,298,99,250,95,110,59,115,200,75,115,146,110,60,450,160,149,100,220,120,99,65,50,65,125,75,85,2000,149,53,325,45,38,120,38,2000,60,190,125,100,70,130,45,110,60,125,81,80,105,200,100,100,75,250,400,160,110,220,135,99,89,110,75,2000,160,475,230,49,125,180,80,55,135,182,209,78,202,48,81,80,60,129,100,35,100,82,80,128,159,101,195,2000,160,100,195,475,122,45,235,275,99,78,125,125,170,165,129,150,45,90,175,188,80,160,50,100,65,50,70,130,60,180,150,69,62,150,118,195,75,135,450,45,250,70,120,125,118,50,100,40,225,185,225,155,165,165,149,142,59,200,125,181,90,70,150,225,240,98,100,200,150,65,129,65,70,200,58,180,120,244,40,150,135,150,200,65,140,80,129,112,80,149,99,50,190,70,30,96,85,200,118,150,50,99,350,165,225,110,245,65,100,60,68,55,195,120,80,195,275,49,30,150,140,160,125,48,50,100,50,320,200,70,70,200,100,150,185,125,148,295,80,45,114,37,45,85,150,240,65,280,65,65,65,120,255,54,175,90,90,90,120,210,150,140,80,200,450,200,116,215,160,150,40,149,65,260,400,90,75,75,110,115,20,49,100,82,90,69,69,249,89,159,220,95,60,179,120,275,86,62,165,89,116,172,125,90,50,250,185,63,163,40,195,89,45,60,125,220,85,165,144,75,60,95,95,95,95,95,65,65,110,47,175,234,105,47,55,146,60,61,84,179,100,175,250,150,83,105,125,150,69,190,76,45,142,125,200,259,275,179,70,300,300,259,50,300,95,132,80,85,246,50,75,209,330,55,60,180,300,175,100,175,60,175,105,49,65,450,185,57,79,218,70,350,100,150,45,46,50,285,220,125,80,58,100,175,1200,60,160,65,499,350,105,245,139,50,90,90,250,70,150,150,109,140,31,140,65,85,35,155,65,100,100,125,170,65,38,68,110,100,125,60,80,95,163,225,150,170,65,60,168,100,195,89,109,150,150,150,120,40,150,45,159,149,125,75,109,499,480,220,55,341,108,128,110,179,175,80,149,50,75,100,369,198,100,195,257,145,45,60,120,80,85,99,180,40,96,105,80,100,58,89,105,85,68,200,170,60,285,90,75,115,118,76,245,200,75,200,85,350,101,110,125,89,180,120,50,299,195,78,250,150,350,78,55,300,38,150,75,52,198,49,950,105,225,125,110,44,77,97,45,157,80,50,275,129,250,36,200,185,130,65,275,120,180,123,750,210,139,45,79,345,90,150,75,200,100,32,45,115,56,210,87,40,58,125,100,195,90,65,100,200,75,220,225,163,85,150,38,79,90,100,99,200,190,90,60,90,75,70,85,50,130,199,150,750,80,62,105,250,350,65,95,153,150,280,70,155,71,182,105,100,45,109,95,65,250,60,130,120,200,190,129,85,125,175,130,70,184,180,100,125,150,105,35,30,30,125,190,95,55,130,119,67,90,60,199,150,115,100,165,105,49,100,94,75,60,322,119,100,50,90,150,230,59,90,95,75,85,85,150,189,99,41,150,90,37,300,380,75,200,50,225,150,55,175,276,45,199,48,145,100,62,230,90,83,120,65,140,80,75,300,110,85,120,100,65,80,299,16,46,245,55,45,100,165,60,60,140,300,249,175,35,55,135,60,75,300,79,65,129,280,132,70,52,148,115,175,130,35,109,60,150,207,63,185,445,125,35,200,141,120,145,120,89,90,95,120,295,104,150,75,170,194,49,125,84,140,50,89,55,62,100,40,350,75,190,350,300,295,113,95,59,100,69,190,110,65,185,152,249,100,95,130,145,325,75,37,75,50,150,99,50,65,150,88,190,125,284,150,16,190,60,99,100,35,167,140,175,249,110,250,129,95,280,200,276,130,40,122,64,399,495,145,53,100,42,200,130,200,75,45,52,100,350,70,39,120,239,375,125,375,45,60,75,70,65,250,99,95,46,275,168,45,80,150,115,65,201,55,120,50,100,100,59,44,79,56,140,160,119,185,55,58,85,100,110,80,115,99,105,110,70,160,150,90,150,86,200,272,86,200,129,50,95,400,212,160,90,145,125,250,100,75,75,195,125,85,200,449,150,250,100,120,115,89,180,70,140,37,70,88,320,200,55,195,115,125,155,170,115,74,100,125,70,110,395,215,150,295,60,55,85,40,200,90,49,50,85,350,38,158,245,110,55,275,50,45,85,150,247,105,400,155,150,120,69,199,499,150,300,105,45,105,130,75,150,159,100,145,220,160,175,82,200,300,199,85,135,150,65,395,379,250,90,40,200,133,140,100,85,385,50,140,120,110,106,115,120,300,59,140,99,52,125,150,65,249,84,53,340,80,75,80,78,149,80,115,90,175,350,194,175,350,63,150,180,64,185,80,75,105,130,264,215,85,35,50,145,150,175,680,900,95,60,70,240,150,150,175,1000,48,42,80,150,195,145,75,85,90,53,155,49,78,100,85,225,199,350,120,70,250,180,145,130,149,60,140,60,350,175,110,177,275,99,105,200,58,100,45,110,80,75,700,165,80,145,125,45,30,81,49,225,70,120,175,130,130,150,95,300,180,375,75,75,70,300,60,60,158,184,50,230,95,110,120,189,98,150,100,85,200,450,250,100,40,50,80,90,150,80,89,90,91,85,250,50,160,60,150,90,225,290,95,139,295,140,399,100,80,135,100,175,70,50,52,140,169,173,169,27,150,145,70,205,145,88,179,200,165,89,85,240,95,99,70,99,177,120,300,40,280,59,100,150,140,400,250,75,175,85,125,179,150,197,68,150,69,200,125,130,97,50,175,100,150,145,100,130,45,600,125,95,130,44,190,60,199,49,45,265,220,52,180,127,108,150,440,100,200,175,180,250,99,75,150,49,1495,100,110,45,399,103,33,86,110,160,50,55,100,80,85,100,275,450,80,275,120,250,250,85,100,65,68,170,50,45,48,43,47,260,75,160,159,50,100,60,80,115,200,160,109,25,280,120,98,70,55,100,200,120,150,155,60,200,200,25,199,49,105,49,256,499,90,80,180,145,100,150,95,55,147,220,70,100,888,40,70,150,75,85,124,89,195,160,60,125,225,86,119,70,75,150,145,115,130,53,110,130,48,105,150,65,100,39,150,50,55,195,295,140,45,50,75,110,64,75,125,130,50,270,78,100,155,210,59,140,59,89,50,85,155,75,98,375,120,150,102,85,80,35,255,245,155,155,148,155,165,155,389,65,89,250,125,81,80,200,130,100,61,95,65,40,120,59,100,135,50,460,110,225,135,125,64,58,69,59,177,150,69,275,99,65,135,150,2000,90,59,275,215,70,135,200,120,85,82,105,52,250,145,40,245,120,150,250,295,125,120,40,55,130,110,185,245,700,215,250,150,80,89,244,74,88,150,150,40,150,55,259,100,125,85,75,190,198,300,295,50,35,80,200,110,40,95,75,199,50,109,120,50,95,180,100,350,89,80,125,155,62,93,80,65,120,450,155,53,150,45,85,59,122,75,80,105,47,75,47,45,100,85,269,70,90,172,160,198,154,230,285,180,90,120,60,99,111,40,35,95,89,195,139,75,100,149,55,900,199,70,65,800,43,229,195,150,100,700,150,300,100,50,140,175,185,73,250,89,800,89,250,220,135,160,93,110,76,105,120,110,125,130,105,100,118,70,220,155,85,40,85,84,150,50,250,70,110,164,120,55,500,224,47,61,999,230,150,115,70,325,155,165,165,155,150,130,125,150,55,155,80,85,40,99,59,300,55,125,139,165,50,150,65,50,120,115,51,120,90,75,190,130,80,300,70,150,75,50,60,140,145,375,110,100,70,195,125,95,30,80,99,165,95,10000,149,190,177,350,65,130,110,35,75,52,160,100,90,250,99,99,220,45,70,150,105,50,222,120,600,34,130,205,150,149,100,50,210,135,240,48,90,85,70,60,139,200,153,125,285,100,50,35,115,73,180,60,50,58,80,250,499,159,140,850,38,289,245,500,130,80,50,95,155,400,27,60,120,103,155,80,80,85,150,220,160,125,150,140,500,205,140,80,70,150,195,57,125,120,275,75,60,89,243,90,50,115,150,250,109,120,272,100,170,175,85,150,116,100,350,80,80,110,267,75,200,55,398,80,125,38,80,299,125,250,129,190,90,83,450,102,198,149,120,143,120,44,150,160,110,125,270,110,145,190,250,45,200,187,90,29,100,90,100,85,69,43,145,65,45,130,99,90,45,200,149,45,140,60,100,125,70,70,50,95,169,110,40,75,65,85,97,110,51,120,109,159,75,45,99,95,65,38,95,120,150,135,115,100,99,148,150,599,349,165,95,129,250,700,66,165,450,120,65,55,85,35,110,500,99,64,168,200,355,190,99,180,145,55,65,130,68,167,375,160,98,90,100,125,150,95,130,130,140,125,165,90,175,65,66,225,45,59,90,125,450,50,124,29,86,86,299,36,100,110,450,39,55,55,60,71,500,63,170,250,159,200,70,120,75,195,90,233,115,65,80,65,139,210,66,200,200,175,96,100,44,175,600,32,98,219,175,120,140,84,80,45,115,36,80,40,38,120,70,140,70,200,89,250,125,47,160,75,90,65,63,100,178,200,170,50,295,100,65,175,90,158,450,110,100,130,70,70,120,170,200,480,120,299,150,45,70,49,115,55,55,250,399,198,78,200,300,225,650,53,159,65,45,120,280,60,100,160,45,39,50,120,99,129,350,300,140,120,64,120,40,120,95,150,650,100,290,120,130,70,235,95,80,280,195,100,100,130,130,125,130,120,180,80,250,125,166,64,35,120,60,215,58,260,40,78,80,80,159,150,89,145,130,50,100,63,50,189,99,150,35,200,35,60,80,199,174,85,120,98,119,1600,75,450,55,64,70,106,45,125,70,40,100,85,75,175,150,150,129,60,80,40,90,120,100,125,35,269,45,185,120,97,230,150,135,45,47,120,100,60,245,150,386,95,120,145,109,80,105,37,125,80,140,250,79,450,120,100,150,200,110,165,69,69,180,40,40,109,100,70,198,50,130,135,35,399,108,595,129,88,75,85,70,185,145,150,50,70,150,100,69,115,120,180,147,125,328,85,60,60,46,90,150,95,185,89,67,125,80,199,79,225,125,360,200,80,400,65,70,85,200,68,50,130,215,165,100,85,75,105,100,499,195,150,54,250,40,95,169,75,175,145,450,135,125,70,100,118,172,105,55,60,250,99,88,125,102,40,119,101,65,40,109,40,250,75,90,87,185,45,300,140,70,150,80,60,45,40,210,225,70,45,120,150,133,60,64,69,40,190,275,200,75,180,200,59,149,55,75,400,169,125,58,151,67,100,185,190,78,60,210,139,200,75,123,28,120,85,122,700,99,110,185,120,89,48,90,90,110,150,120,110,45,75,65,170,140,90,170,90,175,135,120,175,40,65,69,119,85,100,155,160,50,125,350,350,65,247,85,45,139,85,125,115,175,140,125,59,80,50,45,90,250,140,215,180,250,400,700,65,118,1500,70,110,299,95,70,167,103,145,100,275,60,70,300,370,50,65,68,92,40,100,140,150,45,70,230,49,80,105,40,90,600,50,195,200,250,175,100,150,175,150,400,99,70,48,199,90,130,300,175,48,70,380,45,55,32,160,107,155,275,80,205,150,99,59,45,270,80,150,35,99,150,190,50,79,199,65,65,75,43,130,180,60,33,45,65,119,50,150,150,99,50,250,50,50,100,59,80,95,110,60,64,175,350,80,200,128,150,100,300,95,175,220,147,95,160,99,200,225,40,75,120,110,60,100,77,150,160,58,70,215,100,60,125,130,99,175,200,85,99,45,190,112,95,65,150,77,69,80,175,60,59,90,70,350,75,61,42,350,45,75,150,72,59,90,145,115,225,45,35,150,147,182,110,85,175,250,50,70,47,75,79,115,35,300,86,189,70,32,150,159,50,135,170,140,175,55,72,198,180,200,220,125,300,37,60,49,55,145,48,75,200,153,69,45,104,150,195,90,60,145,120,111,140,60,35,93,30,60,99,210,175,22,200,120,319,45,99,450,89,65,185,35,238,63,150,180,75,500,59,90,150,70,289,245,53,225,149,160,70,165,70,150,65,175,175,90,40,170,70,50,52,47,47,47,175,47,47,47,200,30,80,142,69,62,45,300,75,80,200,90,173,100,160,116,35,160,150,104,200,80,150,374,46,94,92,155,70,75,150,130,75,70,145,65,195,420,500,100,85,100,70,150,425,490,70,135,80,90,800,70,100,75,88,100,50,63,50,90,85,69,90,75,150,38,70,180,65,75,60,221,500,150,250,239,105,50,75,55,108,59,149,150,119,100,79,85,45,295,400,60,90,60,200,80,60,50,69,123,36,135,400,87,99,55,225,60,250,299,40,120,89,195,150,140,240,36,67,140,50,90,60,138,96,109,135,58,65,225,130,60,80,210,275,175,175,43,250,79,300,60,100,79,285,220,200,100,150,175,180,150,58,140,80,100,200,175,250,74,60,60,60,150,70,98,108,80,60,220,140,1200,120,369,42,120,69,85,75,1100,60,160,120,95,180,170,39,75,100,160,96,50,145,225,100,95,115,215,105,75,150,35,80,120,89,130,122,71,50,72,99,110,118,75,225,80,107,500,200,42,350,160,164,89,150,100,120,73,73,200,140,125,109,140,48,135,335,50,400,165,70,52,385,45,275,135,75,110,350,100,100,135,115,150,60,99,180,95,60,100,250,200,150,145,250,150,400,83,150,1195,68,50,70,65,45,75,115,65,170,450,100,65,280,65,150,250,250,65,130,375,48,80,110,72,49,250,120,240,77,65,185,100,50,50,90,87,30,65,109,150,152,150,300,55,500,70,60,150,119,74,250,250,130,200,163,125,149,135,129,87,55,54,110,250,150,150,40,295,130,79,69,79,147,79,69,70,119,49,132,155,150,179,60,104,40,90,80,89,999,85,75,59,45,350,395,200,180,46,203,189,195,39,57,65,35,140,65,118,250,55,155,250,85,168,110,125,125,115,130,64,140,165,160,70,100,225,70,60,120,50,75,75,37,225,250,125,170,110,299,100,50,205,45,90,49,88,129,165,103,97,49,245,52,280,120,30,350,150,62,195,129,175,80,90,77,120,90,180,100,159,200,89,200,72,250,165,100,90,90,120,185,100,120,159,70,80,220,89,135,150,165,46,50,100,200,100,81,150,60,180,239,70,45,200,45,45,400,110,65,250,120,249,80,124,175,45,60,115,99,75,140,75,60,132,120,150,500,150,49,110,65,190,125,92,100,36,325,120,60,175,200,180,155,120,60,95,80,230,45,40,95,200,42,70,199,65,190,200,75,98,120,130,250,125,225,96,55,68,45,140,160,77,90,208,215,100,40,59,325,98,109,69,80,80,39,70,194,90,39,85,429,42,200,700,50,100,150,100,85,240,135,135,79,150,139,38,100,75,170,70,199,39,39,75,99,100,225,99,469,67,180,100,125,85,175,65,52,85,99,130,189,121,150,170,70,80,186,174,89,109,100,80,41,120,230,45,600,125,149,63,60,57,160,164,250,194,140,205,129,250,399,150,75,45,65,250,185,400,125,175,300,249,199,180,60,55,135,90,130,150,80,85,150,62,155,40,140,50,250,70,160,78,139,50,145,55,215,199,120,160,125,99,80,150,110,360,239,40,60,87,44,80,119,69,50,200,65,78,150,99,150,140,500,75,123,414,125,299,55,55,65,300,150,79,152,124,85,100,82,59,75,65,50,65,109,59,300,135,110,300,80,185,35,250,90,50,60,70,130,28,35,110,70,200,90,139,360,185,95,100,195,235,150,70,95,450,50,100,160,65,104,60,60,50,190,60,55,80,65,235,205,109,85,80,120,130,190,455,99,125,52,110,75,99,137,85,149,124,125,70,99,109,235,95,250,95,85,190,125,125,374,160,59,70,55,100,95,250,95,89,285,127,150,225,150,50,60,275,65,80,130,199,65,75,200,40,68,130,135,165,250,52,170,42,65,80,130,140,200,55,50,175,500,99,650,200,180,75,90,51,62,70,90,45,109,100,200,149,55,275,70,29,195,220,80,110,70,90,130,2000,149,100,100,125,200,199,50,300,285,330,39,60,77,115,99,250,62,105,55,172,100,120,60,72,80,229,70,40,99,100,78,125,190,100,135,250,125,228,37,116,99,50,54,70,135,425,122,141,800,70,90,150,250,115,130,74,48,85,180,97,131,100,100,105,100,145,289,800,90,29,70,80,120,60,80,70,175,144,40,340,180,75,80,352,69,150,500,250,280,55,50,49,135,45,150,120,150,120,80,60,70,239,275,89,300,50,37,239,190,150,150,360,115,150,207,120,160,85,100,45,160,40,49,40,495,89,220,99,160,80,78,110,130,150,59,80,80,160,45,94,77,149,130,57,150,55,127,60,64,40,50,83,200,49,60,45,180,45,89,25,285,100,90,75,75,200,35,297,150,195,80,50,115,70,119,120,400,250,225,45,260,155,97,75,155,237,80,250,60,42,105,300,120,80,125,125,50,60,90,60,275,100,200,99,112,65,200,98,50,135,50,145,450,141,110,107,110,1000,299,190,175,70,75,155,96,350,90,500,40,175,50,130,90,65,200,63,110,100,60,45,117,175,2000,60,148,65,150,100,200,650,199,115,245,187,88,280,200,95,260,148,100,100,60,64,125,65,110,745,140,35,85,111,399,40,300,180,100,150,63,175,84,33,50,75,125,140,85,250,60,45,395,140,190,91,40,135,50,72,130,90,100,150,62,100,150,95,170,40,54,30,150,250,50,120,410,73,250,1170,250,139,149,185,230,175,150,325,100,50,80,135,32,261,60,57,225,200,115,200,699,65,150,375,175,45,225,165,250,1150,85,135,125,300,120,100,179,50,115,100,75,60,240,290,56,95,70,125,195,45,64,50,80,55,1000,42,80,105,45,125,45,95,200,190,170,250,54,150,300,115,225,83,125,250,129,135,200,175,55,50,125,200,40,50,166,124,65,57,100,60,90,130,350,60,80,70,41,100,500,200,120,170,42,50,170,189,150,77,150,60,150,120,85,85,450,60,95,38,150,125,125,130,59,65,259,90,60,95,45,133,259,150,35,139,39,125,434,500,100,99,70,200,88,115,75,140,80,44,269,150,299,195,140,180,84,70,55,65,45,96,82,150,125,115,145,169,75,100,69,45,75,55,55,48,50,56,65,140,95,73,230,180,47,55,125,60,104,225,169,45,130,53,150,140,295,98,120,170,47,129,119,99,225,50,100,55,155,275,65,170,95,129,175,136,190,150,75,590,169,51,899,90,25,65,42,40,60,157,170,50,55,45,109,105,150,45,40,105,135,180,150,70,120,89,100,125,170,80,249,350,175,120,230,100,139,89,159,229,70,125,200,169,175,150,90,165,305,200,88,110,42,150,50,125,125,80,75,120,79,90,190,239,200,200,175,200,130,95,140,100,75,74,80,60,125,80,97,79,110,140,57,195,175,50,180,180,180,100,175,210,100,250,55,80,103,150,90,150,190,95,75,150,48,65,27,150,75,80,185,55,98,165,75,145,135,50,100,100,130,145,45,120,90,190,250,90,165,175,120,85,90,70,110,239,125,239,55,195,150,104,95,45,210,189,40,100,295,75,34,200,75,110,100,185,145,250,55,145,150,70,195,86,120,60,65,199,55,150,165,100,149,36,50,50,300,73,100,193,79,60,60,159,75,750,235,139,41,220,120,180,185,225,200,150,74,49,140,180,50,47,245,115,50,110,125,150,139,220,150,79,240,115,120,200,200,150,165,85,130,85,90,120,70,40,55,130,60,65,249,75,500,169,300,95,69,240,120,180,80,90,140,200,139,250,47,108,85,75,60,80,60,50,120,300,275,100,65,65,350,132,35,150,75,100,89,50,300,50,400,250,70,135,450,80,90,100,90,145,125,50,150,95,125,120,400,201,50,199,49,185,85,89,100,60,132,125,100,175,304,95,100,300,175,300,39,179,20,120,82,170,120,75,110,177,180,70,325,165,75,159,150,150,230,159,250,119,239,80,99,250,125,150,50,200,47,150,299,142,150,88,800,85,169,110,60,110,78,110,46,80,150,199,125,650,58,200,145,98,40,135,250,250,130,60,350,465,126,215,139,200,200,40,55,99,82,185,60,200,140,94,134,60,70,200,90,115,245,375,75,150,159,40,57,425,200,65,65,75,90,100,100,77,165,190,190,45,72,230,250,140,85,99,200,99,140,181,165,175,100,209,110,50,80,75,70,125,70,180,100,200,100,95,150,144,42,95,220,209,118,50,95,85,200,161,110,149,104,200,99,80,400,98,63,69,89,99,140,150,199,120,175,300,40,100,170,120,60,90,60,450,75,170,75,75,80,139,250,150,90,55,296,150,139,249,250,205,90,25,65,250,140,110,200,120,120,110,200,60,205,50,183,125,70,90,375,50,199,130,285,72,36,84,100,130,285,175,465,175,165,156,191,160,305,200,260,105,85,100,79,120,300,65,100,127,49,108,121,180,34,180,250,100,175,175,190,90,160,51,150,325,99,150,280,110,100,125,275,308,200,60,65,110,189,60,90,65,128,200,120,75,69,120,95,142,210,155,300,70,180,70,95,100,129,62,40,90,42,125,100,70,108,500,115,275,40,289,130,55,125,130,60,99,50,78,150,90,275,70,39,185,49,69,330,110,450,150,80,80,310,70,325,65,155,45,125,49,150,80,145,125,60,50,70,531,199,214,70,105,240,114,45,45,143,145,90,75,225,150,150,182,62,65,175,525,98,61,159,68,69,125,115,85,209,225,100,55,80,80,85,280,125,90,175,150,180,250,60,200,295,40,150,40,180,145,175,275,115,175,65,345,150,75,219,300,225,275,350,175,60,350,119,175,335,70,180,299,99,95,50,150,655,99,250,450,190,58,70,41,325,180,95,500,160,303,400,46,132,125,50,45,165,79,215,80,150,62,68,300,149,200,275,110,83,150,166,79,220,70,60,80,50,120,50,185,320,45,85,300,199,150,50,180,299,66,410,200,149,98,150,1200,300,55,200,140,110,80,60,126,55,325,140,50,9999,186,245,150,99,290,43,85,95,180,100,40,129,130,280,165,100,100,85,160,195,150,63,60,95,50,59,175,83,80,200,265,350,36,78,80,218,95,130,130,51,45,200,350,265,228,90,60,120,65,90,225,103,500,62,45,300,299,85,80,250,49,220,109,300,300,90,289,37,50,75,44,45,120,110,195,100,200,160,115,55,150,70,130,100,375,49,49,245,250,55,225,68,220,75,120,129,199,92,185,179,80,80,100,225,60,166,70,63,115,65,55,76,140,150,39,450,105,80,110,75,450,150,125,125,80,260,85,199,135,100,99,34,89,77,350,190,115,40,200,135,135,99,145,349,75,200,119,65,50,199,80,55,99,125,235,110,120,195,109,100,55,150,100,450,155,80,60,85,90,70,50,120,75,31,79,160,99,199,260,200,395,65,219,60,45,60,107,230,288,50,130,85,80,84,63,45,125,160,63,125,45,115,269,55,150,100,190,150,75,59,173,60,115,89,70,89,60,130,400,90,200,65,43,55,120,110,95,145,550,59,239,49,95,160,90,80,125,65,77,220,150,200,200,160,90,230,55,160,46,224,300,100,95,100,47,139,68,110,112,85,450,390,55,55,85,160,155,70,185,90,200,58,70,50,85,200,250,45,109,48,150,350,100,177,108,28,101,35,105,95,62,65,150,113,300,65,55,150,120,160,135,175,300,80,40,170,85,85,84,399,450,140,210,135,200,200,47,50,95,280,50,200,197,120,60,100,84,200,150,35,195,37,200,125,100,70,125,123,95,199,125,45,189,50,120,250,95,140,99,120,35,195,35,250,70,140,159,149,180,110,100,50,425,195,260,499,75,250,350,275,325,300,75,100,45,146,89,75,175,75,102,250,190,120,70,63,100,130,140,65,90,46,72,115,90,65,250,1000,159,99,100,250,120,80,300,45,200,65,70,60,240,50,100,200,180,65,130,125,250,70,100,90,90,31,45,188,39,39,85,40,75,200,88,130,40,65,129,500,125,100,100,24,160,125,205,750,75,150,195,477,275,699,180,60,128,140,98,1200,800,130,325,200,125,62,144,90,45,75,85,50,50,86,60,372,75,60,29,85,60,124,90,300,70,87,100,55,139,200,300,50,260,120,110,50,90,225,83,30,65,60,140,799,330,1100,75,140,100,100,110,75,150,90,70,85,150,145,77,200,60,70,365,180,230,79,49,165,140,72,369,63,165,112,119,160,170,995,185,500,48,150,199,80,60,125,62,60,600,75,80,195,68,45,90,200,30,80,125,70,50,110,199,40,65,85,160,69,42,120,150,130,85,100,210,28,60,60,140,69,73,67,123,110,250,80,325,300,44,197,60,165,30,120,119,39,250,130,100,28,149,39,225,100,45,120,99,206,120,275,290,300,75,80,150,80,70,130,50,125,150,290,210,150,129,64,100,60,120,180,45,90,200,239,139,279,95,70,90,70,94,250,850,85,65,369,200,88,65,239,79,239,239,239,120,175,200,103,80,80,60,50,50,145,425,275,150,229,200,300,47,200,200,180,270,30,170,55,185,30,139,101,85,50,38,219,325,100,69,275,249,249,239,100,49,239,150,239,239,150,200,50,190,59,40,52,89,369,100,90,115,150,400,66,180,149,89,85,67,75,94,80,70,115,90,155,65,60,149,70,100,120,150,160,135,200,50,225,35,45,140,160,35,125,160,180,179,120,70,68,100,300,152,100,200,250,200,200,245,79,175,45,180,139,220,70,99,120,178,55,124,380,55,250,180,375,200,180,65,65,60,60,45,50,74,50,60,150,55,40,120,35,250,85,125,146,99,69,70,159,40,65,45,42,100,40,175,500,90,400,130,70,48,169,200,100,50,80,200,369,215,249,110,110,30,50,86,79,150,199,85,50,140,59,330,175,91,25,75,225,66,40,174,200,150,102,85,76,75,135,175,100,145,49,50,120,50,50,60,55,199,90,189,49,65,90,49,75,100,59,130,225,97,250,150,63,200,139,250,140,95,55,32,110,30,250,100,115,90,139,150,170,75,120,80,50,100,36,100,129,199,60,60,60,99,101,55,219,150,25,26,90,500,120,59,70,100,115,150,105,65,113,70,199,125,140,85,70,89,95,70,154,220,45,59,95,129,115,105,93,40,88,85,170,75,55,57,199,105,485,125,150,95,200,90,120,100,70,110,96,50,175,70,75,51,80,110,80,60,170,155,65,165,115,150,700,125,75,150,170,150,150,45,55,89,100,35,70,100,78,59,148,125,155,61,100,55,40,196,101,50,150,102,30,250,115,129,90,120,150,146,70,115,49,200,166,40,137,58,55,35,150,150,175,189,42,175,150,425,110,75,170,120,65,350,199,67,189,80,50,220,79,49,226,79,80,169,100,98,45,70,150,125,155,179,60,90,65,179,50,50,189,67,99,140,90,55,80,170,90,175,117,43,189,35,61,205,35,39,190,249,159,125,37,299,175,42,110,179,90,130,140,168,128,64,35,60,200,199,175,95,55,125,45,95,153,39,200,85,315,89,350,179,37,75,150,225,140,115,58,190,100,119,139,140,129,800,110,90,61,65,60,60,150,587,175,60,166,120,135,145,185,120,206,65,80,139,239,399,550,30,125,195,500,47,69,90,99,75,35,55,80,100,60,40,118,97,210,55,62,185,200,165,125,102,80,449,200,84,95,65,152,50,250,149,124,58,159,250,150,250,500,58,199,55,95,36,165,72,179,209,149,150,375,65,275,110,99,85,189,100,75,45,75,125,150,71,46,105,41,99,37,60,218,150,52,210,115,105,80,225,175,120,65,99,160,60,90,230,250,299,499,79,46,110,70,150,59,165,149,129,42,120,63,180,220,68,119,37,80,55,50,199,50,60,135,64,80,65,48,115,45,38,85,275,125,250,79,105,100,70,65,60,50,35,180,70,220,135,140,175,180,165,55,100,91,175,70,143,55,110,30,90,199,99,40,235,62,85,60,45,155,135,165,295,77,43,230,70,105,54,199,145,97,55,285,185,200,300,255,500,75,150,64,250,135,70,295,135,50,69,299,204,80,125,69,139,149,100,360,99,60,60,275,65,149,60,120,35,261,99,49,65,150,65,60,69,150,37,100,99,160,225,51,250,66,65,120,125,260,94,79,49,1731,99,41,90,69,81,113,35,85,45,200,100,37,180,105,200,45,80,122,400,55,110,110,135,45,145,37,90,305,100,180,90,135,49,95,155,47,120,38,199,87,80,40,155,125,81,129,83,70,130,325,30,50,50,45,200,600,80,35,75,30,135,125,62,1002,100,50,80,75,60,75,65,80,130,333,120,144,149,150,60,190,100,150,170,65,90,55,250,80,319,120,50,100,60,175,67,140,90,165,90,150,115,65,70,219,45,55,80,45,65,47,65,229,160,500,120,139,400,45,87,50,115,51,43,70,125,55,50,60,88,85,275,65,135,40,85,85,85,120,220,80,275,125,46,65,58,60,115,65,49,70,95,196,80,35,82,136,75,68,64,100,65,350,450,99,195,48,85,70,180,90,175,245,45,34,125,75,125,200,100,70,45,154,300,250,140,59,80,230,150,45,144,44,75,45,129,75,220,125,150,63,120,45,120,125,450,1250,36,48,50,59,39,70,150,100,80,125,180,45,185,60,40,80,85,135,70,600,110,105,100,65,125,50,360,160,225,105,175,130,79,90,283,50,100,70,199,45,325,275,130,179,80,99,135,145,69,89,75,200,55,80,75,90,98,70,132,50,250,199,99,77,100,130,60,200,117,89,44,70,39,150,60,75,89,200,124,60,70,100,117,100,50,75,75,75,150,65,22,120,320,65,95,115,120,150,40,425,75,150,49,165,200,175,97,270,155,55,80,70,35,110,129,45,50,105,45,83,40,85,400,64,130,65,200,200,120,60,60,80,90,125,40,80,100,50,37,200,65,130,95,54,82,105,30,169,45,100,75,219,75,25,250,149,33,90,87,60,99,225,45,129,325,120,35,200,100,250,122,149,295,120,150,60,110,245,100,75,99,205,110,33,98,133,45,65,110,80,150,110,149,400,150,35,36,45,65,90,68,36,34,80,135,128,40,40,155,50,40,250,295,145,199,140,60,175,150,89,38,350,105,185,195,135,60,120,34,45,199,125,109,250,150,1100,52,119,70,100,250,150,150,100,30,35,200,99,40,170,399,87,75,55,40,55,140,71,177,395,80,198,199,97,162,99,80,65,150,35,30,50,40,259,125,85,160,450,90,140,265,85,79,76,125,150,175,100,90,92,39,33,64,90,200,150,125,369,60,65,70,162,250,75,95,75,60,189,66,100,190,50,814,100,125,90,250,115,300,145,65,150,50,80,200,69,150,79,219,199,450,27,550,120,90,70,70,110,100,150,200,145,79,95,55,207,83,50,50,200,100,119,175,49,45,110,70,500,180,145,60,550,57,98,120,100,90,85,120,180,149,90,250,50,550,50,90,165,70,90,109,96,390,78,50,200,112,117,50,200,185,85,235,75,180,100,75,200,125,130,99,40,120,350,84,83,125,110,38,138,100,150,90,154,75,110,129,190,185,108,98,39,145,125,85,89,245,230,43,40,200,40,85,50,75,255,199,70,33,90,150,229,34,115,171,50,70,40,37,1800,36,65,120,135,2000,70,160,70,140,69,125,700,64,250,30,100,40,200,90,145,170,70,70,168,195,250,55,75,55,75,50,85,28,60,70,165,145,125,250,69,140,250,278,285,60,30,65,29,65,45,130,75,50,160,65,39,145,195,79,50,35,325,40,95,105,43,225,175,75,94,100,200,95,65,349,41,200,85,1200,150,65,110,75,80,45,83,40,79,70,177,60,190,240,150,31,110,120,176,199,200,70,65,60,140,150,200,55,200,100,112,45,75,45,499,160,100,175,80,60,175,65,159,118,120,91,125,55,175,100,140,55,40,180,110,90,50,135,60,200,90,180,228,250,40,65,188,130,140,130,300,50,75,200,250,100,112,230,170,79,125,285,421,110,690,169,60,70,150,120,140,160,50,120,140,619,600,76,35,75,40,54,140,225,87,131,198,450,175,100,250,280,135,2100,1100,87,165,170,50,79,84,375,135,125,79,165,300,45,400,40,60,250,55,199,130,44,200,90,139,250,120,100,133,120,100,70,200,89,75,200,90,190,150,85,65,110,70,55,75,59,200,85,85,158,35,57,138,90,125,999,225,45,150,150,140,40,205,190,110,150,100,75,115,50,190,60,200,90,500,115,140,50,135,109,60,148,95,50,79,50,40,101,135,99,95,110,299,79,52,95,295,65,110,215,100,450,95,140,220,355,185,297,133,100,250,65,50,135,80,69,75,125,142,200,45,97,229,175,63,45,185,50,175,133,62,90,99,61,120,100,32,80,90,180,65,49,100,380,26,100,90,89,35,66,285,46,275,89,250,200,175,140,133,150,55,142,95,165,150,99,133,150,190,60,106,165,190,750,150,150,119,62,99,34,129,105,229,350,205,85,30,150,186,50,200,172,250,133,150,290,120,95,120,165,50,180,38,85,145,29,120,117,70,180,115,225,140,45,119,125,46,50,150,120,45,115,95,110,250,300,45,159,220,159,70,45,40,81,190,225,360,125,95,62,150,495,130,80,89,55,140,60,142,125,133,200,85,625,100,176,175,75,245,125,159,110,150,99,49,140,200,148,165,59,45,45,225,70,95,100,59,50,400,100,199,35,65,95,60,200,200,50,102,152,490,250,450,98,199,50,109,145,96,165,65,130,120,165,200,122,400,54,54,54,250,120,75,65,60,179,43,130,154,135,86,85,80,70,65,100,130,139,35,100,60,133,275,112,142,135,165,200,425,110,40,70,65,95,100,140,150,115,74,175,275,110,69,50,85,110,142,75,133,79,80,239,100,159,140,250,135,65,75,195,99,70,199,65,245,150,55,650,50,81,92,105,89,348,168,65,100,175,100,119,105,200,290,62,70,65,60,160,45,595,60,95,150,200,160,300,99,150,35,170,65,38,60,500,85,110,60,148,133,160,250,95,69,180,40,85,65,55,75,125,26,175,85,179,75,76,225,40,110,117,78,800,65,105,45,34,90,65,150,160,250,106,95,69,145,75,70,225,43,121,50,198,109,199,150,49,239,100,239,239,170,239,80,239,239,239,80,140,240,60,200,159,65,70,369,120,239,125,200,50,120,100,80,140,105,49,180,70,450,44,89,172,350,68,52,70,223,71,97,75,65,64,59,100,60,73,219,999,150,52,90,150,325,170,79,175,75,120,72,80,175,125,200,1000,45,175,89,500,84,149,110,40,98,160,32,380,35,100,239,51,200,129,239,140,239,56,239,239,239,37,91,170,169,35,180,55,239,239,175,67,239,65,125,200,81,325,333,90,245,90,999,165,400,160,75,206,70,65,126,40,239,129,92,82,369,369,99,78,44,160,220,125,99,75,300,140,98,99,178,59,75,225,60,268,300,177,60,60,55,60,135,43,139,100,100,40,55,175,300,45,144,60,250,45,80,136,149,89,110,179,500,150,175,79,117,91,65,500,85,150,80,200,325,95,100,85,115,111,84,75,95,110,50,115,225,80,110,49,90,299,60,175,115,45,57,120,409,350,95,49,155,265,215,120,54,79,185,60,750,160,210,80,85,99,200,84,105,150,88,65,110,140,50,175,100,50,60,51,55,85,60,143,85,110,449,35,369,70,295,110,65,109,35,50,44,275,110,120,50,87,78,49,109,65,150,225,100,125,115,62,50,200,225,159,150,29,150,80,35,250,160,175,150,165,150,159,140,159,77,49,55,50,359,50,40,219,189,140,96,300,125,150,60,99,60,198,350,85,80,80,135,61,45,70,60,75,165,112,69,39,239,150,42,195,194,75,130,165,70,200,40,205,45,139,339,49,190,450,45,199,55,33,149,80,120,73,2500,44,105,70,120,57,120,100,525,100,75,45,65,132,350,50,60,59,80,450,45,359,200,120,140,436,249,300,140,170,200,60,94,399,45,60,169,80,55,220,235,125,66,80,40,57,48,99,40,250,180,115,104,325,299,40,89,100,59,300,65,50,120,125,80,56,219,197,260,115,75,66,75,500,215,175,140,80,359,80,935,120,85,100,64,75,62,96,350,100,290,50,150,81,70,70,150,95,150,169,25,154,140,130,60,250,55,150,45,199,290,85,150,60,170,47,55,195,186,99,155,60,100,500,150,175,148,130,80,150,285,70,150,155,82,200,60,150,159,38,155,184,65,150,50,60,100,60,110,50,325,225,190,119,650,104,175,190,40,100,75,125,85,60,90,53,50,45,110,200,6000,70,199,65,95,80,200,274,50,105,45,350,350,180,225,100,1300,55,70,50,67,150,35,90,53,300,80,299,41,50,70,500,185,98,399,170,80,376,99,200,91,60,60,50,250,209,65,48,60,165,218,160,200,53,65,280,60,800,99,120,70,235,275,86,49,85,125,85,70,60,50,218,135,120,55,150,75,43,115,60,160,39,45,45,25,65,125,67,52,110,177,25,175,150,75,41,185,175,40,135,195,30,50,40,150,75,100,65,250,136,180,55,65,225,99,90,20,980,100,73,380,99,105,35,200,105,180,87,50,69,150,75,215,150,100,224,119,80,75,125,58,128,60,115,105,69,76,45,80,75,200,89,80,197,35,180,90,125,170,180,142,60,98,40,59,40,250,80,50,50,65,140,47,184,139,57,150,43,50,250,125,50,240,60,160,45,38,100,85,50,135,259,50,60,70,99,80,190,115,250,70,225,31,40,37,239,75,90,46,35,85,175,60,155,143,140,120,79,50,289,62,85,99,50,120,180,90,80,49,90,55,49,105,40,50,120,90,110,140,125,95,75,75,244,75,75,105,100,150,175,35,51,105,80,84,70,70,195,150,100,100,85,225,120,90,175,65,260,225,135,135,195,99,1000,177,59,190,1000,80,60,195,60,99,79,125,89,55,130,70,110,100,145,195,30,50,68,90,85,200,100,150,199,60,135,100,163,187,225,120,73,100,99,300,92,42,100,40,225,170,125,109,150,50,49,265,80,44,260,133,80,1000,154,150,150,125,60,95,75,100,100,65,200,180,60,33,112,150,230,65,375,130,400,120,900,150,40,150,30,191,219,250,180,115,145,399,52,95,190,480,180,150,150,140,70,70,197,310,128,150,26,75,280,93,390,115,256,250,200,150,41,100,75,300,50,85,475,50,50,179,72,150,110,200,50,35,45,195,90,325,100,85,40,80,149,67,80,80,275,123,179,196,180,500,140,59,200,165,230,90,200,450,120,60,51,200,250,160,180,66,180,65,87,60,124,225,77,79,239,65,170,30,72,75,35,45,67,700,150,115,150,50,60,50,34,100,125,100,125,45,198,150,39,150,80,46,78,219,145,220,225,2000,175,220,85,77,110,58,350,329,58,60,43,88,90,41,65,95,160,140,169,115,67,60,45,60,142,350,40,65,50,42,130,100,175,399,110,45,40,100,575,63,177,158,400,90,135,200,155,100,315,45,125,49,220,220,100,70,74,290,100,85,199,65,45,95,95,80,300,259,120,150,120,225,100,160,49,150,100,275,45,195,100,1000,195,87,120,170,160,50,75,225,125,350,175,65,350,45,120,75,100,850,40,100,178,170,45,180,89,50,80,250,70,170,90,45,100,65,45,45,45,90,150,62,125,125,175,75,30,295,50,28,69,75,175,50,90,100,49,55,249,36,65,60,180,50,110,87,100,120,42,145,110,99,129,186,350,165,210,119,75,400,60,140,190,245,245,192,89,219,179,199,238,140,37,49,115,69,100,300,52,50,100,55,199,90,65,400,65,71,199,163,126,150,199,51,256,289,219,239,125,90,150,40,120,200,126,200,195,175,159,130,170,60,110,70,105,100,140,175,198,90,128,110,99,125,160,270,205,205,230,40,700,69,225,50,45,159,250,43,180,225,190,49,294,559,109,250,269,81,53,206,40,130,105,75,499,165,55,57,201,80,80,59,250,200,100,60,150,215,40,175,151,250,100,200,120,100,135,80,60,123,189,235,90,85,40,67,63,150,70,75,99,199,195,67,71,35,100,158,30,138,52,120,125,119,225,75,60,70,50,45,600,175,150,76,200,170,225,50,150,100,202,60,99,38,70,117,200,99,75,105,130,80,100,195,115,175,269,325,40,80,509,200,278,195,225,35,92,65,300,95,95,119,154,80,250,99,75,75,142,300,199,99,62,350,180,115,150,65,85,70,50,65,117,150,250,140,70,80,85,99,99,400,75,99,165,189,85,268,55,80,95,179,245,300,369,75,136,101,40,65,43,100,40,165,319,295,56,219,50,160,109,95,100,200,50,150,50,115,69,60,350,131,99,160,250,250,150,150,65,100,85,44,225,79,150,75,105,50,275,149,90,56,220,42,129,50,110,160,35,72,95,100,115,115,79,36,138,75,138,175,59,50,99,49,113,47,104,650,110,199,67,60,150,99,52,155,171,39,120,115,165,69,55,60,133,79,79,160,170,45,249,66,52,200,80,75,125,68,65,79,125,105,140,70,2000,100,75,36,240,200,250,46,120,80,120,150,120,200,100,73,60,110,55,110,70,60,270,35,100,50,150,150,77,59,110,110,45,125,110,89,75,100,250,149,50,95,160,79,97,75,65,95,185,68,85,150,65,200,55,100,250,89,100,300,45,133,500,68,56,75,80,299,51,115,180,50,80,300,79,150,94,65,83,50,120,500,600,300,150,149,150,75,195,80,250,225,450,35,70,80,75,79,84,172,110,55,78,115,180,139,120,77,150,67,159,100,65,199,75,70,49,41,150,60,40,99,250,40,100,239,50,110,375,229,175,40,41,110,150,165,239,125,245,80,329,175,150,200,200,75,89,120,35,100,85,70,114,200,225,120,199,55,199,40,200,80,140,50,375,250,40,99,140,150,75,55,145,95,69,175,350,119,160,55,48,85,97,110,91,150,80,60,55,65,163,60,54,46,125,150,47,40,120,67,73,128,121,250,80,77,139,117,75,99,279,140,200,257,95,65,149,29,250,150,120,85,259,90,74,90,45,100,89,199,76,143,40,125,180,110,185,85,300,99,125,35,80,150,90,40,250,450,50,75,139,200,65,115,70,50,85,275,120,185,150,145,130,150,88,75,38,64,185,165,200,75,90,140,150,92,100,135,45,110,250,154,175,175,50,99,199,239,235,45,85,239,38,65,79,60,80,239,279,35,239,200,33,239,239,239,229,45,239,179,239,239,107,125,230,100,55,95,41,40,150,150,219,142,99,41,48,301,52,150,1100,160,45,106,178,176,70,190,62,175,125,76,225,65,70,240,70,130,50,70,51,149,169,50,120,120,105,90,105,130,191,100,288,150,85,75,79,200,78,234,325,119,95,255,125,99,175,150,75,50,99,85,137,165,92,101,95,119,195,170,150,157,69,30,250,40,80,150,49,101,69,199,40,175,175,50,45,110,70,129,139,135,90,125,225,75,65,190,85,119,48,196,80,90,125,65,110,100,200,200,360,65,65,65,160,450,75,69,203,169,79,230,65,50,100,70,175,142,190,350,140,120,372,61,65,80,225,105,100,50,109,75,100,60,50,130,65,90,50,67,100,98,50,100,300,75,219,167,180,95,250,85,115,150,80,225,400,325,99,90,110,50,189,105,55,180,50,80,120,525,150,150,90,130,155,90,90,130,199,70,36,59,185,75,150,75,74,80,161,260,79,43,60,100,210,245,175,250,220,95,250,167,76,200,199,140,57,60,80,125,150,70,125,56,170,179,75,65,295,150,174,67,199,62,150,115,40,200,149,125,73,200,34,300,220,36,70,89,115,200,100,175,58,81,95,38,150,40,150,99,250,69,35,65,259,150,270,150,100,119,129,175,40,125,101,49,300,75,85,185,185,50,110,65,185,195,85,295,120,189,60,123,89,140,85,169,145,145,165,152,99,110,40,115,157,1000,72,40,175,90,65,79,350,71,50,115,49,70,110,140,89,259,160,113,300,125,105,70,125,150,275,65,65,400,159,200,225,199,75,44,100,130,408,120,273,85,80,60,275,125,200,199,265,700,80,35,135,70,179,99,135,104,128,60,170,85,60,75,349,90,55,50,200,110,325,70,180,134,150,150,200,110,105,150,200,165,75,104,130,130,145,60,40,60,99,75,70,109,250,129,90,150,198,55,61,90,45,200,60,150,125,80,80,35,40,120,100,259,129,89,75,135,200,90,200,90,150,110,150,115,42,75,189,125,150,175,99,85,185,177,100,102,120,155,67,50,55,100,125,70,39,60,125,133,149,110,150,205,100,30,69,158,190,36,79,176,199,150,64,250,50,65,118,189,79,75,100,200,65,90,65,125,124,120,300,27,75,86,113,69,50,155,90,44,25,499,90,118,42,57,150,66,95,40,65,40,215,199,65,70,59,150,300,59,45,110,65,130,300,111,48,65,75,200,99,225,65,51,175,120,49,175,71,350,119,110,185,115,90,45,50,80,95,50,40,30,225,65,199,125,89,300,200,200,129,495,125,185,92,119,120,500,80,124,85,55,82,150,250,150,121,350,115,45,65,200,120,175,120,49,250,250,110,199,350,124,175,150,295,210,125,112,118,85,53,200,40,60,50,135,61,42,69,105,150,240,140,90,199,65,70,60,69,250,70,175,110,50,75,55,75,30,90,70,140,200,120,85,82,200,225,75,230,50,35,95,48,50,48,55,100,50,40,60,40,245,135,150,100,45,55,80,60,399,150,47,125,75,202,80,150,45,30,102,55,155,120,95,525,199,45,90,150,59,75,69,300,60,50,150,85,210,55,57,50,100,65,50,70,40,250,33,46,101,76,70,95,129,100,58,50,76,35,40,195,80,44,95,199,55,249,40,200,39,700,45,140,99,175,80,75,50,100,100,200,80,60,119,69,400,95,45,73,123,130,325,95,90,150,165,250,130,200,70,105,150,172,105,100,150,133,65,125,140,300,90,30,109,750,146,120,125,80,110,50,200,74,100,52,135,90,200,165,75,155,144,25,500,97,150,65,99,100,250,55,169,70,1000,60,36,105,315,65,50,69,110,95,249,57,150,3800,99,50,370,55,147,40,87,65,46,110,100,110,140,55,130,125,73,479,270,41,85,175,350,140,89,450,10000,113,300,38,220,250,120,99,115,30,150,38,62,120,60,195,69,150,138,85,120,41,159,35,250,215,115,99,129,75,200,79,160,130,70,32,37,55,250,75,150,42,155,22,125,99,60,45,130,40,95,55,35,140,70,250,85,85,106,90,129,100,150,100,100,60,120,75,140,55,75,85,225,219,185,70,100,69,40,55,150,113,45,280,120,90,225,159,650,275,325,359,99,108,67,25,190,125,124,100,60,55,175,200,200,60,175,88,57,145,133,55,125,80,70,120,150,90,115,2350,51,200,105,225,89,61,70,69,79,83,160,40,50,45,85,100,57,104,53,38,115,139,150,280,90,50,45,70,150,155,109,150,130,275,100,55,50,215,40,103,50,500,54,79,50,140,59,150,80,85,185,85,135,85,150,75,150,150,199,120,88,99,75,107,400,89,210,275,57,150,50,150,29,100,152,822,350,45,49,45,120,66,122,64,135,33,70,320,62,130,95,100,90,150,350,120,250,106,65,175,360,119,85,189,68,100,40,45,38,100,165,80,40,175,99,50,70,85,50,69,54,38,300,41,199,235,240,70,250,91,125,55,75,44,90,100,170,140,199,156,170,110,115,70,250,200,197,82,85,69,150,150,49,165,90,92,159,280,325,120,61,80,90,51,178,1100,119,30,100,100,100,250,30,240,60,65,140,265,86,145,100,75,105,85,150,100,90,150,75,60,80,137,79,120,220,300,267,149,195,90,48,179,58,50,49,110,190,450,69,250,400,249,125,96,60,179,48,155,65,499,250,120,50,48,45,50,75,65,90,56,80,174,43,32,39,70,75,130,85,23,95,90,45,60,119,150,295,38,130,70,71,75,85,67,75,79,72,153,60,150,142,55,249,111,179,65,63,90,143,85,67,45,299,150,175,90,150,100,53,40,250,115,85,45,65,160,95,120,151,98,100,74,50,75,150,30,200,67,153,75,98,375,215,60,100,131,120,75,79,120,228,85,115,130,109,65,200,560,180,35,140,110,75,50,89,175,65,55,150,96,75,210,221,150,350,65,325,407,60,91,41,215,57,65,149,70,290,70,90,150,100,165,224,238,379,45,125,49,700,650,150,50,55,90,425,200,349,200,100,115,150,100,55,49,95,75,45,200,199,195,349,270,230,165,159,196,103,92,150,294,110,76,180,100,80,120,90,130,84,50,76,316,115,325,160,47,200,200,75,39,300,489,150,65,120,80,53,200,50,150,120,175,49,59,79,195,249,53,189,60,135,75,60,120,100,95,185,99,180,350,69,50,144,85,100,240,125,165,145,88,65,60,122,65,42,55,115,95,113,185,34,80,50,55,110,115,239,63,295,425,125,175,90,75,99,118,75,105,56,125,80,110,75,60,55,60,200,49,200,40,179,75,45,245,120,51,83,55,85,109,85,179,95,95,170,110,111,125,34,54,79,80,89,175,85,38,38,29,45,229,147,35,300,154,250,150,65,250,99,45,105,45,180,130,210,77,450,85,67,58,149,150,80,80,2500,130,150,180,125,150,89,42,40,70,200,64,75,180,75,139,149,85,92,129,150,125,100,198,239,82,215,100,180,150,199,99,40,199,69,170,110,100,50,310,110,165,85,65,149,252,130,80,75,75,125,650,115,90,249,140,795,27,105,30,55,65,65,55,800,100,55,73,289,75,100,120,45,399,155,60,100,30,50,330,300,65,200,85,139,135,150,140,185,74,162,185,400,160,98,95,59,200,200,100,499,189,185,79,149,250,105,45,125,95,75,30,175,149,189,95,61,190,80,99,84,125,43,107,190,125,45,65,174,170,200,250,95,250,80,160,45,70,75,35,200,95,250,275,70,30,289,375,129,219,81,75,250,99,225,106,55,110,279,94,220,110,275,999,125,90,122,60,99,48,159,117,45,100,40,175,40,85,100,195,65,250,170,440,58,45,65,299,100,99,120,149,150,100,60,153,50,172,109,180,60,175,98,150,199,75,125,200,300,750,100,225,120,295,160,40,350,110,43,50,85,56,73,175,49,175,672,44,130,132,55,250,300,35,100,175,75,30,60,47,200,60,50,100,80,125,125,78,75,150,100,200,65,145,180,99,120,227,90,99,55,55,80,40,133,175,163,250,117,295,105,59,60,49,141,59,3000,50,41,399,189,48,49,175,55,53,80,150,67,80,78,50,120,75,60,75,99,100,95,200,249,33,80,160,50,50,100,33,100,35,55,60,89,97,164,57,66,400,199,52,70,170,62,200,75,200,160,100,100,58,110,120,95,150,150,95,250,37,75,67,59,227,160,125,50,80,225,180,109,100,79,105,125,47,60,120,195,60,99,300,250,105,129,27,65,42,100,120,199,85,135,50,120,160,120,120,100,270,72,179,72,200,48,95,800,49,65,129,113,100,175,575,135,200,152,140,800,95,80,215,140,110,100,100,94,76,150,195,49,500,45,50,295,65,90,71,155,40,50,50,199,136,80,65,200,148,100,90,239,150,300,125,60,200,50,75,100,50,150,50,198,109,200,55,80,165,415,80,235,99,180,180,100,88,56,98,93,60,250,225,400,130,249,85,30,60,80,129,250,110,129,75,199,129,75,105,49,215,85,102,85,25,279,41,280,165,40,120,60,70,130,249,80,145,260,86,219,90,70,70,64,85,125,60,225,100,218,200,55,90,105,195,170,150,300,154,185,50,70,180,65,69,500,40,85,250,69,270,53,100,52,299,175,43,50,88,70,78,50,200,60,150,75,150,129,220,60,105,125,378,61,60,75,80,151,259,70,60,65,180,180,45,112,168,250,130,50,142,199,60,45,85,99,37,40,45,77,55,60,95,40,68,85,55,45,50,54,70,60,150,249,90,584,135,55,267,350,99,40,40,43,45,88,90,225,40,54,115,105,65,110,99,47,150,249,225,195,90,64,750,159,59,105,215,54,79,155,99,57,140,69,150,95,150,110,175,85,76,399,79,41,85,120,65,54,60,51,250,125,80,105,60,239,200,250,200,75,225,110,75,40,100,55,185,60,165,188,140,115,150,300,132,95,85,65,150,100,119,200,90,163,68,100,169,105,475,70,90,100,65,110,46,40,80,249,110,48,50,135,59,149,35,85,120,894,643,180,299,60,45,50,300,151,139,160,55,120,699,65,130,70,67,130,117,98,120,75,350,60,40,125,60,100,95,124,85,90,70,150,93,80,76,113,130,160,89,50,150,125,85,45,150,170,85,462,198,198,43,65,41,89,80,110,80,75,749,799,599,75,79,699,499,175,110,189,50,50,150,50,799,499,189,649,799,275,100,70,35,95,140,75,302,65,399,321,499,534,748,748,33,350,534,300,748,748,200,214,40,39,75,100,49,185,100,130,375,69,125,85,59,110,250,175,99,175,38,77,850,90,128,49,305,83,80,400,450,80,82,68,200,75,120,125,39,350,110,349,85,66,75,144,550,110,51,118,70,118,250,118,135,252,300,49,40,65,160,65,60,35,125,105,150,73,95,75,120,199,199,60,88,1000,179,120,50,110,390,269,60,65,150,45,105,55,105,399,75,38,50,70,85,70,85,180,600,75,200,47,300,150,225,149,100,425,59,2000,77,129,245,50,120,55,110,150,71,300,90,65,408,78,95,99,77,120,125,90,86,99,115,32,130,100,45,95,183,150,75,150,90,1500,500,100,70,99,80,79,80,200,100,200,95,135,198,85,90,275,80,108,110,95,95,160,50,45,200,101,174,90,65,94,39,39,65,100,100,100,29,150,110,80,200,37,175,375,249,80,90,90,250,290,180,95,205,87,379,69,125,30,150,98,130,122,40,29,100,90,99,350,49,80,60,79,145,90,138,90,95,65,90,130,70,115,100,40,33,39,120,75,125,140,70,250,65,40,50,78,50,72,108,108,170,125,149,125,70,120,149,90,150,250,375,95,129,80,45,53,125,534,65,534,534,534,534,99,748,748,45,190,80,125,748,99,229,55,189,449,202,250,85,52,120,90,74,75,70,147,50,250,40,200,80,100,65,70,150,135,51,335,198,120,39,51,87,145,80,90,125,75,140,2000,75,150,90,61,160,69,199,95,120,200,190,65,160,235,35,65,180,55,50,100,195,100,185,135,175,345,275,230,85,130,79,110,63,35,100,120,159,90,350,140,90,487,110,300,40,200,60,155,75,47,139,39,79,95,93,71,88,55,115,75,135,209,185,40,48,154,78,163,129,126,229,110,170,55,40,200,125,140,144,210,65,186,100,250,89,60,200,180,50,160,75,145,119,49,300,140,98,199,125,95,95,60,249,160,175,40,115,79,236,120,120,54,56,60,90,260,125,65,120,55,130,96,109,99,55,300,220,155,133,180,135,179,100,100,45,250,180,350,95,218,176,89,160,89,79,70,100,150,63,63,55,90,164,40,250,95,90,111,120,95,175,100,100,49,116,265,333,100,320,155,65,149,125,70,59,89,59,150,369,55,150,45,55,55,196,69,65,100,92,365,136,300,175,80,90,150,119,75,99,450,200,99,270,190,205,39,499,275,80,1500,105,275,150,70,150,146,99,125,125,182,55,255,160,160,75,125,60,80,125,54,170,115,65,50,44,229,375,139,300,85,139,83,50,49,120,79,60,175,75,50,80,110,130,67,70,70,153,350,500,90,178,60,369,40,160,95,86,200,99,65,45,28,159,250,85,160,50,49,69,200,62,400,80,105,87,99,20,109,75,175,289,209,75,35,117,80,250,50,70,150,145,221,142,65,110,80,35,150,40,150,47,85,100,40,85,99,105,33,50,295,72,300,48,55,100,180,300,2000,1020,53,160,143,164,164,48,65,70,159,89,100,60,42,57,43,99,105,140,65,125,265,100,38,88,60,159,65,700,150,50,70,225,61,120,110,63,65,25,143,197,89,158,125,250,119,128,169,115,70,115,100,50,200,220,45,203,180,40,42,130,190,58,150,55,180,250,150,125,49,40,40,130,900,85,110,119,60,110,200,50,110,180,75,105,105,300,60,100,120,35,45,255,40,42,240,100,110,185,147,65,200,950,275,200,100,350,45,75,60,40,74,100,95,59,180,50,160,139,19,375,135,175,169,56,200,115,45,400,65,39,80,85,150,75,120,100,75,91,150,46,65,500,45,50,155,149,60,42,198,45,130,44,250,50,195,45,37,78,80,200,78,35,52,150,33,129,49,103,150,41,76,120,167,95,35,99,150,65,150,76,198,35,110,300,125,225,265,110,70,220,80,55,115,265,228,50,280,75,120,250,350,70,135,110,149,22,49,899,40,70,340,75,53,90,105,49,95,155,40,47,190,700,109,198,149,101,150,135,220,80,84,99,100,50,175,60,170,170,75,75,130,88,110,200,60,100,190,86,75,55,145,75,200,86,160,59,280,89,55,100,75,100,95,50,599,44,80,65,98,131,69,70,35,200,34,100,85,120,37,34,175,150,48,73,85,69,170,66,200,799,1599,34,225,69,73,125,150,33,32,35,649,32,85,699,799,290,145,199,200,181,75,130,125,300,250,175,59,180,250,40,156,500,65,68,60,150,265,279,105,110,130,500,34,75,49,65,65,300,100,55,70,49,50,158,50,120,44,150,209,200,30,80,135,250,100,50,110,30,160,295,699,60,45,29,80,265,225,210,220,68,135,130,110,140,60,400,200,76,200,25,90,799,45,800,176,85,21,129,135,145,113,199,86,95,100,199,146,150,98,25,130,200,94,150,85,110,60,48,110,60,72,120,58,150,40,1200,89,55,150,99,38,500,142,114,175,350,60,75,85,100,60,80,85,36,150,330,54,35,53,175,48,39,70,29,120,125,100,79,70,95,77,75,210,80,120,175,82,114,93,55,199,387,150,58,185,90,50,189,50,240,131,80,225,139,109,165,45,50,90,55,130,190,150,75,30,150,75,30,110,64,135,55,165,132,120,60,169,119,120,77,200,85,400,200,30,80,68,108,75,91,51,60,120,110,149,160,90,250,74,230,90,200,49,100,37,47,127,250,250,360,200,50,85,40,85,85,239,700,60,87,50,85,80,90,69,128,200,220,35,110,300,135,40,150,35,38,70,350,50,68,95,80,150,53,54,99,53,135,525,50,200,200,99,145,129,80,150,120,90,123,250,100,100,250,98,60,165,100,40,37,75,39,29,80,100,40,45,55,30,48,49,135,200,850,300,70,225,80,50,110,54,125,125,40,115,60,30,150,55,79,425,85,80,55,66,135,140,52,130,130,585,35,55,60,43,36,166,150,97,250,28,179,97,120,350,65,63,151,70,95,198,60,100,140,49,799,85,250,58,100,110,55,65,75,55,190,70,85,57,25,97,80,180,215,89,97,97,120,50,350,159,150,70,300,44,84,300,30,245,76,130,124,160,45,33,45,200,130,95,45,100,117,220,100,155,450,31,99,900,38,90,33,125,170,35,40,68,65,37,92,125,71,40,110,47,45,50,60,60,55,58,200,50,55,180,50,129,255,177,50,49,325,30,109,100,280,149,2590,400,220,147,50,105,175,60,55,65,59,165,100,50,145,100,150,59,45,170,120,32,68,105,65,100,95,39,75,125,100,48,149,40,290,120,45,119,95,45,400,130,80,45,100,80,65,200,45,60,132,119,60,38,50,240,285,120,499,119,225,110,79,85,200,150,190,215,67,79,139,105,250,50,60,75,50,190,230,80,100,199,190,64,225,35,70,60,264,100,135,85,85,55,295,28,45,120,90,89,50,50,150,40,99,225,65,280,100,120,70,100,55,150,50,95,140,180,200,74,95,114,205,279,80,31,299,80,50,190,90,399,79,110,85,105,89,200,63,50,95,58,120,180,150,65,50,105,70,53,50,205,72,142,52,117,230,75,89,30,80,200,38,89,41,75,90,135,40,93,100,350,125,70,150,300,86,180,135,100,179,116,115,60,137,190,45,150,165,599,275,60,33,125,41,89,85,85,150,150,143,400,36,75,110,200,150,350,87,50,130,120,100,55,120,59,100,100,375,105,165,150,96,70,72,225,200,145,22,60,90,80,190,128,83,50,300,200,59,85,77,113,54,50,450,40,100,45,115,119,218,35,120,119,100,69,190,110,120,140,75,85,200,110,599,38,375,90,999,57,200,260,99,98,79,175,200,50,60,125,60,100,225,110,195,55,55,99,100,85,100,69,46,165,75,40,130,115,349,259,137,40,160,200,52,160,200,550,100,175,275,100,60,99,56,100,180,45,48,115,50,135,200,80,80,95,87,83,171,225,100,60,85,185,249,35,100,159,895,196,40,95,55,122,100,55,90,75,200,70,136,50,210,95,45,69,150,40,90,80,25,40,220,81,85,31,130,91,75,73,56,175,47,80,125,69,75,69,60,80,60,225,185,120,80,55,36,55,55,80,149,41,95,350,35,50,50,100,150,55,190,60,80,380,125,235,67,232,40,96,225,120,120,72,90,65,66,41,30,175,100,100,65,70,73,80,160,69,180,199,159,60,49,94,77,56,47,89,95,60,125,11,29,80,75,175,85,123,144,99,899,141,50,75,50,70,50,40,35,169,78,119,115,115,200,93,160,100,65,64,95,220,70,125,225,54,184,175,69,175,91,122,150,250,49,75,125,120,233,220,32,105,165,175,75,200,100,90,109,95,60,75,175,46,50,98,95,34,79,130,100,75,61,99,110,99,42,50,82,206,120,69,164,95,160,150,75,130,95,199,150,550,250,150,200,100,68,140,99,97,500,75,150,80,98,165,125,300,124,100,33,275,60,30,71,158,100,70,77,90,210,250,175,116,190,65,68,200,55,89,125,197,50,37,189,80,39,123,60,74,45,175,135,30,60,52,144,75,73,119,170,135,25,35,103,50,55,99,43,75,117,195,100,34,44,210,150,84,69,39,88,33,98,60,75,100,115,200,130,28,230,179,190,100,100,1000,55,85,55,50,95,139,100,120,30,174,53,79,173,55,60,120,130,80,50,20,120,66,250,110,155,200,85,130,64,200,130,170,22,28,27,30,300,40,280,60,200,35,170,995,140,399,75,65,32,26,100,98,149,85,640,325,125,32,47,130,249,360,40,55,800,88,175,200,200,190,75,210,224,200,120,55,106,68,60,84,195,175,53,55,47,53,110,95,148,459,350,90,120,91,170,73,60,90,70,135,91,52,400,239,12,150,65,220,110,44,75,65,40,175,77,59,85,240,49,49,45,150,80,99,45,59,82,110,95,58,69,50,60,73,100,139,55,48,63,97,99,175,159,153,243,98,60,100,80,45,125,30,140,47,99,150,45,150,140,200,400,35,240,189,225,175,50,185,107,85,57,195,40,100,300,150,155,45,59,65,91,118,199,34,40,100,200,51,30,87,215,30,900,80,71,126,200,225,250,100,80,34,79,60,115,20,70,165,46,85,99,206,65,55,60,127,50,120,275,165,119,150,65,103,65,300,60,80,160,75,35,55,175,55,46,95,115,75,47,70,70,100,135,145,75,125,600,89,125,135,125,70,65,489,99,70,120,160,125,300,85,115,600,100,47,130,55,230,125,35,85,450,110,100,80,98,54,60,120,115,100,129,100,90,60,60,89,85,350,285,125,109,545,208,100,48,93,60,78,270,160,175,180,30,650,70,185,50,65,59,53,65,100,150,80,100,200,64,60,50,160,55,63,30,90,98,110,170,95,118,43,100,45,199,146,239,195,100,103,159,48,190,80,96,28,160,30,50,300,85,60,190,180,235,175,160,145,37,140,45,52,40,100,40,74,62,150,100,49,70,200,45,75,131,500,180,355,50,275,49,58,179,95,158,165,169,135,50,85,53,185,260,160,100,240,300,250,60,149,69,75,150,150,60,80,110,160,65,72,250,175,80,150,144,45,95,100,56,150,95,95,70,100,60,170,55,50,250,200,175,45,175,90,78,100,175,99,70,250,91,200,40,75,50,110,69,103,100,73,180,79,195,99,100,125,149,58,75,140,69,250,160,70,289,29,75,35,82,35,70,75,120,200,65,178,45,150,99,325,209,249,600,40,135,65,35,99,47,35,250,90,53,120,54,125,126,50,110,45,49,98,289,110,45,169,275,50,36,110,105,75,100,75,30,150,155,68,109,20,88,500,80,100,10,55,40,80,75,184,56,160,65,77,65,35,98,400,64,70,250,55,249,175,69,198,69,60,103,135,31,245,175,200,72,123,90,20,50,45,41,75,105,55,100,65,149,50,78,75,70,50,250,75,133,150,140,200,99,50,122,85,45,130,31,125,100,60,80,150,160,59,30,85,110,180,199,35,70,195,169,195,195,195,243,195,115,150,150,155,68,135,300,197,75,350,150,155,81,100,185,65,385,125,130,153,150,95,150,350,120,120,100,45,74,110,110,75,94,55,100,99,69,139,42,4000,55,119,105,55,125,46,36,45,150,275,100,100,35,35,130,150,73,160,54,75,380,115,100,80,109,180,600,160,130,90,63,126,195,45,47,55,200,60,51,160,55,110,200,109,149,220,130,75,250,65,300,90,69,79,190,80,175,65,148,63,99,90,250,90,120,39,117,160,500,100,117,175,25,152,45,59,70,57,200,71,45,61,55,74,100,178,80,75,158,88,95,225,240,110,225,165,140,100,39,110,105,49,45,450,99,169,130,255,80,70,60,219,60,60,82,122,125,44,125,55,47,80,65,75,100,90,45,125,69,199,55,50,125,2250,125,75,32,88,215,134,125,60,60,56,85,100,55,150,60,108,122,45,150,160,140,210,180,80,79,180,190,60,139,163,65,365,200,84,58,42,90,98,75,86,251,85,285,325,220,250,58,58,50,145,199,126,230,129,119,50,100,199,65,50,65,200,150,50,90,180,50,250,122,225,51,90,79,275,45,100,199,75,145,161,45,43,50,95,60,80,180,150,49,49,249,70,60,49,22,50,105,89,115,65,65,35,99,83,45,99,55,100,158,89,37,60,38,800,325,89,68,700,210,150,139,103,45,90,227,100,75,97,50,60,50,229,150,50,95,62,115,55,90,30,100,71,70,115,65,120,100,59,65,89,250,80,127,150,170,120,44,71,150,75,53,100,175,170,25,51,95,94,69,105,79,64,40,62,110,185,177,110,235,80,53,95,115,65,130,79,107,116,47,100,75,160,275,22,60,70,100,55,64,47,250,190,99,88,100,250,250,150,484,50,141,199,140,79,142,80,337,47,65,149,300,159,60,50,220,380,99,120,110,50,30,60,110,75,100,65,125,40,105,115,75,429,60,30,84,75,50,39,160,175,47,89,29,95,40,145,90,250,38,65,150,139,127,290,100,100,150,65,200,100,148,160,147,95,130,157,95,120,110,130,99,90,138,125,395,100,150,150,85,115,50,45,160,40,70,80,55,110,225,69,35,300,350,45,150,10,108,89,70,210,150,55,200,120,165,155,95,139,65,57,42,42,90,69,376,75,99,85,69,100,45,10,60,48,145,57,85,100,45,100,250,40,317,70,70,61,300,92,200,150,120,45,170,150,29,250,195,15,230,130,78,53,100,150,89,105,80,57,75,151,197,100,88,60,375,45,95,82,50,40,45,60,105,159,208,105,69,250,100,80,72,120,41,250,50,134,150,5000,300,150,60,45,67,142,67,69,95,195,72,289,80,69,95,110,175,35,175,2800,100,88,499,80,49,510,45,100,50,199,81,90,80,175,50,60,70,175,30,350,57,120,129,60,76,150,40,250,55,124,130,700,219,2250,125,200,179,200,160,270,51,65,100,49,195,115,65,65,60,175,80,72,100,100,47,125,56,105,80,40,180,79,150,250,169,199,125,120,199,160,100,550,40,95,150,189,71,40,55,150,229,120,100,160,50,60,229,99,136,120,300,119,99,60,31,48,69,60,1000,350,100,150,140,200,235,200,40,90,379,300,250,49,60,224,115,49,115,95,98,110,50,75,50,27,130,85,115,53,80,35,165,60,379,285,60,329,225,75,100,200,115,85,40,235,64,134,86,330,170,90,65,60,75,265,148,95,94,109,490,200,69,99,75,146,77,35,140,100,45,185,60,50,50,47,186,100,400,75,145,65,110,85,51,140,85,165,30,116,70,46,70,250,70,140,150,168,85,50,99,65,145,50,39,200,69,300,69,40,160,99,29,55,850,75,60,249,69,100,75,179,80,196,43,145,50,99,80,118,55,200,150,125,145,99,80,195,42,53,125,99,210,177,145,44,85,150,70,150,125,200,55,69,215,235,42,180,125,160,100,39,71,1475,100,180,79,60,160,110,193,50,250,72,50,35,90,325,79,180,129,125,160,100,110,278,100,350,200,39,99,110,250,199,150,55,60,65,45,150,50,250,120,54,150,100,130,95,36,115,199,195,350,72,145,48,35,42,225,149,75,46,100,130,150,145,95,49,220,200,150,30,187,85,54,175,38,53,145,173,150,89,200,120,54,50,45,59,149,142,120,70,200,299,80,60,99,60,46,60,175,75,180,70,190,60,45,450,99,37,100,197,90,188,110,175,100,295,99,70,55,65,99,60,259,159,300,210,195,96,80,160,199,35,80,35,55,207,59,75,49,115,40,33,199,93,159,150,86,75,57,200,50,120,100,90,50,100,35,94,190,86,199,55,226,186,170,100,90,50,119,110,80,64,47,100,49,100,47,150,43,165,70,49,199,90,60,125,100,80,200,50,185,37,135,50,60,40,40,85,85,165,200,10,134,60,400,124,75,106,190,80,199,60,50,78,79,75,205,50,99,44,615,260,275,75,45,42,43,200,79,70,139,100,137,175,40,300,180,180,149,58,125,235,206,199,40,120,38,100,100,175,171,169,60,94,88,65,134,419,90,140,198,78,65,65,199,99,70,75,350,75,199,30,70,120,65,295,135,67,40,70,60,109,50,99,105,45,70,150,190,150,70,349,79,70,150,232,47,45,200,278,195,109,65,80,65,100,180,299,80,105,350,45,315,79,90,215,59,200,90,545,33,125,100,275,45,199,150,125,55,168,125,150,48,85,80,43,60,60,179,156,153,76,2000,55,145,75,65,199,150,60,70,36,210,40,140,120,95,90,2900,199,70,169,30,140,110,30,130,99,200,170,110,100,133,75,125,325,50,50,120,50,100,45,94,60,63,175,26,45,123,185,55,133,75,450,40,90,400,62,287,200,58,325,222,130,70,44,85,85,52,60,275,75,125,475,50,80,200,70,52,150,63,100,50,69,116,44,60,180,95,70,275,195,45,135,145,160,98,80,150,60,430,128,55,60,89,60,145,97,45,50,110,65,175,80,325,126,104,150,85,45,60,120,200,235,180,160,42,135,175,164,147,120,88,120,63,114,110,60,55,165,105,150,75,150,60,90,55,150,41,115,100,155,52,80,75,150,40,95,50,158,60,50,65,44,30,184,175,300,99,137,49,75,39,59,229,825,125,39,130,500,80,125,185,225,90,150,120,106,65,225,100,195,69,75,150,40,200,260,60,150,254,58,295,45,50,80,80,88,150,70,98,250,238,100,265,399,55,160,350,100,184,315,250,77,180,150,150,165,125,150,51,53,95,69,195,125,299,146,55,50,65,165,41,70,55,55,250,73,63,50,183,91,250,55,85,50,150,305,80,150,64,68,31,125,275,150,70,90,130,390,160,275,43,119,50,115,73,85,89,75,160,49,10,55,119,85,350,76,46,95,79,350,205,190,120,135,111,85,80,49,51,149,55,270,49,75,55,70,54,55,142,50,50,109,100,40,100,99,125,75,350,250,79,90,80,29,85,55,150,250,50,60,60,75,175,33,175,119,148,77,118,350,170,60,105,100,50,65,245,80,155,40,50,40,254,80,299,67,110,150,75,80,800,48,52,200,37,200,45,119,60,259,55,25,90,98,149,515,137,70,60,200,50,45,125,45,45,112,55,105,175,65,96,78,120,49,66,95,43,70,265,44,35,55,100,123,100,200,50,75,225,51,45,125,88,70,55,104,90,59,55,175,1500,199,150,145,220,105,185,45,115,90,200,160,35,200,129,1067,120,105,36,100,74,68,122,200,85,71,50,138,39,158,195,80,38,134,70,50,60,79,150,50,46,65,51,176,60,95,60,350,125,170,350,40,42,103,165,128,250,60,109,465,100,40,45,85,85,225,65,55,59,225,200,200,55,180,115,185,50,218,99,70,99,100,150,35,75,250,78,250,117,179,1599,49,85,80,350,100,125,65,80,220,100,300,40,389,45,90,60,49,51,125,52,110,38,60,55,119,121,89,60,80,60,90,115,350,85,55,61,95,35,150,350,48,165,45,200,75,279,300,400,80,125,28,140,101,43,424,80,170,60,1000,125,115,36,49,108,578,40,50,55,46,150,39,100,36,113,300,50,115,100,99,120,175,125,100,53,29,70,52,105,29,110,80,31,320,40,70,104,100,1200,37,40,207,150,180,90,36,80,145,33,68,70,67,175,100,180,200,160,130,70,300,45,69,290,99,149,100,100,95,200,70,75,49,89,74,65,100,50,79,950,350,188,50,475,105,225,40,185,90,250,119,150,275,125,60,42,130,66,109,90,89,600,250,278,800,70,275,195,50,45,62,150,98,236,250,200,195,90,128,44,75,100,90,60,250,349,101,120,86,30,40,106,40,30,52,147,200,70,37,249,70,225,135,150,108,225,59,115,35,1000,55,280,100,55,70,219,45,40,60,150,150,50,200,119,280,160,60,125,37,98,128,100,120,90,147,60,115,110,155,275,150,159,200,135,89,80,60,45,60,99,120,219,65,215,90,51,170,90,50,79,39,65,80,120,52,70,120,315,125,399,72,239,200,110,80,118,37,77,100,95,180,55,76,60,240,287,100,27,26,290,85,69,196,154,113,250,45,70,70,100,102,350,70,136,100,80,115,160,130,148,110,87,72,90,120,450,84,75,110,148,225,122,190,120,200,80,149,60,650,175,55,77,55,50,350,50,100,319,46,120,150,250,200,400,125,125,180,90,200,100,70,100,199,120,60,199,130,60,69,30,350,125,93,150,60,180,116,225,183,40,124,140,84,149,130,125,63,85,425,50,1500,215,60,200,125,135,250,32,85,195,352,225,60,35,87,230,60,90,274,69,65,278,60,79,100,500,100,210,180,165,225,150,90,77,145,60,250,90,220,46,55,250,55,225,120,89,40,69,55,152,57,57,37,37,42,100,226,60,300,85,165,390,80,150,225,69,61,100,399,90,40,60,165,212,200,180,115,185,130,165,160,185,170,50,250,150,90,70,210,113,97,85,550,85,260,100,37,85,85,100,65,90,115,160,325,65,80,80,90,150,125,65,150,200,80,125,139,43,45,198,40,50,60,75,35,162,50,49,75,50,130,75,60,125,80,120,150,37,250,130,69,75,100,120,40,300,70,300,160,60,70,55,94,105,50,87,299,100,44,52,80,55,81,185,60,37,70,69,191,80,250,70,45,33,200,135,49,190,80,225,120,130,75,157,120,72,150,110,70,179,45,95,120,450,140,89,88,55,50,95,124,180,165,102,100,88,200,127,133,49,35,69,250,35,375,135,175,175,60,125,140,80,160,70,145,225,68,90,102,60,400,49,70,150,119,10,375,175,132,200,150,45,150,55,60,250,36,59,39,130,99,50,155,166,40,135,40,140,120,37,50,103,125,120,65,79,189,250,100,105,36,45,70,99,95,48,126,135,100,126,150,49,88,139,65,40,250,93,125,85,210,60,100,278,75,85,99,35,60,225,112,250,60,62,99,250,150,180,265,173,60,85,150,250,28,60,25,256,70,70,105,65,40,85,72,40,80,230,119,389,180,40,300,135,139,50,54,38,99,99,82,65,65,225,75,120,165,149,52,248,44,150,89,350,900,275,200,115,100,91,200,39,275,70,50,79,80,127,110,167,145,174,119,62,65,60,50,139,200,130,43,80,180,54,75,176,49,200,95,80,63,32,32,275,70,70,400,100,125,100,220,36,100,175,93,150,85,499,60,175,129,225,68,250,49,77,400,80,340,135,220,2500,60,300,100,50,175,140,90,54,91,99,200,70,77,100,67,70,250,175,106,49,200,100,150,140,125,45,58,94,75,95,79,145,50,40,34,45,32,190,138,75,110,264,120,298,150,398,155,157,120,29,160,150,100,150,160,45,85,85,100,45,250,165,64,60,101,50,55,100,200,53,44,90,105,215,150,150,99,325,155,100,115,59,275,110,150,75,100,175,90,250,150,148,100,188,43,110,200,200,120,51,42,60,250,40,140,116,215,181,70,169,105,55,163,75,225,110,29,55,102,130,350,53,69,130,140,84,145,100,125,125,60,88,39,48,60,75,55,51,54,52,117,62,63,120,45,52,42,175,142,80,42,90,50,52,350,125,105,100,31,45,50,60,80,180,40,550,70,60,55,40,99,125,34,100,115,170,200,175,100,50,220,50,275,200,115,60,54,55,44,70,2500,135,138,115,70,150,150,170,140,400,95,50,65,102,175,275,145,700,239,65,250,90,85,170,60,50,60,152,62,70,99,150,100,110,60,700,100,73,100,58,200,70,140,45,98,150,80,299,60,51,140,150,150,70,40,45,67,290,150,159,77,175,85,1000,60,45,55,48,100,200,56,50,114,200,125,60,40,105,70,108,60,130,30,135,300,79,146,57,250,150,85,70,67,35,160,100,47,46,50,65,115,135,110,48,45,140,45,72,137,170,100,198,100,33,70,42,139,150,180,60,275,59,167,95,50,200,125,100,94,70,135,550,80,68,63,83,60,155,108,75,250,35,70,195,75,98,100,57,200,350,145,170,180,200,400,789,60,60,140,89,150,127,110,123,81,44,105,100,305,85,65,90,50,100,176,100,187,70,76,175,43,350,65,50,37,48,300,135,135,72,90,120,200,128,300,100,190,150,50,110,60,175,229,95,84,80,120,100,210,260,99,125,65,80,69,48,40,135,103,110,50,45,125,129,129,129,190,65,99,60,89,75,187,95,45,160,140,90,200,48,69,45,90,45,110,40,50,180,45,125,325,55,39,85,80,124,120,120,198,55,100,225,60,57,95,600,200,80,116,75,45,50,150,120,99,325,150,500,210,55,108,50,72,33,500,42,87,45,150,170,75,200,115,165,60,59,49,150,77,99,120,85,175,60,250,30,99,42,90,48,55,40,200,100,107,175,150,225,27,101,255,320,87,60,199,320,88,115,85,83,176,100,100,135,150,250,125,160,95,250,175,150,192,69,110,92,95,280,275,60,110,80,65,89,200,59,55,60,199,120,35,79,65,65,85,250,246,150,250,34,80,35,75,33,130,350,60,150,65,150,100,219,90,46,200,160,599,350,88,105,175,80,105,160,160,200,97,89,225,130,50,125,149,200,60,200,65,55,78,275,140,214,65,75,45,95,65,111,210,100,145,50,280,136,585,200,180,40,40,56,795,135,130,80,110,50,298,55,110,145,87,100,125,115,50,43,449,26,38,110,32,149,130,75,350,62,110,80,120,57,239,84,44,100,500,46,140,41,35,114,57,40,60,137,150,80,33,50,65,55,39,150,197,65,50,50,130,200,45,66,60,399,90,33,75,279,120,51,130,90,100,47,85,99,120,60,29,170,45,70,198,87,80,250,152,95,1795,210,135,69,55,90,45,80,37,130,275,150,200,230,65,149,690,53,245,70,275,113,56,268,75,82,65,71,89,59,50,100,55,69,35,108,100,75,99,80,158,50,250,100,299,65,175,90,120,150,61,175,150,80,100,75,500,115,150,110,160,230,120,110,80,199,280,140,50,40,200,1095,56,80,154,63,125,99,265,65,199,45,69,65,82,249,220,95,34,190,160,85,38,58,179,40,45,150,200,125,50,60,70,88,370,100,122,50,60,50,60,53,150,75,129,250,98,99,120,120,60,89,40,150,89,49,60,500,75,169,150,120,165,72,120,275,130,90,105,190,82,69,99,58,100,121,95,389,90,75,150,35,45,150,190,199,35,75,40,99,75,40,180,91,55,120,69,60,333,50,60,150,150,89,135,115,100,76,110,60,40,50,49,200,65,68,199,80,50,78,65,55,63,43,140,72,199,90,55,120,135,80,154,175,80,50,125,150,174,40,45,100,50,115,175,130,63,130,275,130,154,43,225,60,60,180,150,169,83,40,75,89,150,68,200,144,150,75,150,105,350,200,150,98,122,90,450,125,185,359,39,65,60,170,60,200,50,206,50,222,175,90,196,170,70,899,78,399,120,55,189,95,70,60,45,120,37,125,50,75,80,60,68,300,75,89,53,62,100,300,83,60,30,118,150,92,99,124,45,175,147,75,99,120,47,157,80,69,250,175,45,80,217,129,199,119,195,80,126,55,100,59,51,250,150,800,140,95,600,40,85,150,60,149,40,69,300,149,120,40,270,200,120,50,290,100,250,45,85,300,35,55,225,78,49,130,115,59,32,45,70,99,105,160,114,55,120,55,160,110,60,130,115,150,100,85,55,55,90,80,150,350,110,164,42,325,140,75,66,66,95,115,60,800,200,112,100,84,62,35,62,115,155,165,60,400,90,90,75,1500,55,120,600,72,120,200,99,40,185,90,615,180,75,80,90,179,269,106,110,800,60,219,150,289,55,139,65,239,110,89,106,150,45,55,55,164,65,63,70,120,82,56,80,139,110,60,70,69,45,58,110,80,51,50,273,212,54,170,102,50,85,80,50,86,136,79,211,70,159,55,119,120,71,170,70,80,50,80,129,99,49,125,150,30,144,55,170,185,120,174,125,60,73,105,85,300,150,130,80,140,75,300,69,53,79,409,600,38,185,175,115,50,75,1000,70,85,250,40,50,162,250,35,295,75,45,38,61,340,170,80,94,54,80,58,120,45,120,70,215,250,72,181,85,80,115,50,255,120,61,65,55,298,672,100,199,60,130,80,200,66,165,350,85,150,100,90,144,90,210,350,68,60,60,127,60,60,110,69,70,125,59,200,70,60,70,50,65,120,95,70,192,60,175,295,50,66,226,250,530,106,40,34,140,50,125,245,400,65,65,50,80,150,77,99,127,39,69,195,50,99,75,89,265,400,160,75,175,55,105,495,34,106,233,85,133,70,70,60,300,150,72,200,80,74,190,78,250,198,220,75,110,105,250,150,32,260,70,115,80,50,47,97,95,35,65,45,60,99,35,150,50,50,151,44,38,325,300,139,175,168,250,250,100,160,449,90,250,350,55,70,275,79,70,40,105,70,60,64,250,75,275,100,50,49,125,130,118,150,300,49,245,60,160,275,120,150,59,150,154,174,250,200,60,85,120,115,47,150,140,65,140,47,100,70,62,188,185,252,44,180,50,799,180,180,170,186,82,90,172,60,106,52,184,145,65,100,74,200,175,130,48,200,205,90,130,149,389,250,699,67,135,90,83,37,65,106,100,270,35,120,67,85,225,200,389,182,54,400,50,125,140,106,106,106,99,105,139,100,130,229,77,75,65,80,125,65,220,150,60,180,165,75,100,120,179,125,49,49,90,50,499,36,5000,275,80,35,90,50,250,140,125,50,150,59,85,60,110,37,90,180,111,150,135,120,241,69,150,94,130,135,70,290,95,53,58,80,33,198,55,150,100,129,138,40,35,50,40,57,115,80,210,379,48,37,175,50,173,450,225,80,176,165,125,239,130,104,225,178,114,130,230,60,65,150,150,100,55,75,3900,65,89,159,170,115,125,325,165,129,350,90,216,50,110,55,300,49,158,97,95,100,65,100,50,75,55,55,175,100,75,75,35,53,95,175,180,55,79,30,50,150,133,496,75,100,1700,80,123,30,50,195,69,150,49,95,109,105,49,120,69,85,120,135,49,100,250,48,87,85,48,90,60,50,85,70,125,45,88,89,42,50,120,60,62,175,76,47,175,60,200,175,55,220,60,50,175,75,250,85,174,100,260,75,160,88,170,95,62,45,100,60,211,100,250,125,145,116,50,175,175,246,44,99,62,55,69,150,125,80,42,42,50,69,145,58,65,175,100,135,120,49,48,55,435,93,60,42,40,88,85,60,58,90,65,76,74,95,210,50,93,250,269,70,90,422,250,99,65,55,149,45,40,135,45,75,200,145,160,100,58,120,80,65,115,220,225,100,225,245,80,110,183,55,250,275,120,89,100,59,50,45,50,49,55,69,275,125,300,145,170,95,243,150,23,60,181,70,53,130,350,60,35,179,65,75,90,114,111,58,95,220,99,93,55,50,308,150,35,150,75,150,65,350,125,59,140,75,184,125,175,367,75,80,137,95,125,150,115,45,55,180,55,99,200,70,125,150,164,101,60,130,150,114,225,250,99,209,59,300,160,45,250,60,120,47,53,55,225,78,52,60,161,150,60,75,38,35,115,130,159,83,225,70,70,125,125,75,55,198,200,102,80,350,140,155,310,525,200,95,35,150,98,79,79,87,210,150,260,121,129,90,100,250,250,225,45,165,85,29,85,75,330,79,125,78,70,113,370,150,60,65,103,60,65,80,50,60,106,137,150,65,120,225,50,435,100,150,85,69,235,47,134,200,150,99,70,148,30,450,150,50,45,55,105,85,131,169,58,140,200,120,75,99,120,45,89,186,70,90,35,134,99,85,80,45,110,139,120,110,110,38,100,250,110,199,40,195,25,52,75,99,55,54,90,50,53,59,99,195,160,250,150,85,45,149,60,99,65,225,79,36,79,54,79,145,300,58,70,50,55,170,124,40,111,75,325,107,60,60,60,120,200,135,41,160,80,100,59,65,225,175,100,119,30,400,32,245,700,90,30,135,200,120,119,196,80,55,88,78,50,215,300,160,250,125,180,650,60,695,280,100,75,135,50,175,80,50,130,70,45,250,155,100,76,240,80,35,50,90,65,100,92,425,58,85,250,116,120,70,100,76,150,100,75,125,120,42,349,299,30,70,1177,110,65,30,120,33,38,200,790,225,90,100,99,55,55,58,97,165,125,106,60,99,180,129,160,86,155,185,210,80,130,113,160,350,222,65,90,65,55,94,185,49,80,139,70,400,45,75,100,150,100,139,40,80,100,100,150,273,225,100,135,400,125,150,222,175,70,175,130,150,45,50,100,90,45,175,99,60,158,60,45,145,110,115,50,45,180,350,125,180,70,126,190,50,50,95,100,115,85,40,195,79,89,32,28,55,100,125,150,300,150,115,100,45,150,199,50,275,75,150,180,43,85,115,105,70,290,148,110,110,43,170,65,90,159,175,60,35,148,110,115,85,50,120,300,200,319,100,200,80,120,239,71,120,145,95,100,65,60,100,47,126,25,114,185,165,60,225,150,55,125,59,95,75,1500,85,75,130,70,128,130,120,69,47,181,48,50,60,58,99,150,225,40,130,35,169,150,169,37,125,62,120,55,250,45,120,55,140,100,80,70,189,200,45,275,150,150,65,150,195,59,43,160,95,190,125,165,135,225,380,200,129,133,44,142,55,185,110,175,222,175,175,115,180,80,125,125,475,750,86,75,153,165,55,50,45,35,90,149,175,90,108,78,50,250,95,85,100,60,160,68,85,198,290,48,60,75,250,50,90,155,220,250,378,325,35,45,96,78,110,37,135,45,60,125,95,5000,115,250,179,99,65,125,75,125,295,200,200,60,135,135,100,250,125,38,220,100,150,58,160,130,200,35,45,235,150,35,40,525,85,253,275,110,73,573,80,170,135,1100,120,195,115,70,766,200,150,125,75,95,140,83,135,231,95,84,89,55,155,77,52,95,250,45,75,100,100,130,840,250,250,300,100,200,120,55,160,85,100,85,40,150,230,40,130,50,75,43,40,255,38,105,130,350,35,120,68,55,49,106,55,298,29,50,40,150,298,175,60,250,43,265,60,400,180,235,52,250,130,150,50,160,300,70,106,130,120,200,80,170,80,65,60,400,100,68,120,80,100,80,92,95,185,200,300,99,50,135,115,135,135,135,135,135,165,165,165,165,165,135,135,50,40,540,85,130,150,90,121,29,40,79,115,250,149,50,85,180,100,200,200,119,70,55,250,75,40,50,37,90,150,140,48,80,125,188,130,100,75,249,345,130,90,160,85,125,30,200,200,90,148,99,148,89,585,120,36,100,60,200,200,80,90,80,83,71,140,180,120,65,69,170,70,150,67,96,57,395,29,350,120,100,190,200,70,49,70,70,237,129,72,90,800,130,160,175,58,115,300,577,104,49,35,85,91,80,200,80,175,45,96,180,100,129,60,135,95,125,48,250,300,44,75,88,125,300,250,44,174,199,128,30,150,65,50,175,86,325,95,50,250,165,150,90,156,110,70,154,85,299,40,85,127,80,195,25,35,250,120,139,100,90,150,82,125,350,40,80,40,85,185,215,45,150,65,190,60,175,60,250,288,100,95,50,200,110,60,143,97,350,150,589,138,200,50,65,245,100,60,89,51,150,110,230,119,44,80,233,150,115,60,150,70,75,109,65,210,145,40,180,40,75,40,128,36,85,173,150,200,98,69,142,180,150,100,125,175,66,150,79,66,85,125,89,105,120,56,129,180,35,130,35,25,150,120,60,90,109,70,145,200,225,200,40,75,85,145,150,100,100,42,299,50,200,105,60,175,114,62,160,184,299,103,225,750,249,75,175,58,250,110,150,60,65,60,80,25,150,170,70,65,55,550,215,90,110,30,95,35,70,150,80,160,90,196,62,36,143,120,129,32,48,150,250,70,100,40,110,200,250,60,60,125,85,140,67,50,300,75,140,165,100,100,55,100,108,42,39,100,95,140,110,300,70,85,55,949,120,45,125,80,300,99,71,95,123,80,95,110,90,100,75,150,400,55,120,165,150,58,150,60,250,315,75,125,80,32,32,80,69,200,350,150,50,48,49,150,230,90,75,89,150,200,65,94,95,159,150,159,80,190,70,59,190,200,69,70,170,133,60,50,90,235,59,100,51,65,95,50,68,35,110,70,65,145,125,250,275,31,125,55,32,65,75,65,84,90,150,185,47,85,60,200,160,50,107,120,150,65,40,52,358,219,130,157,100,48,60,100,45,48,375,125,118,116,55,55,85,47,80,40,102,75,69,59,489,70,90,35,50,100,80,120,75,48,40,379,50,210,120,62,45,54,75,66,44,65,70,249,128,128,50,150,75,60,80,40,60,125,75,30,199,100,385,47,70,265,60,33,29,60,33,219,80,150,80,60,55,100,125,72,64,149,99,225,265,200,80,111,150,55,85,400,60,90,70,220,120,64,40,70,169,75,139,300,38,40,58,43,60,32,55,100,99,50,47,67,55,125,190,50,80,150,99,500,225,41,140,85,105,115,31,120,100,250,28,150,30,30,60,75,150,50,50,160,125,239,250,110,95,1000,160,118,70,125,55,130,80,248,48,150,175,67,80,45,180,31,98,40,100,200,125,90,82,100,485,43,175,200,108,80,100,89,95,95,46,200,148,120,120,130,225,125,80,90,55,500,175,75,80,320,300,78,100,213,141,100,175,225,87,36,78,199,50,125,100,37,78,98,120,250,70,188,75,60,63,125,175,2200,95,135,126,70,150,150,395,165,69,850,47,200,75,58,90,47,95,180,54,400,175,138,110,245,95,125,45,100,195,101,49,70,185,100,100,249,99,60,459,70,60,497,130,59,60,350,75,160,550,60,100,100,250,105,70,105,75,75,52,42,55,120,175,80,220,101,50,73,275,110,125,75,130,69,25,185,60,125,150,175,500,130,67,65,70,130,92,51,45,20,43,55,175,45,70,150,65,140,200,195,45,225,150,40,105,150,195,225,94,220,30,187,60,45,200,89,97,49,147,26,31,100,120,700,100,80,83,35,133,92,35,95,73,255,200,225,275,159,195,495,130,135,100,59,150,65,175,380,170,50,78,30,200,80,99,125,165,159,99,50,96,65,226,65,250,193,110,245,220,70,80,70,200,145,50,170,135,65,60,339,125,60,60,750,200,250,325,75,129,85,60,35,99,140,1000,116,60,130,350,95,21,499,108,50,175,230,60,130,299,40,40,270,48,300,228,60,99,65,325,90,139,50,60,110,69,500,600,125,62,196,299,80,111,80,184,60,75,70,210,165,40,170,93,47,200,175,120,70,175,105,275,165,48,195,280,100,80,48,228,55,60,90,139,95,129,150,119,90,125,55,79,120,138,126,35,46,55,50,60,400,160,70,45,340,50,300,95,150,70,45,280,45,400,400,245,50,125,95,150,100,385,125,100,105,59,99,80,115,53,45,80,43,275,200,200,96,65,180,95,125,36,95,150,85,190,61,130,180,60,200,65,1066,200,130,70,95,400,150,115,80,345,110,150,265,42,95,130,99,51,300,259,250,71,155,135,89,150,250,150,75,50,70,450,68,80,200,450,398,398,41,200,120,160,55,37,60,135,95,350,245,150,10,69,250,88,200,160,40,150,280,65,150,159,150,195,200,100,425,115,50,412,93,160,50,210,250,90,225,40,215,55,90,170,160,80,35,200,43,100,55,55,95,350,42,125,80,133,150,12,120,50,250,70,80,40,79,120,139,66,40,100,50,185,55,160,80,119,125,155,76,100,120,38,80,36,119,119,50,119,119,195,119,200,143,45,350,99,65,85,160,400,333,85,89,375,39,50,37,90,150,85,99,100,165,52,100,130,100,120,50,130,250,90,110,40,92,100,45,35,85,50,50,38,65,50,75,100,250,650,129,129,41,65,129,129,70,150,89,100,175,20,300,275,185,120,220,50,30,70,600,75,200,60,125,50,75,150,78,200,199,70,115,250,142,67,40,350,160,149,75,850,75,400,95,85,130,149,90,95,850,60,65,45,105,395,550,50,190,160,51,220,130,300,45,79,55,45,50,200,103,139,69,60,150,31,100,650,210,49,30,140,71,60,90,80,60,109,75,139,139,350,86,100,120,139,150,161,245,800,350,135,349,35,79,649,80,200,225,50,300,130,40,90,50,35,50,50,50,250,180,485,350,99,85,150,300,40,60,100,275,70,100,66,250,99,200,100,55,650,100,120,12,88,27,85,150,150,50,125,43,90,150,110,150,80,120,130,196,115,225,274,107,115,250,41,125,169,43,99,66,38,150,49,120,75,88,300,205,199,50,69,85,150,250,210,475,299,215,180,150,75,60,75,150,460,125,65,150,85,75,99,159,60,135,50,65,100,35,69,85,54,120,75,100,73,94,300,65,100,186,113,50,70,325,49,85,487,49,150,80,35,90,34,51,200,45,45,115,60,150,33,100,200,150,131,58,45,300,102,88,57,209,200,120,60,58,200,120,128,60,110,145,35,75,300,325,200,50,120,53,90,110,250,53,39,150,65,105,100,175,50,455,70,58,125,75,55,29,37,90,65,80,95,98,120,90,160,45,41,175,150,200,60,80,81,31,47,50,50,130,105,50,35,115,275,170,90,130,190,150,143,200,55,59,65,50,148,55,230,250,200,100,90,120,47,75,80,110,45,300,150,80,350,250,57,50,399,132,150,40,150,189,400,65,100,250,100,51,299,125,150,65,295,60,195,80,75,91,30,57,160,400,100,149,250,40,400,55,250,100,55,65,425,49,175,129,87,42,115,150,50,374,70,50,75,45,143,170,42,65,65,112,150,200,100,142,55,50,185,185,45,160,179,55,195,74,22,175,225,99,150,100,88,29,400,85,140,65,150,70,250,99,45,189,70,27,80,450,75,175,35,41,50,40,150,400,85,100,150,149,210,150,50,350,130,285,45,30,50,50,250,110,125,80,70,150,53,55,647,95,109,485,160,150,200,58,109,75,50,215,249,200,56,120,127,83,290,150,39,27,56,200,65,50,195,625,69,125,160,195,250,125,100,180,175,90,50,200,90,70,115,75,190,200,125,33,130,149,195,105,40,28,45,68,150,60,260,79,130,90,250,100,55,280,43,200,41,89,50,85,42,85,45,39,56,295,110,170,90,40,50,120,69,100,25,135,120,200,35,70,99,75,150,220,175,90,120,320,250,199,105,110,99,80,59,200,300,85,150,180,75,229,50,248,299,67,150,200,277,99,600,80,500,175,150,239,500,320,125,31,189,200,120,150,70,135,38,135,125,50,55,50,110,70,140,149,100,70,400,40,220,25,39,350,90,30,3000,359,65,109,70,75,125,40,98,110,115,145,89,85,300,85,100,225,95,91,59,74,33,42,75,225,39,225,225,100,66,50,32,50,35,250,95,80,225,220,105,199,53,125,400,70,50,20,300,89,59,221,100,69,150,275,55,65,250,225,135,90,175,82,200,135,75,225,34,19,35,40,38,249,115,150,105,69,79,100,80,85,92,100,22,720,65,35,50,70,38,237,30,250,170,400,210,50,75,65,85,100,290,165,180,40,325,190,90,70,167,33,33,151,15,72,150,145,200,35,48,50,30,125,81,115,225,128,65,80,135,3000,240,50,100,150,65,150,180,50,329,138,54,50,63,150,43,145,160,60,85,149,69,40,400,150,350,90,140,80,129,60,110,75,150,45,64,71,135,100,30,110,200,200,30,65,100,109,71,70,70,85,100,83,169,50,55,65,110,285,180,69,199,95,140,99,79,225,149,60,85,130,150,75,150,60,80,220,129,245,500,135,190,100,80,200,150,120,2010,3210,4160,117,125,70,75,1046,60,152,65,195,70,225,57,160,200,29,200,149,45,45,162,50,400,110,90,38,59,105,210,150,250,170,115,150,100,42,125,50,130,100,59,199,84,80,70,90,75,150,87,140,49,105,60,75,65,150,125,41,100,249,250,45,150,40,170,299,55,45,49,475,34,129,75,95,180,100,220,205,100,112,125,102,40,65,100,80,200,100,175,115,45,70,50,60,90,110,65,70,75,64,120,95,67,60,150,175,220,365,325,59,121,50,32,49,50,95,75,1000,191,125,55,110,250,85,45,150,125,185,104,45,135,55,79,27,75,135,110,200,50,60,175,190,100,111,130,100,44,100,70,140,80,179,47,160,80,110,250,400,70,225,80,350,190,275,90,159,80,45,65,118,60,57,32,29,44,35,126,200,120,64,78,271,78,65,38,140,187,300,100,117,500,158,61,60,95,160,109,160,330,50,50,23,68,36,190,140,185,50,45,35,110,140,120,125,50,130,150,68,199,450,76,39,48,70,175,120,100,50,90,37,40,60,53,120,150,115,59,99,89,47,149,159,90,80,50,60,240,37,58,70,280,35,349,120,40,450,250,80,80,300,40,119,110,110,499,99,499,40,50,130,175,60,60,92,30,129,34,95,125,65,38,225,68,65,180,110,150,32,108,68,1500,10000,75,150,165,125,150,60,27,50,199,48,180,109,80,109,139,39,80,225,55,99,145,75,85,150,150,70,150,140,160,78,300,225,200,220,90,40,200,40,240,150,170,35,250,399,210,220,170,170,90,80,96,59,80,39,100,100,70,80,235,55,140,260,200,80,78,208,32,85,250,28,101,168,100,79,190,30,69,44,45,70,85,140,140,75,400,50,35,140,75,140,125,125,60,80,250,100,60,350,60,42,60,120,95,70,40,132,45,26,95,78,75,75,50,50,105,149,54,100,89,80,132,50,50,50,300,85,80,350,65,180,111,35,30,90,89,255,44,30,75,110,160,200,60,300,72,39,75,60,350,80,550,39,108,38,85,800,40,60,30,48,175,175,88,60,85,70,161,145,38,150,75,35,70,89,275,50,55,300,180,94,80,150,70,125,69,179,170,105,23,54,69,80,30,60,450,490,78,179,245,100,160,35,50,45,38,120,280,120,175,100,60,80,175,130,185,60,140,140,50,95,95,49,90,58,175,25,32,85,45,100,100,230,34,65,35,103,60,55,95,416,45,99,125,75,200,100,40,60,97,55,120,39,38,45,60,225,25,25,30,50,25,200,100,65,30,110,45,200,115,75,89,50,125,80,70,100,169,200,300,50,225,30,545,200,189,71,200,65,85,125,395,38,38,70,74,69,155,165,80,90,55,150,170,95,22,150,200,130,173,75,170,110,50,55,135,85,55,189,60,100,76,97,175,150,42,175,40,75,75,79,45,78,160,50,60,300,55,800,170,120,99,90,65,70,80,40,54,138,66,35,25,55,45,109,110,125,119,375,65,75,58,85,68,90,90,75,130,50,150,100,70,345,59,150,80,60,100,50,120,120,48,78,23,175,95,40,339,100,79,50,40,85,129,105,275,47,265,155,80,115,35,69,250,100,120,450,36,52,175,130,45,150,228,80,200,50,150,65,115,180,47,40,1680,7703,3518,6419,2626,2103,75,125,140,220,50,30,980,49,79,90,150,69,50,49,1100,50,1500,69,69,65,150,200,150,110,110,69,230,50,60,100,92,98,145,175,80,69,55,65,65,40,100,40,68,250,66,66,600,60,237,100,120,60,105,150,125,45,90,175,125,46,150,60,70,70,149,50,50,60,69,44,80,25,480,46,150,55,58,58,280,139,125,69,110,275,45,125,249,32,140,86,50,165,150,80,58,38,350,80,73,169,75,59,145,195,199,100,60,45,90,78,59,37,110,35,188,70,45,169,275,50,220,190,35,60,189,45,60,149,170,199,72,30,60,300,195,119,159,27,50,150,140,120,65,98,39,50,189,75,100,36,25,84,295,38,35,220,70,150,125,75,110,60,53,89,75,29,128,130,50,110,45,90,125,170,60,89,150,35,32,69,47,50,150,175,80,20,140,150,299,75,50,57,75,100,190,130,65,25,175,450,200,55,400,200,140,160,100,90,120,95,200,169,65,150,65,350,250,90,350,65,27,115,74,110,148,150,35,35,125,65,150,150,60,69,70,118,115,100,125,399,70,100,100,495,120,140,50,119,200,145,50,125,117,350,145,35,125,300,50,135,225,60,300,250,300,110,525,104,39,45,178,220,45,55,97,35,80,180,50,68,140,150,100,42,75,77,130,93,75,130,65,99,119,55,65,250,140,29,94,72,31,150,250,80,80,150,75,49,85,83,135,100,25,329,48,180,55,365,150,99,109,40,325,58,76,289,65,850,160,225,90,70,45,100,90,35,41,149,45,40,90,29,257,295,70,70,65,62,60,95,225,49,325,100,67,90,45,495,112,160,37,104,95,80,115,148,75,173,65,75,250,160,300,169,60,84,115,106,100,100,50,55,120,120,127,160,200,117,250,76,30,40,92,175,200,50,180,100,117,130,59,94,63,55,69,80,20,40,127,63,95,75,50,1250,80,40,145,135,44,70,47,42,33,70,350,85,90,120,100,145,75,250,150,65,159,65,159,200,60,46,150,69,26,190,50,65,80,125,71,150,80,70,80,43,210,133,50,100,47,99,150,50,80,200,47,44,67,60,50,245,29,180,189,41,60,120,123,339,125,30,54,75,92,130,55,35,75,50,180,89,93,289,85,80,150,100,35,175,113,69,50,105,55,100,109,500,150,125,34,260,68,250,200,200,125,199,68,37,60,300,87,500,160,145,40,50,60,40,70,100,172,75,118,240,73,58,60,34,60,125,79,55,165,45,70,93,49,65,140,700,100,125,295,120,75,75,30,127,60,165,59,100,105,58,125,30,30,146,52,35,62,43,32,88,80,149,169,85,395,60,100,50,35,99,75,60,46,175,120,179,1000,120,2000,2500,69,98,100,117,115,45,149,8500,175,80,125,125,99,115,96,150,67,225,36,62,35,175,32,39,60,110,47,59,30,139,70,110,81,85,68,95,80,409,60,400,80,66,200,50,95,29,60,90,240,162,46,31,100,159,50,70,35,59,150,80,200,225,225,100,96,60,60,300,145,335,75,80,155,100,150,120,225,175,75,89,55,100,60,60,77,50,250,80,43,99,43,43,60,52,110,60,26,46,200,150,80,65,130,90,75,40,47,450,150,110,101,135,55,51,39,37,37,37,75,25,130,479,150,89,220,175,36,49,135,84,60,170,126,100,55,159,90,90,30,325,250,550,70,80,150,80,83,80,50,60,40,165,130,65,50,60,42,158,174,65,380,110,145,77,99,89,98,305,75,70,68,450,40,75,50,200,290,50,175,125,96,250,135,140,45,75,220,186,70,175,55,95,640,278,125,150,65,43,250,285,65,85,120,165,39,39,40,250,140,60,250,200,135,120,48,200,55,86,130,112,70,275,150,175,378,150,65,85,57,46,190,70,60,125,175,100,245,68,85,95,110,74,53,45,125,95,45,250,300,148,55,47,250,115,55,140,240,140,120,200,50,49,175,180,70,400,199,194,500,105,70,50,187,250,53,50,100,65,110,36,40,185,175,65,42,25,72,45,77,120,70,35,200,70,100,179,110,374,133,175,42,350,200,65,55,150,115,75,62,139,150,75,45,90,113,100,186,60,34,72,42,250,120,120,107,137,163,153,120,137,120,163,153,137,120,208,153,163,110,400,65,360,120,95,50,65,26,189,60,150,400,90,400,245,100,125,220,49,55,250,110,45,100,175,81,75,37,32,200,120,150,70,40,108,91,140,212,105,147,205,92,139,100,55,80,75,40,400,205,70,80,220,215,119,44,199,190,45,60,178,750,175,49,130,135,100,325,150,100,45,75,30,130,75,105,75,150,89,57,800,50,325,300,219,150,99,100,250,150,112,175,95,100,220,227,280,750,55,165,200,159,200,93,125,100,105,99,69,47,50,120,210,84,89,90,222,100,227,220,172,550,800,162,175,149,149,190,600,96,125,166,45,75,30,70,300,200,160,300,90,375,100,50,89,60,100,65,100,125,100,35,85,86,30,600,99,50,270,195,110,80,85,125,190,75,55,35,48,129,139,129,400,240,85,105,600,110,280,75,50,40,60,375,30,45,100,67,200,65,110,49,39,199,65,45,196,65,47,110,240,45,225,200,45,171,70,170,125,45,150,106,80,50,50,90,60,154,80,65,65,149,66,150,2990,69,30,65,31,120,140,55,50,60,179,45,187,50,179,249,182,40,60,50,175,195,40,60,75,40,150,115,72,95,100,75,250,1000,60,163,75,48,100,125,339,40,60,339,65,269,269,269,300,180,200,63,65,300,100,95,190,300,231,125,45,64,150,50,115,29,50,105,40,50,199,49,105,50,45,95,47,100,65,105,50,175,195,225,75,45,125,75,60,148,50,150,1000,135,140,159,50,44,49,600,70,295,200,49,175,45,35,180,100,155,80,70,38,70,38,75,120,200,160,28,210,37,120,77,80,150,124,30,65,65,55,90,225,48,39,88,159,99,40,35,115,620,75,37,200,75,50,120,95,80,50,55,48,100,99,74,65,158,40,119,325,215,120,65,90,230,188,140,60,95,100,175,45,70,60,95,70,119,120,115,125,45,89,75,240,199,40,100,60,45,50,175,60,99,70,260,159,60,100,78,180,80,250,50,118,42,69,42,100,110,155,150,119,89,399,275,150,140,199,65,100,103,649,85,79,96,70,57,274,250,90,100,412,412,412,50,148,120,41,70,90,99,10,69,54,35,39,82,40,148,60,130,95,65,20,190,60,55,49,100,52,35,45,41,275,265,250,130,55,365,70,30,225,650,95,500,244,750,46,40,140,1500,140,199,80,69,188,100,235,165,55,65,70,125,90,56,394,172,100,80,142,220,264,150,200,45,150,160,135,55,50,89,49,185,180,70,450,110,125,72,80,44,45,71,60,65,300,99,79,339,58,90,175,158,145,60,99,80,85,115,52,280,250,55,100,195,80,100,55,120,300,339,140,53,21,125,47,180,58,58,150,120,47,288,65,300,104,160,250,186,73,195,200,100,300,150,190,75,81,25,275,60,180,90,222,95,70,125,173,220,148,75,199,54,150,153,99,65,50,45,100,62,77,46,95,159,300,103,200,102,350,425,45,168,40,55,150,79,65,70,199,45,70,60,194,59,49,65,165,80,175,95,100,95,54,299,45,250,120,105,299,130,90,62,70,225,95,288,149,95,150,200,150,175,180,70,100,79,350,75,235,39,300,50,130,130,250,120,450,47,115,100,120,65,79,89,300,220,265,300,150,150,150,46,68,55,65,70,65,310,88,50,250,80,80,130,130,100,250,200,54,65,120,95,50,299,138,42,175,85,74,65,47,85,975,130,70,70,179,300,150,99,125,170,89,50,90,80,168,100,118,150,120,175,190,195,112,450,200,45,150,99,100,50,220,123,110,120,110,85,299,55,47,55,130,40,150,70,180,90,120,145,100,150,125,60,150,190,145,50,95,91,145,100,35,120,69,50,290,50,545,200,180,10,47,175,75,45,275,23,95,199,130,161,65,60,165,69,100,89,55,37,80,80,37,40,60,90,245,175,50,210,350,45,300,155,125,225,90,110,65,125,35,150,299,50,60,59,250,185,60,139,80,33,89,69,68,185,100,116,140,225,99,135,90,160,148,60,200,125,150,125,125,185,65,85,89,150,300,65,110,125,75,145,65,142,200,225,235,200,50,36,75,60,247,295,80,99,36,400,73,117,323,1000,100,265,145,255,209,300,101,60,185,65,222,250,80,140,110,200,100,175,255,112,70,102,50,75,974,33,55,50,62,119,52,45,160,162,205,86,65,85,61,75,79,93,32,119,150,129,35,51,120,78,100,114,35,150,75,128,160,100,199,100,170,99,35,175,400,125,75,271,46,240,240,50,115,75,160,80,150,79,250,60,85,200,40,89,95,135,260,80,130,165,400,200,139,59,45,75,159,120,99,112,175,85,55,80,90,180,215,47,415,275,115,199,150,150,120,60,58,149,700,45,55,110,70,60,121,62,75,50,52,109,100,160,200,65,115,50,95,300,69,169,134,89,35,120,140,200,139,80,79,125,40,91,295,400,76,400,48,125,250,65,80,650,48,99,55,44,200,150,100,150,150,350,128,200,190,40,71,60,59,599,125,115,65,50,198,78,160,125,90,43,80,60,190,60,57,120,119,200,38,92,45,200,120,42,89,95,80,235,40,150,120,400,130,75,125,120,120,35,45,100,97,225,89,80,200,40,80,175,250,135,179,59,180,125,170,182,65,450,42,79,80,165,50,75,128,122,46,85,150,199,70,105,59,67,61,170,100,86,85,145,210,50,80,50,50,50,151,200,150,147,350,200,70,140,109,55,50,200,190,200,49,119,40,210,105,86,150,60,225,157,70,140,74,150,75,40,180,37,344,40,130,99,142,550,70,45,59,160,125,59,239,200,130,104,182,30,65,250,60,48,149,59,100,62,135,95,450,59,59,40,215,120,49,41,125,250,75,34,169,60,375,150,150,224,80,100,100,125,120,75,600,70,60,50,149,180,118,70,1195,175,165,150,50,50,33,60,50,110,145,137,50,150,45,75,50,91,250,80,136,99,103,175,125,180,120,164,50,80,49,50,120,60,45,70,120,375,75,70,60,55,80,150,150,225,200,99,110,115,225,95,139,65,160,150,250,175,179,130,80,44,300,215,100,295,100,85,150,225,80,75,140,110,100,265,150,91,795,185,125,75,330,99,50,79,129,40,1200,200,41,140,295,125,150,170,101,350,175,105,54,90,125,233,400,139,135,305,175,140,126,75,62,99,50,224,95,108,94,160,72,199,50,75,169,75,85,75,99,120,200,80,150,55,180,120,90,1500,40,42,55,180,225,150,50,170,50,350,415,112,170,80,300,60,54,46,80,180,168,400,100,97,48,95,170,125,175,80,139,162,75,93,99,89,85,2500,105,100,198,48,117,110,206,164,90,220,150,45,65,170,399,175,99,185,150,175,189,51,398,175,160,65,130,96,89,70,99,450,69,500,50,120,197,225,105,170,68,110,200,360,165,200,265,100,140,128,125,150,80,52,350,129,125,100,140,45,70,75,110,90,100,176,90,89,120,65,95,180,60,80,191,130,650,175,100,113,43,65,95,200,130,275,100,85,100,190,150,65,100,50,120,186,120,50,32,239,45,159,130,107,75,120,80,250,217,699,475,150,150,225,225,140,49,450,200,112,89,209,300,49,50,294,450,150,89,79,50,70,118,75,41,190,90,195,150,47,86,160,150,45,337,78,169,169,86,350,99,180,105,85,222,97,219,232,40,100,100,400,69,180,150,88,169,40,390,600,50,55,90,95,85,65,100,295,280,45,89,49,75,45,90,125,149,110,115,76,90,182,65,95,46,120,37,85,85,75,110,140,150,85,130,300,130,125,74,99,62,200,180,46,70,166,359,200,100,100,175,40,120,38,55,60,199,50,32,175,74,175,113,150,200,95,86,260,65,165,150,140,62,100,100,125,44,75,299,799,70,149,145,50,50,80,100,60,92,80,155,65,156,100,197,80,250,45,50,250,199,150,80,33,85,65,100,60,150,80,339,175,339,100,100,200,75,140,245,195,45,93,35,40,99,65,156,60,60,399,100,95,108,269,240,200,80,61,200,50,100,65,60,410,55,245,132,45,155,225,150,150,450,100,110,160,220,150,350,53,1000,145,68,60,85,60,65,130,61,300,41,425,135,85,48,165,50,117,95,75,140,125,85,200,149,85,30,92,200,60,150,109,60,650,140,200,120,175,170,83,90,110,89,96,70,80,65,150,100,99,150,69,375,55,175,90,60,100,47,160,80,125,81,350,183,60,120,1000,156,300,179,70,80,120,73,236,110,55,100,55,75,160,170,167,120,230,125,100,300,125,300,100,250,50,70,43,95,164,40,95,229,190,120,207,100,180,99,125,50,190,55,150,75,500,69,99,65,65,36,125,50,250,54,55,95,115,35,105,200,123,95,300,120,70,140,114,80,85,125,157,125,90,54,195,230,40,65,325,460,30,132,40,180,149,90,149,94,91,115,50,55,100,90,160,100,60,75,130,120,149,85,182,1333,160,50,175,155,179,350,45,100,136,125,60,200,80,60,235,249,125,65,500,45,325,150,150,163,165,189,1100,50,200,225,350,46,350,499,115,100,95,43,120,88,215,200,299,115,199,129,84,170,149,47,125,177,500,60,100,180,65,200,50,150,159,130,100,65,100,185,150,225,398,62,180,250,75,150,33,200,99,100,49,50,83,40,45,161,125,90,85,69,85,65,99,110,70,100,25,225,110,60,55,98,295,80,70,400,66,98,186,60,97,60,98,200,62,62,138,65,90,99,350,140,85,200,90,60,225,48,149,200,225,50,65,80,87,87,149,169,95,305,525,102,220,179,190,50,140,220,124,114,199,135,55,125,131,100,95,220,135,80,89,97,167,45,45,45,75,100,189,70,120,164,375,25,165,56,52,275,250,89,89,49,60,159,120,88,186,99,90,70,40,649,50,45,95,149,50,280,75,65,100,80,80,60,100,35,250,75,60,49,125,50,50,100,43,200,55,54,80,140,250,250,499,140,175,111,160,150,60,70,70,425,230,50,200,125,60,40,107,62,195,150,50,85,110,211,100,125,45,38,50,83,100,1000,35,75,26,62,170,62,60,51,70,105,60,100,122,10,299,85,90,124,42,180,80,175,85,45,160,59,150,69,69,180,100,125,50,75,55,65,200,120,160,200,34,195,70,105,195,60,120,250,89,32,340,550,88,70,65,125,100,110,125,40,150,70,72,195,45,45,90,60,134,250,75,80,300,75,150,52,550,250,110,250,325,21,150,75,100,37,50,275,110,115,160,65,184,189,169,129,119,119,65,40,45,375,200,65,70,190,85,800,80,65,129,60,180,35,60,60,39,70,115,60,80,68,155,780,135,115,59,169,100,195,85,109,109,85,85,45,60,115,100,50,125,850,70,100,55,95,347,50,190,169,215,299,175,220,120,200,190,90,85,90,399,349,379,399,150,98,140,50,393,62,112,90,117,350,62,45,285,125,75,333,65,250,100,103,95,75,220,100,110,125,110,39,179,90,55,99,200,120,149,200,190,149,230,50,97,76,60,350,60,60,209,125,150,125,90,50,350,60,300,150,50,200,60,183,70,60,95,100,70,55,59,83,67,259,150,41,550,99,70,350,350,37,140,349,105,75,55,85,165,250,55,59,129,55,109,75,52,115,113,50,40,100,45,150,66,200,35,90,75,90,139,82,85,106,100,106,130,60,200,200,100,745,95,85,230,89,150,274,85,100,225,75,175,69,65,100,120,60,249,110,95,170,100,65,350,155,90,50,150,200,250,189,119,112,70,41,45,280,200,175,199,64,99,168,150,163,52,156,85,40,60,60,70,130,80,145,73,38,60,59,1200,36,200,90,200,102,230,174,200,42,70,170,99,750,289,200,208,175,225,300,130,170,275,40,131,75,425,100,250,40,120,85,156,112,139,169,75,70,300,75,595,90,99,120,185,160,30,74,240,131,40,125,60,95,155,120,200,250,95,38,187,400,50,249,60,215,89,90,165,108,55,499,35,35,75,99,155,50,75,50,220,90,75,60,295,60,100,75,10,58,60,100,369,150,63,219,90,171,40,35,309,60,250,650,80,50,30,90,65,150,110,95,32,142,150,35,55,50,140,175,59,39,80,65,75,94,91,60,260,73,225,34,67,170,190,40,97,50,100,65,220,250,120,120,50,120,66,80,80,80,45,129,220,200,55,40,55,150,75,75,67,250,125,59,165,195,50,79,98,36,37,295,75,265,79,449,400,195,59,100,100,80,96,45,125,85,250,40,43,55,150,229,67,69,51,275,200,200,75,80,350,85,46,135,200,125,190,58,150,120,90,74,99,53,120,250,30,209,140,99,50,200,80,200,300,50,85,50,84,79,79,130,350,125,80,100,70,60,125,100,450,150,89,90,250,265,225,55,120,210,599,65,115,50,70,80,110,115,259,38,150,125,125,180,99,125,59,110,300,50,99,70,150,36,149,51,70,49,85,55,65,99,38,44,345,38,150,38,119,71,200,35,185,1500,150,59,34,225,80,250,50,30,30,110,30,40,160,100,285,53,55,15,90,90,90,125,159,180,120,80,75,210,145,189,190,190,187,185,250,170,72,39,55,59,33,55,65,125,200,400,80,220,130,90,47,118,145,85,75,80,40,110,80,60,50,58,150,49,69,99,200,150,200,125,70,45,70,75,10,150,55,90,139,120,65,83,149,175,70,49,150,180,80,220,30,150,225,210,299,110,120,80,330,150,150,99,99,115,90,118,65,65,300,70,250,35,125,150,50,120,125,200,250,142,249,60,142,179,140,465,80,65,300,90,180,56,99,70,285,82,142,100,142,125,900,40,120,199,60,200,55,150,110,53,150,35,149,190,143,57,59,299,70,49,68,120,135,80,80,150,90,150,197,181,180,178,76,139,51,50,55,250,55,80,51,69,255,150,85,300,52,70,76,150,63,100,55,90,110,48,250,66,130,65,133,100,30,75,85,125,137,100,125,91,26,66,60,150,222,148,225,200,60,45,102,50,100,250,44,130,55,78,165,84,90,150,500,75,44,75,120,120,110,125,25,89,81,60,95,75,80,159,80,165,170,69,140,39,50,135,120,39,69,65,25,120,128,125,65,172,150,195,60,330,195,60,220,110,154,76,70,220,55,55,270,99,95,118,80,60,20,70,33,30,98,70,110,55,40,189,36,65,49,52,97,80,189,35,36,150,100,60,179,34,200,123,80,90,40,490,70,188,69,289,130,75,79,100,995,150,21,68,135,145,45,50,60,49,40,62,345,80,90,60,150,68,150,120,70,200,109,74,125,109,120,65,47,120,110,110,115,105,119,42,65,54,325,265,95,199,125,174,50,140,95,120,39,75,65,58,100,73,65,57,60,65,100,185,65,70,130,60,102,100,170,65,30,60,65,90,65,50,150,142,80,92,70,275,157,120,100,94,88,56,55,165,84,150,244,180,200,60,62,245,145,250,225,69,96,37,33,120,180,52,108,140,75,48,150,60,110,70,100,200,93,125,140,375,140,200,40,44,115,120,460,40,90,150,260,200,350,65,63,129,75,100,129,111,80,80,59,159,55,65,65,85,70,40,300,75,68,60,90,110,80,190,66,60,125,65,55,38,80,200,200,100,89,82,115,100,45,390,100,300,119,150,55,150,149,79,150,49,175,40,280,33,100,31,75,109,109,95,95,300,90,130,125,125,60,35,45,250,300,135,108,45,50,50,80,45,150,115,40,75,80,82,125,39,40,60,100,110,350,65,40,74,40,70,113,74,125,75,99,79,190,275,67,82,45,146,41,38,150,208,95,82,67,67,250,250,70,85,150,185,104,75,60,250,340,50,185,210,285,125,53,45,250,425,50,46,140,58,86,111,207,47,140,90,40,750,80,100,180,75,275,95,46,96,44,100,139,280,125,80,245,70,95,130,110,54,100,45,99,145,60,275,119,70,350,225,95,95,30,30,165,62,149,80,60,120,79,80,72,75,75,75,140,65,35,71,50,395,395,200,199,75,150,145,325,100,55,140,65,67,67,65,48,150,155,87,200,250,79,100,135,98,121,350,90,40,1250,999,100,65,99,150,250,179,70,115,158,200,49,128,750,200,35,250,180,80,59,180,189,95,199,100,200,275,55,62,93,62,60,55,50,35,22,70,350,98,189,95,118,230,249,75,80,250,450,130,151,90,290,60,115,200,250,44,160,329,135,70,275,37,175,100,55,86,200,59,85,215,45,315,47,149,100,250,65,50,65,106,59,195,150,65,700,275,137,55,70,165,47,35,85,46,130,185,100,52,150,88,39,40,155,55,65,90,54,40,85,34,132,80,225,285,190,140,87,50,120,165,50,49,165,192,150,1200,415,75,60,100,329,39,89,150,139,230,75,135,185,128,110,80,175,160,250,225,45,150,120,50,60,70,80,200,120,53,200,175,75,149,150,110,150,147,150,138,135,100,90,500,115,300,43,75,52,85,50,483,290,225,550,450,200,80,360,210,210,225,75,120,70,1700,195,89,65,45,53,125,140,130,65,75,80,65,55,110,120,130,120,162,80,135,85,699,699,699,699,699,699,699,699,699,737,737,737,737,737,737,737,737,699,699,699,737,737,52,46,76,86,85,200,60,50,52,65,89,200,154,350,120,86,40,55,95,250,55,86,86,250,50,245,125,132,112,65,53,38,234,81,350,55,550,175,110,110,115,236,105,184,60,87,87,87,65,120,45,45,45,45,45,45,45,80,85,118,50,99,204,220,325,81,60,50,90,45,180,320,340,395,187,195,170,140,125,85,73,100,90,135,60,199,80,50,55,80,95,120,10,110,40,50,40,99,65,195,150,120,170,80,35,130,30,53,350,50,250,30,56,98,100,290,75,130,98,180,200,250,75,300,180,199,65,45,90,150,55,51,45,50,60,60,300,375,64,125,250,40,89,80,600,75,110,150,90,125,209,287,202,287,239,287,232,187,175,60,310,200,200,650,75,40,123,150,47,31,54,235,320,495,300,470,350,350,200,435,100,200,130,305,99,230,150,220,250,185,253,150,350,135,50,59,180,113,80,45,100,525,100,105,250,67,100,75,226,175,550,120,126,61,99,200,54,90,155,400,250,150,85,38,220,37,58,220,55,93,175,58,140,160,125,140,126,35,159,99,63,180,63,65,48,42,85,50,199,85,315,199,80,36,40,106,195,75,150,1000,160,185,264,40,120,65,350,75,190,65,180,100,65,150,225,111,150,145,57,135,150,53,60,35,65,100,100,144,49,120,77,60,160,62,90,38,150,160,128,139,80,85,45,148,115,100,75,75,196,100,290,46,68,150,149,39,175,100,100,60,175,100,76,91,65,240,30,110,106,59,45,98,55,89,165,450,115,50,130,799,100,70,50,138,50,250,83,89,75,125,36,159,55,160,170,475,217,77,175,90,299,79,285,45,40,40,40,124,60,89,159,180,63,125,70,51,115,55,250,188,149,55,100,170,85,295,125,52,151,90,55,55,450,50,89,90,200,165,116,150,80,70,65,170,689,99,120,111,43,275,125,200,100,63,150,60,100,39,90,195,142,55,142,150,65,86,200,65,400,55,150,175,150,59,339,100,339,350,105,195,79,55,200,159,82,65,59,75,136,65,49,300,160,150,32,36,79,129,159,100,93,220,86,60,105,60,185,75,95,42,120,120,120,37,350,125,165,230,200,250,290,80,25,35,150,180,150,95,120,400,1100,160,60,130,150,49,120,3750,100,139,135,59,60,197,112,140,125,245,175,199,65,250,60,229,70,88,55,55,55,65,350,52,55,160,125,200,65,85,379,69,65,175,100,50,294,225,175,80,155,75,55,239,50,90,300,285,250,85,330,85,120,50,150,63,85,85,43,80,172,125,45,54,170,50,80,55,33,45,150,37,150,60,71,158,150,58,57,65,155,185,86,65,139,187,36,120,65,120,65,250,120,175,200,148,120,159,200,85,90,104,85,125,275,60,46,80,136,125,85,175,400,60,60,95,65,69,89,110,150,52,75,60,100,90,170,105,295,98,150,100,99,190,89,53,49,40,300,49,124,60,100,78,300,90,180,300,110,269,61,99,60,11,199,75,150,150,42,53,290,135,62,800,175,50,55,149,200,350,38,250,185,185,140,45,40,150,145,125,70,245,65,350,66,65,31,239,55,75,210,120,239,239,90,90,115,45,200,105,49,49,49,49,73,150,220,35,125,85,350,239,190,300,279,65,48,239,250,150,150,80,80,65,150,275,250,49,61,90,75,110,125,140,250,100,90,45,65,45,212,70,204,400,184,119,197,30,245,149,66,76,100,55,55,130,130,51,65,100,170,144,250,349,65,65,45,80,34,80,36,180,174,66,95,119,199,300,150,70,39,125,300,150,60,130,180,40,65,150,100,150,90,40,69,85,200,59,248,60,95,77,70,100,45,83,45,75,64,150,80,75,64,154,40,160,210,54,139,39,180,400,189,60,55,140,46,122,350,65,176,70,38,180,40,55,80,99,225,90,107,50,300,123,36,399,145,140,54,177,65,150,50,104,54,74,75,300,280,150,73,70,195,97,130,95,40,38,70,38,600,44,29,135,58,120,110,130,50,40,95,70,495,80,200,89,40,60,36,69,45,75,160,125,55,90,300,88,36,225,79,80,39,43,37,394,799,499,60,68,70,149,69,75,95,214,75,269,80,30,200,39,38,65,70,30,31,170,45,90,400,250,200,199,35,60,499,118,195,180,150,115,250,80,200,639,150,70,115,225,140,200,250,119,125,150,270,72,250,100,68,200,129,80,175,160,460,89,99,55,38,76,50,175,160,65,80,99,480,60,35,110,60,150,350,65,298,101,72,75,165,200,80,80,170,530,34,99,29,209,300,50,65,45,50,105,45,215,220,100,120,90,110,97,75,150,50,47,150,75,58,150,70,150,130,53,200,35,220,285,245,280,60,98,10,200,75,78,239,590,41,145,65,70,135,65,120,175,85,79,130,80,70,89,40,185,120,122,55,285,30,80,335,848,75,55,119,143,80,175,150,48,239,167,169,86,110,55,85,200,100,59,68,65,380,165,80,45,79,244,299,65,299,80,200,410,37,40,280,99,160,275,65,104,60,165,200,250,66,85,25,140,25,100,75,25,150,150,134,100,140,95,102,100,190,240,102,40,120,43,375,156,100,199,115,50,109,99,76,185,97,150,225,70,89,40,85,255,50,150,200,57,150,45,90,90,160,30,63,180,100,50,42,160,430,83,95,75,48,150,200,150,250,260,34,85,179,88,60,50,85,56,75,69,95,120,55,261,100,120,100,250,62,250,89,90,225,75,140,85,58,195,89,50,75,95,70,75,179,60,119,60,99,75,32,250,65,40,100,149,199,500,249,140,145,95,90,300,115,102,60,75,75,86,65,149,50,90,50,215,250,110,350,66,85,52,78,48,268,10,268,149,75,250,75,56,125,35,130,105,75,325,70,125,40,245,75,48,50,115,197,150,99,220,106,140,199,345,600,300,200,70,149,28,125,65,75,50,250,60,48,90,85,70,100,135,97,590,320,200,99,28,55,350,115,180,65,200,49,100,115,80,59,70,100,70,63,120,269,55,70,600,60,80,115,45,63,47,300,169,50,274,110,263,75,250,83,225,175,125,70,154,28,1500,95,28,75,28,125,180,180,200,115,135,69,99,80,150,75,150,134,134,145,189,120,65,280,100,40,120,130,180,55,175,36,50,165,90,65,175,110,195,300,175,150,100,68,120,99,110,110,84,60,100,65,174,65,65,50,70,120,70,225,70,45,105,175,98,33,55,110,55,95,130,80,100,70,160,85,45,71,170,65,65,100,70,95,449,50,150,101,69,57,190,325,200,250,71,190,109,35,40,130,149,59,45,70,75,120,126,207,70,90,64,40,300,55,800,120,66,100,38,750,225,99,110,225,41,120,37,179,75,63,65,55,67,255,65,325,389,40,44,40,785,285,200,75,230,80,99,30,145,150,41,65,150,145,50,185,65,150,260,125,199,45,37,500,100,100,42,65,85,50,575,85,60,52,50,385,166,39,97,200,155,220,75,140,195,125,45,425,90,95,100,100,50,89,400,403,325,100,135,26,330,200,139,50,125,350,175,169,130,150,120,150,180,105,63,300,70,250,300,43,40,471,40,50,47,1000,94,750,69,150,80,399,95,52,150,65,60,55,49,377,249,100,60,59,65,120,45,150,90,140,50,70,90,125,150,150,98,120,100,110,250,65,65,50,65,35,160,65,200,60,53,38,99,149,140,65,110,140,175,115,199,60,50,78,70,120,125,35,54,175,500,25,26,63,127,300,225,209,60,47,195,355,70,39,35,39,237,90,254,39,39,165,45,200,80,65,70,53,87,50,55,240,120,225,89,65,75,108,75,150,60,150,89,180,250,51,139,89,70,99,150,400,69,145,53,55,99,209,280,55,69,47,65,65,108,70,60,45,57,70,500,95,41,300,140,145,55,95,50,55,55,50,55,60,50,55,50,50,59,200,85,120,39,65,80,46,80,135,57,26,170,53,55,105,95,95,40,100,60,282,135,200,95,110,90,53,85,100,65,55,85,200,225,95,175,189,53,57,57,80,97,79,80,39,85,50,330,37,799,150,195,50,100,140,275,85,31,99,117,160,65,295,105,225,245,185,295,75,480,190,225,325,59,250,139,96,60,300,325,100,355,60,65,100,99,65,58,75,40,50,50,300,80,91,140,199,43,60,200,50,75,150,99,90,62,55,35,105,175,38,100,76,299,150,80,25,80,59,250,100,115,70,500,46,145,80,65,40,72,100,185,370,60,70,53,110,53,59,79,150,200,125,200,200,60,69,125,70,100,359,40,175,30,120,95,125,225,57,37,150,36,115,350,75,155,149,90,29,200,275,130,90,140,45,80,110,68,275,90,250,60,89,288,70,159,60,100,60,99,59,119,89,314,60,66,175,150,310,70,109,300,65,83,200,90,380,175,46,50,200,31,59,180,240,75,160,72,72,210,40,175,180,70,105,95,235,69,70,75,139,75,41,120,55,88,78,58,85,150,67,51,99,99,32,35,75,175,62,29,150,90,55,150,90,140,65,57,50,299,125,85,80,180,65,270,175,359,100,275,185,119,90,160,60,149,57,39,50,55,48,30,50,45,35,30,195,40,60,60,35,249,120,35,35,151,478,110,85,250,350,200,250,285,200,100,80,35,220,57,70,299,145,84,70,55,99,48,80,45,69,50,150,73,40,60,50,450,100,100,160,110,249,150,150,50,240,100,119,75,90,399,149,64,68,250,63,56,200,65,300,100,120,70,137,275,65,150,40,82,65,80,48,39,169,150,125,65,160,175,150,210,45,125,240,185,140,150,200,80,39,135,55,230,39,175,50,139,129,80,46,44,100,150,90,200,65,100,130,75,70,55,55,125,175,125,48,48,50,80,35,95,90,85,85,425,90,175,80,134,150,40,55,60,74,69,160,65,128,250,45,100,65,350,120,135,42,66,80,105,65,80,400,55,40,70,72,38,45,500,79,295,120,55,70,120,90,125,135,120,350,81,850,68,105,200,75,40,215,80,150,112,42,80,89,25,120,120,350,25,85,25,200,575,48,350,78,69,55,150,134,42,100,80,67,66,95,800,249,175,200,100,70,70,80,60,89,90,53,90,60,125,50,115,138,120,60,112,140,199,31,100,120,225,157,275,80,99,85,80,79,150,100,87,150,100,56,70,120,155,39,200,250,220,106,40,48,125,150,68,49,185,50,140,65,120,230,60,60,60,60,79,275,220,95,130,85,120,95,45,49,175,70,120,70,59,99,155,125,180,50,187,179,433,300,96,75,151,165,125,180,87,100,50,215,32,50,150,25,55,200,135,129,60,165,55,59,45,400,75,125,39,195,125,60,70,149,100,320,80,79,100,53,53,43,150,60,41,85,69,65,65,65,60,58,159,70,110,999,75,150,114,49,41,175,49,225,65,49,49,65,49,50,45,60,99,225,105,115,44,39,150,150,110,199,180,200,80,78,120,75,50,50,170,45,194,49,40,35,86,130,96,199,150,45,110,59,150,55,89,55,65,80,75,90,66,264,244,119,225,280,225,200,150,122,150,100,62,240,46,49,50,119,125,140,179,600,145,45,90,150,135,135,370,90,165,195,65,500,75,60,59,175,90,110,125,120,88,175,100,175,121,89,200,58,150,35,90,250,90,100,100,149,188,47,110,33,130,230,899,130,100,100,150,66,95,170,125,975,125,45,195,118,250,93,196,200,150,215,325,350,99,99,40,90,85,90,98,279,249,85,50,199,70,65,149,90,375,125,105,75,82,50,50,250,44,150,130,270,175,45,79,70,374,240,70,199,135,259,200,57,300,250,99,350,40,99,100,97,425,89,150,30,150,225,45,129,49,65,160,188,110,155,300,150,300,90,85,35,120,300,90,199,75,65,51,125,41,200,250,102,175,100,115,84,150,65,40,599,225,109,250,55,78,85,165,65,35,80,85,98,90,179,119,180,60,200,130,170,75,244,80,180,100,76,50,78,200,180,65,110,190,150,670,181,49,100,179,175,45,90,168,95,90,499,329,390,90,120,45,139,45,36,15,160,299,65,77,115,149,75,70,65,100,130,80,70,38,185,182,500,97,110,62,150,250,220,300,150,69,70,190,169,200,100,280,63,200,125,50,125,125,75,165,90,140,105,110,74,239,80,255,99,119,119,47,525,62,70,200,75,75,75,60,85,68,72,99,70,86,250,45,119,300,180,100,130,39,85,55,255,110,170,299,329,299,255,42,150,1500,63,50,150,120,225,65,65,117,200,20,60,72,150,185,140,153,36,295,70,345,125,75,180,155,625,120,200,140,55,147,220,115,44,298,499,150,80,145,68,150,70,240,120,200,50,99,80,128,49,100,119,60,700,65,80,52,62,108,120,60,72,90,55,55,55,120,300,170,75,31,200,60,250,65,65,35,300,119,119,85,115,75,225,129,50,50,50,50,50,165,150,24,32,200,119,1700,305,35,200,206,160,159,99,349,70,107,38,210,139,39,6500,100,62,125,89,89,180,300,45,135,350,29,99,200,99,90,65,200,175,600,250,200,130,125,250,60,90,60,50,60,85,55,250,85,355,260,55,150,55,58,110,90,90,399,55,55,72,123,59,45,95,65,260,260,73,60,25,150,285,1000,81,38,70,29,160,98,98,98,150,35,50,265,211,160,99,170,299,150,200,140,220,35,125,90,99,350,70,98,40,150,66,200,100,75,150,125,85,175,90,199,250,85,150,100,399,149,250,139,100,250,174,150,80,100,75,109,65,65,40,189,45,120,125,45,120,82,72,200,500,110,75,64,100,100,140,83,200,125,32,60,89,90,155,139,70,42,85,860,195,75,120,65,45,35,30,30,35,31,100,42,75,165,95,41,250,30,165,250,200,102,200,60,102,93,110,70,80,46,75,125,110,145,250,100,200,121,330,650,105,110,65,90,109,68,170,39,100,298,180,250,120,180,50,180,40,189,500,56,180,78,45,250,65,68,45,42,55,100,103,115,90,85,229,95,70,80,140,66,20,68,108,143,132,109,200,150,70,130,195,191,250,350,147,50,79,150,70,200,60,300,200,100,200,68,55,39,2545,50,160,75,399,115,150,34,59,38,45,100,100,60,155,120,275,191,350,120,500,120,485,125,140,125,63,70,180,50,70,42,60,69,40,120,50,92,50,155,200,80,138,100,151,85,170,81,150,85,62,75,40,100,275,139,98,100,100,100,149,75,260,60,160,135,60,119,130,75,150,150,250,200,79,250,89,179,38,25,150,43,295,215,75,80,180,99,200,95,97,100,57,75,45,299,179,160,60,55,85,185,50,110,125,300,160,68,250,65,215,150,60,500,55,200,65,65,48,38,1115,80,175,175,60,265,75,58,310,135,74,81,35,90,285,95,48,275,650,200,80,100,120,150,90,175,175,120,135,160,40,95,68,49,105,202,120,90,133,150,60,99,165,95,59,145,95,60,90,60,80,60,150,50,93,75,150,107,149,220,65,65,220,50,700,99,175,155,219,130,70,650,69,30,42,55,98,85,120,225,158,130,70,70,50,90,250,200,49,160,150,130,170,120,100,45,175,70,200,30,195,55,60,60,129,95,55,399,700,199,180,60,110,200,195,165,150,190,64,110,75,105,212,110,140,375,74,35,110,65,110,129,59,150,129,24,40,349,250,120,90,125,175,165,99,55,125,300,100,225,249,37,295,200,43,100,520,119,45,119,75,119,137,148,75,40,59,84,50,46,35,85,50,130,101,114,45,175,105,63,45,39,165,125,83,110,250,55,314,60,88,399,455,100,175,68,300,200,175,250,175,30,233,233,590,913,276,550,276,276,505,162,233,718,39,70,140,87,115,100,200,62,250,60,100,70,140,44,40,199,475,94,55,50,300,215,165,75,113,99,200,69,150,170,120,380,120,34,32,135,150,200,145,132,250,50,125,75,692,79,95,300,100,147,35,125,40,80,105,350,90,270,80,50,300,195,200,400,200,80,98,150,90,100,50,50,39,200,98,85,65,120,64,200,3600,100,100,105,89,100,80,220,139,75,165,90,299,99,45,750,98,50,75,250,150,199,175,42,201,150,89,50,170,210,110,200,65,179,82,180,105,174,119,125,100,80,400,45,270,75,241,119,95,225,70,115,200,80,85,160,85,75,60,50,75,70,400,99,40,93,70,85,100,60,50,107,43,75,65,24,150,325,135,267,249,120,130,300,100,145,80,75,50,129,150,275,100,150,160,450,75,79,53,50,200,350,200,85,200,75,249,77,55,43,90,50,60,95,600,159,220,199,600,450,150,100,150,150,87,85,110,70,97,269,255,79,248,59,220,170,5000,62,99,180,140,57,250,190,120,300,179,135,60,175,345,119,130,182,123,100,90,175,35,103,70,100,50,125,60,70,110,600,120,115,219,250,135,90,55,75,100,155,70,85,60,59,115,73,75,275,100,59,40,75,250,28,150,30,170,90,66,29,300,120,103,43,165,55,240,79,50,85,68,150,150,150,60,499,60,47,150,150,179,199,59,150,200,26,50,100,99,269,60,300,200,109,250,70,225,85,50,99,65,120,175,75,27,160,95,340,100,75,80,195,100,150,136,250,175,307,600,99,2000,55,215,200,129,99,82,125,150,151,99,98,800,70,200,380,500,50,149,73,50,80,170,120,70,70,400,209,72,125,114,88,250,209,114,118,130,50,75,130,90,80,206,120,306,46,149,50,165,375,75,259,210,55,460,85,111,200,111,109,99,300,70,250,80,240,35,200,100,160,178,269,75,200,42,40,42,160,130,90,99,50,150,80,120,162,60,66,350,150,150,85,50,550,225,70,75,195,1880,63,40,3000,63,150,63,165,50,50,85,150,62,50,60,299,345,92,241,45,125,145,275,495,50,40,195,50,69,120,300,285,90,140,46,96,200,37,134,150,195,90,450,100,49,189,199,300,199,179,179,49,75,95,125,72,75,65,112,40,175,44,50,95,500,188,75,295,400,125,139,70,90,302,229,200,133,150,135,175,100,345,120,70,110,100,120,130,35,185,714,675,675,675,675,675,956,675,675,675,675,675,714,714,714,956,714,714,714,675,675,714,714,714,714,714,50,40,59,115,150,90,220,130,110,266,100,73,150,200,90,303,250,86,80,100,179,220,3000,230,89,40,105,175,50,127,107,199,125,43,35,33,165,182,227,41,292,115,60,135,65,100,99,375,250,175,90,49,65,44,65,65,246,50,300,350,99,355,120,125,130,69,175,50,38,64,40,40,55,40,45,50,99,250,200,70,200,74,120,88,37,70,70,150,150,60,138,150,82,90,56,249,120,670,55,149,114,100,210,100,45,45,207,99,45,80,42,139,35,50,40,315,90,50,85,89,1500,258,150,120,250,75,65,93,40,50,139,232,32,85,135,65,34,91,100,109,50,250,55,50,137,45,139,279,70,97,70,80,100,220,299,160,119,70,41,70,48,48,2999,75,48,100,225,80,36,100,350,47,35,300,50,60,85,125,280,50,195,225,45,112,29,399,125,60,200,265,150,59,60,499,499,125,150,499,399,399,54,120,85,399,95,149,119,90,264,28,80,145,89,120,190,275,168,200,180,100,149,200,55,115,79,120,32,80,100,333,70,63,63,125,225,200,210,50,40,399,120,418,350,56,150,110,155,120,125,134,50,350,232,50,95,1600,89,35,180,190,200,200,200,300,150,55,88,79,70,140,49,70,40,16,34,90,50,35,32,35,70,35,45,33,37,42,110,375,65,50,125,150,225,303,69,175,95,316,119,119,260,59,350,189,399,105,45,140,180,80,214,65,60,195,36,80,42,60,75,40,119,95,42,25,42,100,42,42,110,250,150,42,250,100,90,140,350,276,452,325,312,285,350,397,283,289,343,334,302,320,316,287,334,238,291,276,303,392,356,297,265,291,358,312,312,320,321,309,312,314,352,238,289,291,263,365,253,246,211,306,241,312,259,267,312,347,278,242,242,358,377,280,232,365,62,273,285,307,281,275,396,283,358,285,420,88,150,45,283,316,255,282,290,317,303,206,278,305,316,252,332,361,269,245,305,233,459,271,314,416,316,232,262,330,271,45,453,236,294,329,481,343,224,278,312,302,334,258,150,356,278,75,184,274,347,466,316,285,271,317,388,341,237,248,379,314,251,423,240,245,329,265,300,267,374,316,189,298,362,150,90,90,75,47,47,250,69,90,120,200,430,240,160,70,313,750,167,65,308,100,60,42,90,120,51,25,150,250,55,115,44,243,290,65,55,115,60,30,250,65,120,140,50,70,65,50,35,60,245,300,90,295,200,95,45,25,35,50,150,30,150,65,130,55,110,40,175,125,215,150,199,45,220,199,90,199,199,179,60,179,179,179,70,27,49,200,55,55,190,300,125,295,125,47,95,63,125,225,300,40,149,90,160,207,805,42,63,42,42,115,28,275,195,280,100,35,180,42,150,42,42,65,42,27,42,42,42,230,42,42,60,3000,90,75,120,75,110,189,725,55,350,35,149,55,50,30,65,99,29,30,90,50,175,79,190,34,443,150,75,299,112,125,350,392,150,800,145,55,80,50,195,115,72,180,264,150,55,101,70,185,125,100,699,35,150,50,250,261,100,98,52,100,50,90,129,75,99,72,109,45,100,275,43,29,125,69,215,75,42,43,72,19,125,90,243,180,65,175,70,200,65,155,365,49,100,97,35,275,95,595,55,101,180,99,65,265,120,95,215,300,105,200,100,165,120,125,200,45,260,40,120,70,295,32,45,119,55,40,800,40,57,180,75,130,200,150,70,359,100,95,40,40,38,40,170,45,51,90,50,85,150,284,185,166,31,150,398,185,200,300,189,25,55,200,52,250,400,102,80,390,450,199,110,90,550,111,60,295,91,54,55,110,75,325,135,79,179,80,80,175,211,133,200,1350,70,75,250,150,175,240,43,99,50,37,41,125,29,250,115,550,392,125,950,360,50,175,45,90,95,50,150,100,59,60,48,150,287,48,65,69,70,120,90,40,60,45,150,150,48,125,200,99,94,55,205,520,70,128,138,55,49,135,280,110,40,500,65,79,150,60,400,195,45,40,45,240,199,35,57,31,65,36,150,120,150,90,250,55,56,250,43,80,200,90,100,52,182,50,35,175,349,125,100,231,69,200,135,3200,120,40,125,199,37,80,25,55,250,55,160,95,40,55,145,190,80,55,80,160,75,80,250,85,120,60,45,36,145,55,220,312,118,220,49,220,90,50,100,293,293,190,150,50,500,45,150,200,59,100,125,150,55,240,140,250,199,150,80,35,299,85,152,209,100,45,96,100,51,300,120,85,65,165,200,60,345,175,34,175,79,95,80,70,240,100,100,120,200,165,172,68,75,55,50,125,160,60,65,75,61,150,125,99,200,75,70,55,49,90,65,90,500,180,99,100,140,49,150,285,150,89,75,75,99,165,65,133,130,172,40,100,80,180,93,100,299,69,110,120,120,250,130,43,179,90,500,60,95,110,220,120,33,70,228,150,154,179,283,45,575,69,200,29,39,54,155,41,150,150,54,62,180,145,200,110,45,225,200,70,150,95,80,100,70,70,250,55,150,600,55,55,232,35,350,195,89,59,42,60,48,500,149,49,77,35,40,225,49,600,120,600,200,115,70,190,62,160,175,30,35,37,79,40,159,100,199,550,55,40,155,200,150,190,46,215,140,35,89,48,239,90,350,48,99,350,599,89,180,189,129,48,48,40,48,220,120,48,150,99,72,100,100,200,80,135,50,100,138,150,75,116,60,70,125,90,28,200,90,350,75,65,72,120,180,100,250,160,40,300,66,65,160,38,185,200,199,175,60,159,250,250,432,66,80,150,185,29,75,190,42,65,45,131,24,89,200,450,40,45,70,225,129,33,122,129,50,140,250,130,180,160,130,150,120,90,85,199,199,90,444,399,349,195,590,70,220,150,169,199,199,120,40,120,350,94,185,150,225,120,100,130,100,140,89,40,145,185,250,120,99,120,75,180,250,30,114,45,100,271,34,85,150,50,75,70,60,37,135,340,300,65,300,180,40,70,80,160,45,85,80,110,285,49,60,300,90,55,190,80,30,195,100,160,100,60,150,65,50,150,450,115,48,499,515,240,500,48,80,109,52,139,30,145,80,220,180,70,99,220,61,180,45,140,99,70,60,250,85,350,31,190,180,60,38,210,68,350,80,60,125,120,155,45,60,175,85,109,98,400,125,750,160,125,93,275,375,250,100,80,299,100,90,55,180,45,80,153,80,350,125,600,1000,425,88,65,420,220,1350,179,119,89,175,100,380,45,300,443,50,116,119,180,225,150,179,200,60,280,129,300,83,300,1000,55,30,262,255,245,185,185,252,189,228,240,241,265,263,243,254,35,45,200,40,180,80,80,60,115,235,150,100,120,199,150,100,89,70,113,85,80,150,20,40,499,200,75,299,40,57,450,1075,55,32,150,50,32,175,40,40,55,175,200,102,99,200,55,65,140,100,550,134,150,105,75,250,295,32,35,180,70,130,60,3000,85,80,80,220,80,120,200,40,60,80,69,160,180,32,956,32,40,40,230,55,99,70,139,135,125,350,99,410,65,60,450,33,120,60,130,100,75,199,183,35,22,104,100,40,150,820,69,49,205,91,90,306,300,45,520,58,220,80,130,70,40,399,118,100,37,1999,370,165,125,105,99,35,100,150,175,75,85,100,200,20,155,400,60,135,55,215,227,200,140,120,250,90,100,205,200,200,55,65,55,250,50,58,56,55,160,149,35,250,175,55,55,100,89,140,649,20,189,55,60,65,89,68,89,165,142,100,46,75,63,75,120,249,250,60,69,35,70,100,200,65,399,120,120,120,60,60,100,125,90,100,35,75,70,200,45,28,85,300,50,80,350,295,130,80,60,79,70,225,300,83,373,100,310,209,247,300,80,99,100,60,105,40,189,300,199,890,42,200,44,30,145,60,48,350,90,35,85,250,70,35,160,93,45,249,150,49,48,65,27,100,35,120,59,120,50,65,500,80,65,110,100,85,288,55,200,60,112,59,175,35,150,61,70,169,130,70,55,200,100,1750,48,50,55,35,50,115,250,60,155,188,205,185,200,200,150,144,279,40,125,100,195,120,65,125,45,89,45,250,65,450,299,150,60,99,30,38,150,250,80,70,300,39,70,300,250,199,25,350,60,125,81,219,35,32,35,35,75,52,40,215,100,110,75,150,30,1000,125,99,210,100,30,190,110,250,59,48,70,48,90,125,88,60,97,99,48,48,35,156,100,98,99,175,38,35,200,180,200,195,50,60,45,55,90,47,65,250,120,42,36,42,100,89,45,20,70,478,150,400,209,30,200,205,85,365,65,60,120,80,69,20,75,60,143,200,115,45,100,72,75,40,79,130,40,45,42,100,99,33,90,35,150,70,60,130,50,75,45,150,75,70,200,110,216,100,40,60,60,308,75,187,39,60,75,45,33,75,39,187,100,85,119,75,50,150,72,50,59,125,100,100,160,50,45,90,39,60,251,67,92,147,115,130,209,55,125,65,55,68,50,55,67,50,35,104,80,99,125,155,110,30,89,105,60,175,70,175,299,65,28,39,300,80,34,53,80,61,110,75,150,38,180,125,300,75,450,110,33,399,90,175,140,190,111,45,65,70,50,69,70,399,55,90,500,160,200,209,120,99,80,249,120,140,110,200,145,70,260,60,150,190,70,39,115,200,210,70,135,275,199,200,80,140,1080,225,45,150,175,53,44,59,65,65,59,50,70,59,199,300,61,90,60,179,199,150,85,80,300,100,35,74,150,100,114,140,77,1299,170,175,156,110,100,45,40,110,114,135,35,39,65,85,116,101,200,85,70,172,9999,120,65,115,200,60,25,68,19,250,495,525,395,82,100,70,100,35,80,100,120,175,130,55,65,100,139,105,90,60,300,179,70,229,100,49,250,60,125,125,109,400,45,197,85,120,170,40,55,125,100,180,40,156,99,145,247,120,70,80,200,150,599,188,110,99,100,70,75,30,180,225,125,130,145,28,49,40,271,100,88,86,55,300,125,200,80,45,80,99,70,100,85,49,69,40,175,65,85,140,75,350,150,50,80,133,80,50,219,60,307,233,235,40,100,92,45,50,200,42,249,150,35,165,170,289,400,55,250,56,120,149,225,225,80,59,65,39,140,165,100,55,40,115,400,35,40,110,35,225,130,299,400,2500,60,225,130,128,45,89,39,47,49,49,1150,61,70,105,40,50,175,50,92,95,80,90,250,40,80,80,63,150,75,71,89,99,99,50,170,50,82,299,121,75,199,149,79,60,45,125,199,48,40,85,45,1050,68,41,80,77,72,79,120,100,106,110,135,90,750,47,600,130,100,180,55,60,350,130,65,90,120,70,135,95,86,236,50,100,70,60,49,70,97,155,58,70,57,129,109,128,80,125,85,55,69,115,59,120,80,120,57,25,95,65,100,140,85,87,205,145,236,72,149,95,213,150,80,80,190,200,50,99,199,95,129,300,199,110,175,200,60,250,99,130,120,55,115,250,80,80,45,1295,79,29,95,40,75,200,105,135,130,60,50,135,120,136,50,41,175,85,71,80,85,255,250,95,119,65,110,160,68,1200,119,250,49,99,200,20,140,250,220,145,200,175,45,120,125,150,68,167,220,250,80,107,54,135,35,45,200,200,165,85,57,225,150,75,220,50,50,175,70,90,56,65,100,20,65,200,90,97,45,85,40,50,100,50,299,285,170,100,60,70,140,215,52,85,250,135,230,54,70,100,75,80,110,250,349,59,80,325,80,69,48,120,120,45,85,59,100,65,375,45,117,48,48,53,99,48,150,44,55,85,115,45,75,99,80,209,185,65,65,38,80,75,75,243,130,55,160,115,123,105,280,700,70,129,37,150,150,54,185,250,79,200,250,59,132,34,70,90,40,250,89,35,59,130,59,50,73,400,73,39,225,275,65,126,63,165,65,50,110,40,495,200,130,40,95,218,65,34,95,32,80,250,107,46,175,159,31,115,75,50,149,84,50,175,65,90,89,145,150,50,87,65,30,145,225,100,42,75,90,267,140,60,60,73,60,60,60,48,60,100,60,60,60,60,80,60,60,60,60,60,100,60,120,115,200,110,65,57,175,44,80,44,80,99,250,99,99,50,86,519,75,65,37,65,40,65,65,80,40,65,130,70,120,110,142,100,159,40,199,49,49,75,38,75,100,70,95,50,41,90,190,119,110,185,68,95,113,45,699,200,799,42,95,275,85,79,60,90,250,75,450,225,30,120,80,100,275,175,300,300,99,20,135,120,289,60,160,149,99,100,75,120,199,70,299,299,75,120,250,60,75,276,130,50,180,115,260,128,75,60,70,150,100,36,99,355,75,35,211,40,55,62,37,80,60,75,110,60,225,100,200,60,199,61,375,200,120,144,175,50,60,250,180,250,60,60,58,309,190,55,45,115,200,199,50,121,45,50,44,75,150,120,165,120,450,295,115,55,35,139,50,48,80,70,90,40,80,50,55,100,345,169,35,65,80,250,60,120,575,100,450,33,55,80,30,160,1500,25,128,450,80,128,40,40,150,53,90,30,62,45,125,110,99,50,90,42,400,67,150,60,90,42,190,300,189,120,150,85,35,1978,1494,3512,600,85,150,50,115,31,53,890,80,50,179,130,85,800,40,135,80,90,159,150,40,59,500,100,159,119,42,49,76,97,300,93,220,175,699,96,100,100,299,160,110,220,130,70,150,180,100,250,250,125,70,40,200,53,55,799,48,60,69,295,60,65,115,300,45,175,1000,150,200,55,160,110,180,90,125,68,365,71,150,185,145,148,46,165,225,180,250,170,175,100,150,70,100,180,98,96,167,85,500,98,125,75,280,99,400,290,37,80,295,160,382,45,245,80,75,230,250,145,100,80,100,300,55,250,170,100,418,110,140,75,250,65,75,30,69,60,69,69,140,450,220,210,65,58,150,245,245,200,229,204,100,156,30,240,132,130,404,234,425,235,503,250,40,258,392,375,231,194,240,229,230,472,256,149,40,95,150,51,175,75,125,282,200,999,454,262,472,203,247,377,229,234,503,228,404,252,229,431,412,403,229,227,205,85,194,214,229,185,234,201,229,244,227,451,241,252,250,419,505,228,242,175,221,203,228,215,300,198,468,227,236,244,120,248,241,390,230,230,227,214,188,247,220,196,218,130,396,214,50,196,380,229,498,215,231,234,212,228,214,214,201,214,235,165,256,248,216,223,229,200,110,150,55,65,150,100,68,100,215,65,85,50,255,37,300,75,50,64,225,50,35,170,211,95,52,64,85,200,41,54,55,195,33,220,210,50,612,45,650,129,175,65,70,195,128,150,80,300,215,40,80,77,95,100,49,120,89,26,170,65,120,150,57,108,70,89,99,115,90,135,119,136,67,365,97,100,220,200,45,145,195,75,160,25,85,38,150,75,60,55,100,125,140,1200,177,50,999,999,999,60,60,158,140,60,60,130,140,100,125,74,65,500,30,650,125,65,80,379,189,321,285,40,42,90,145,400,150,61,50,95,160,40,40,28,42,42,42,42,37,225,43,160,115,27,40,159,150,155,249,85,188,488,55,425,133,300,79,100,57,260,1497,55,51,95,125,275,35,35,26,26,175,95,215,95,66,239,239,209,306,60,110,750,67,75,200,60,190,85,125,50,172,80,58,179,49,166,133,220,62,125,80,70,40,250,100,179,240,55,317,515,57,175,41,180,35,200,60,125,200,70,220,25,100,75,108,250,62,65,1250,180,85,325,104,77,50,120,70,95,150,42,180,110,52,180,80,90,79,100,420,500,135,51,64,48,500,55,55,55,282,192,202,169,200,169,172,199,202,150,160,204,112,150,179,99,110,29,150,60,175,78,96,74,100,2850,240,120,35,120,190,400,210,310,66,175,100,100,75,175,55,75,30,69,65,85,143,206,65,150,107,500,87,175,48,82,78,105,285,250,83,35,86,76,150,80,145,149,150,55,33,62,175,90,85,47,62,47,47,90,199,40,90,150,125,350,70,36,175,75,160,150,295,295,125,215,115,175,299,146,250,161,140,55,235,200,48,66,47,59,59,70,47,47,85,300,160,100,220,58,145,67,70,35,50,500,126,48,139,123,135,73,369,35,39,120,50,125,60,200,55,130,200,185,500,540,120,700,990,150,280,135,69,110,180,257,243,39,95,65,165,59,35,115,350,105,100,107,308,99,50,70,43,35,300,395,105,80,120,48,51,120,260,82,45,23,37,115,300,316,228,32,79,75,95,100,225,200,160,42,95,90,89,35,83,349,90,100,150,80,75,278,150,40,65,90,199,106,55,28,132,35,29,35,100,42,43,100,35,40,38,40,35,60,160,147,80,135,484,211,388,407,425,432,205,248,396,376,93,125,230,416,50,134,129,93,150,100,235,51,45,180,202,50,160,65,90,50,220,67,45,250,190,42,109,50,150,40,150,137,44,350,275,150,60,125,174,65,192,185,70,166,55,55,130,95,115,37,350,506,165,160,650,40,200,102,359,190,150,150,168,125,40,170,85,128,150,125,95,100,100,58,100,100,100,100,100,100,100,499,100,199,100,100,249,249,100,249,209,250,305,230,325,280,275,220,230,350,324,379,299,359,304,146,149,73,42,42,150,840,315,315,315,100,74,45,300,105,135,200,75,300,185,45,199,60,180,80,39,113,234,150,50,302,350,350,120,55,110,170,189,42,45,132,175,130,94,239,375,450,120,27,125,60,250,175,50,72,160,35,80,55,75,151,30,225,150,55,40,150,85,80,111,82,262,244,240,1315,110,50,38,33,217,220,150,123,50,39,85,100,110,250,85,85,80,30,120,45,70,44,181,37,65,70,650,53,51,150,199,140,170,65,79,36,145,35,55,149,99,45,28,55,400,115,39,84,158,175,300,150,95,140,108,28,145,60,80,52,145,48,75,50,101,62,175,55,60,59,145,140,33,33,75,63,62,65,199,150,130,190,100,139,50,339,129,200,76,125,231,300,140,165,300,63,65,290,59,55,40,80,450,35,69,80,250,225,135,168,250,50,125,50,70,110,180,300,489,69,53,99,115,150,69,99,42,220,65,40,105,79,60,488,95,45,139,56,55,68,221,58,40,189,40,250,135,55,169,100,324,90,95,75,140,90,90,223,150,70,45,260,53,97,140,321,25,104,95,90,150,50,300,80,375,40,325,175,33,170,130,200,212,38,110,42,197,160,80,48,100,125,200,130,400,90,50,45,55,180,239,50,50,149,33,100,177,64,30,35,68,44,60,177,50,300,300,400,39,219,80,70,77,80,50,60,47,50,95,260,159,55,120,135,325,190,52,60,199,200,45,60,52,45,45,49,55,35,60,65,33,100,45,95,175,446,140,110,65,150,99,55,128,28,180,115,133,65,115,150,100,122,35,39,35,59,30,25,60,175,325,115,120,55,100,50,131,50,100,66,190,370,220,165,99,65,70,120,145,90,100,90,65,175,170,35,45,64,80,90,105,230,65,60,170,65,55,95,107,209,35,199,112,200,50,25,299,100,185,50,89,90,200,80,150,200,117,117,180,150,93,75,60,81,70,79,21,35,40,80,7500,75,225,70,168,55,89,62,62,68,200,62,62,75,200,250,80,85,195,3613,225,75,90,75,75,143,75,75,75,299,42,35,82,60,46,343,80,150,75,86,319,100,260,70,100,64,50,65,65,117,125,249,93,400,135,150,50,100,250,100,168,40,82,85,160,160,72,150,80,60,80,150,250,45,35,50,443,195,83,50,70,260,175,42,520,300,250,175,170,42,73,95,100,160,45,250,60,35,160,69,35,49,110,94,82,35,299,120,382,204,55,279,52,300,388,40,195,40,109,400,45,35,70,70,130,70,99,75,24,220,50,39,175,70,350,120,129,50,35,45,82,180,55,65,84,150,55,70,78,148,350,285,129,370,150,85,75,2600,110,80,100,250,150,110,122,375,399,201,150,95,69,75,103,150,46,95,35,199,80,62,65,85,109,90,175,190,170,130,600,100,150,79,290,110,50,53,80,200,180,80,260,190,45,75,100,75,50,125,95,126,150,40,125,4100,180,165,85,199,90,263,89,65,45,70,250,60,65,130,135,140,399,75,89,250,131,58,700,120,100,85,215,199,150,85,85,98,293,125,65,85,120,69,63,250,58,310,41,261,80,39,180,100,175,44,177,49,44,44,149,300,140,35,140,75,90,74,396,70,100,100,100,180,220,195,75,310,300,85,85,65,310,50,78,275,250,50,275,85,41,144,69,230,69,40,151,275,180,55,120,350,60,75,110,129,129,55,217,37,299,120,65,135,75,700,159,100,100,300,85,45,75,100,45,135,71,210,70,165,165,55,209,125,794,146,197,297,166,166,135,500,90,140,80,200,200,250,190,35,125,280,249,200,75,124,120,125,37,58,95,100,105,214,250,32,160,165,300,70,51,85,75,111,150,175,180,165,395,90,52,1145,225,250,1306,135,150,35,40,336,320,150,250,46,140,75,60,400,208,79,208,72,90,70,220,200,525,140,80,95,65,75,125,75,35,35,55,64,60,450,47,163,47,75,196,174,295,60,100,199,47,105,50,100,595,185,35,70,80,210,45,110,109,180,39,245,150,132,139,130,228,236,70,97,55,150,49,49,65,50,110,45,49,150,55,195,75,55,59,59,55,135,248,48,300,55,560,52,5100,65,89,39,133,65,150,169,169,70,169,65,169,380,300,120,200,285,175,169,60,70,169,169,169,70,169,169,90,90,90,90,109,144,142,250,80,58,50,89,159,60,160,499,25,120,124,70,70,127,69,150,295,800,95,32,70,180,74,49,81,898,25,100,230,59,55,100,45,138,60,85,49,160,45,60,55,45,150,69,59,87,65,85,300,55,70,95,240,50,65,240,47,120,54,200,419,95,150,55,200,35,78,450,167,65,88,40,175,135,70,109,95,95,65,50,56,125,160,99,120,950,110,45,327,110,190,120,99,350,50,80,57,38,140,165,200,750,150,165,50,65,125,250,50,115,70,40,80,85,120,300,260,80,74,60,100,47,245,75,135,65,130,173,100,120,105,72,79,140,49,134,160,140,120,50,120,155,260,130,70,89,42,159,70,50,99,50,130,99,60,90,1000,106,115,38,69,65,75,250,275,249,799,147,110,90,62,600,67,58,120,39,235,182,150,120,100,350,90,194,145,470,247,50,260,80,210,70,33,80,62,171,125,350,395,72,70,55,225,57,99,35,89,135,85,85,60,60,219,442,250,160,240,80,190,199,250,949,60,180,59,300,120,39,50,150,51,100,60,250,68,100,189,98,400,110,49,300,30,135,113,55,100,285,45,195,78,42,110,99,47,51,170,100,125,115,43,439,348,150,50,57,43,65,250,160,130,505,425,425,150,50,62,380,49,206,123,145,206,75,350,76,200,35,49,150,150,195,140,35,65,65,65,50,40,40,180,115,69,40,39,99,334,40,38,332,64,100,110,245,135,299,150,53,212,299,110,60,70,65,90,174,260,200,50,24,35,70,110,85,95,425,150,119,45,135,100,219,159,50,150,34,175,109,140,26,175,299,234,230,230,125,217,182,152,125,219,207,289,330,29,289,150,120,40,228,203,49,183,800,50,149,55,108,160,60,52,39,89,57,57,40,55,290,45,150,50,165,68,195,45,66,40,309,240,240,219,125,130,50,51,82,200,150,360,400,45,89,75,75,47,105,90,75,30,499,250,24,79,280,75,58,55,65,65,63,250,200,104,65,45,175,65,150,215,419,215,195,225,65,306,90,700,200,230,150,55,600,68,70,79,175,140,180,37,395,75,50,85,130,225,150,105,85,69,60,85,60,41,130,149,100,600,227,244,150,472,474,214,235,244,495,60,398,260,230,95,229,90,240,90,236,229,160,229,154,200,35,169,75,240,75,50,95,120,60,229,130,100,164,150,355,150,89,1799,45,395,70,134,200,215,85,350,48,65,271,125,70,250,159,155,159,699,300,165,140,75,51,80,700,90,64,150,549,100,149,50,550,65,99,199,60,154,120,50,70,60,26,65,250,70,65,25,115,325,75,50,65,70,39,75,170,80,71,33,100,70,275,274,140,130,49,100,85,65,150,250,250,139,110,180,300,300,200,220,69,45,119,125,145,59,225,125,100,800,53,100,150,140,53,89,90,66,115,120,165,353,115,120,137,150,4200,129,100,220,59,100,199,100,115,349,110,75,60,170,56,80,99,85,100,117,249,120,36,100,31,75,78,75,85,160,290,50,35,67,265,180,180,36,55,60,250,60,60,250,65,60,60,420,60,155,60,60,100,60,60,60,60,255,229,235,175,60,60,40,60,50,60,390,140,475,150,228,70,54,350,55,79,250,64,65,90,44,101,33,162,105,420,46,36,45,119,90,120,160,65,100,35,55,85,88,160,70,76,90,200,59,35,160,300,269,99,65,34,150,185,165,125,150,100,88,99,151,105,345,150,57,120,34,65,200,47,100,129,150,165,66,35,63,65,100,180,352,150,225,360,28,170,61,79,325,28,100,199,200,300,145,81,81,81,81,100,81,165,75,92,70,34,65,34,60,34,140,95,34,40,60,120,130,35,189,44,135,55,199,400,129,225,75,35,35,159,36,190,70,186,150,75,75,45,68,135,103,85,200,95,56,90,60,24,45,44,120,450,24,34,34,98,34,500,34,34,195,34,62,20,34,34,34,75,75,95,34,25,130,40,45,150,220,85,135,42,75,85,140,99,140,250,190,175,65,65,339,175,700,65,100,249,84,500,149,85,79,225,160,54,53,90,65,130,55,250,130,90,80,40,40,75,200,40,80,150,69,130,200,110,54,54,50,49,150,60,60,100,55,69,40,180,350,66,120,69,70,350,179,115,90,65,50,45,100,83,72,98,110,250,72,73,250,150,77,120,165,199,120,49,149,68,75,90,150,89,228,256,188,240,255,199,228,166,99,150,99,150,250,790,161,123,299,49,125,123,120,75,190,225,50,95,59,250,65,616,408,100,264,6800,75,50,60,80,49,377,274,314,314,199,85,239,118,90,91,90,100,180,250,205,69,92,59,149,396,215,120,99,99,100,180,68,169,66,160,89,68,70,40,90,90,99,50,57,200,111,130,119,194,500,500,125,200,65,245,150,60,75,100,590,130,550,100,100,200,150,130,115,95,111,200,198,149,140,140,55,60,49,195,78,140,85,107,140,45,75,180,70,169,350,90,500,54,170,92,59,190,70,365,150,208,70,75,150,135,210,44,85,79,60,75,75,75,195,75,75,100,24,60,60,250,149,126,130,190,90,69,945,155,450,178,40,690,32,250,35,35,45,295,244,409,185,95,230,100,164,78,105,165,250,28,225,54,240,275,55,250,50,135,370,430,159,390,410,265,150,38,101,120,150,225,55,199,200,59,75,28,73,210,199,120,164,45,78,38,38,256,468,229,1000,89,150,500,74,217,203,305,65,127,99,37,50,195,36,120,120,499,35,67,60,75,63,189,80,59,65,59,50,55,650,267,316,229,262,63,95,45,58,58,58,50,58,58,100,63,27,125,470,225,229,470,228,239,40,59,150,99,99,380,125,50,300,100,200,320,52,304,239,65,300,60,79,50,350,539,249,250,249,49,499,87,250,250,60,50,350,426,50,101,60,100,250,250,168,90,150,70,222,70,200,48,699,249,577,46,50,125,39,27,380,75,499,299,65,200,157,145,240,299,53,699,247,311,99,60,299,250,150,370,195,85,93,199,45,120,189,129,280,38,150,145,95,33,65,220,139,125,500,277,180,699,162,52,176,500,68,182,86,30,150,189,155,199,200,270,199,199,199,199,199,129,149,149,257,185,149,149,159,159,219,159,219,275,113,50,249,182,190,595,68,50,135,120,65,189,90,187,202,43,200,190,184,187,60,2000,215,200,50,335,50,89,70,65,225,18,22,199,20,204,70,155,95,72,65,75,40,450,150,75,300,135,135,300,30,100,48,40,750,150,50,109,56,199,120,80,95,50,70,110,259,190,875,100,200,100,80,249,300,150,128,120,134,389,38,70,380,75,115,239,140,180,45,29,27,70,210,499,109,129,60,299,150,140,94,300,160,200,132,97,67,395,139,129,100,65,50,51,130,59,50,55,89,60,175,85,170,60,50,130,100,120,200,95,120,129,70,230,250,60,50,150,24,79,180,359,179,135,189,299,100,70,250,499,300,64,35,59,69,120,349,168,589,325,63,265,100,271,175,271,285,200,449,200,100,298,75,60,699,65,55,699,192,699,279,120,699,350,217,112,120,173,45,110,25,438,49,99,175,154,650,247,140,125,55,90,35,380,299,70,180,209,159,463,220,187,215,159,130,38,90,200,140,40,399,40,200,90,145,190,58,341,175,280,58,150,90,53,299,53,190,179,190,700,49,85,190,49,50,149,80,85,94,95,42,250,145,79,389,50,150,110,50,159,130,61,179,130,120,195,70,45,75,75,76,50,220,100,141,175,200,200,240,100,150,60,182,55,55,150,688,123,230,179,70,180,179,150,240,130,89,150,88,165,160,379,36,32,200,98,99,65,115,270,54,100,100,230,270,75,85,449,399,85,100,82,65,100,85,95,290,190,120,161,305,269,113,135,595,250,299,69,149,199,399,50,48,365,75,150,50,150,200,250,150,150,350,335,40,399,100,320,150,120,69,250,64,340,40,47,49,119,48,65,250,325,485,110,115,55,99,148,95,300,95,70,50,40,145,65,149,42,89,300,43,78,25,25,103,349,150,55,157,160,479,280,69,499,35,60,58,120,58,299,299,58,58,99,100,79,299,200,128,149,58,89,99,79,89,155,99,65,79,399,70,80,600,90,100,125,60,91,130,250,140,29,134,125,119,200,360,43,280,60,309,215,150,49,115,85,500,85,69,70,40,40,135,90,28,37,150,170,750,85,254,50,28,140,367,130,165,55,45,96,70,35,60,150,345,100,100,100,100,100,100,100,65,65,259,100,78,178,135,45,70,265,140,130,175,109,199,299,159,341,153,320,549,60,290,149,150,150,59,90,165,130,38,255,175,95,110,599,160,38,200,175,38,38,250,243,100,100,400,350,475,475,425,450,375,450,500,425,450,450,425,100,100,100,100,100,100,100,100,100,100,100,100,100,100,100,100,100,100,100,100,100,100,100,100,100,100,100,100,211,300,100,100,100,100,100,100,100,100,100,100,100,100,100,100,100,100,100,100,100,100,100,300,100,100,100,100,100,100,100,100,100,100,100,290,400,250,60,150,100,425,175,275,945,47,79,179,150,154,65,109,280,60,100,500,149,620,210,155,98,65,200,115,285,140,72,54,90,500,215,86,305,99,340,340,560,125,90,50,70,100,350,115,100,105,100,100,100,100,100,100,105,100,350,73,300,250,500,250,350,300,350,400,350,150,150,325,100,185,69,140,85,140,60,120,150,150,110,120,400,50,100,250,125,130,299,950,580,583,275,299,650,309,223,55,200,140,65,250,85,275,55,49,94,70,70,34,45,390,129,310,78,200,115,275,170,349,48,97,120,222,48,43,150,94,55,48,285,95,179,100,164,302,75,100,325,100,130,130,254,100,224,999,35,160,69,220,189,120,140,15,250,249,49,75,300,200,2500,314,43,381,377,299,306,120,150,85,180,420,299,245,110,135,65,146,125,400,175,159,49,20,125,64,99,88,119,199,115,36,99,100,99,150,34,199,150,240,175,45,350,70,180,149,69,70,35,92,75,75,125,60,35,107,250,75,62,100,150,130,299,130,250,70,92,60,100,44,175,350,290,200,94,50,690,60,250,210,400,60,300,300,36,119,300,91,200,20,150,350,87,98,150,60,86,240,255,40,180,55,75,60,75,100,70,250,99,210,55,169,89,40,40,130,150,36,333,45,199,75,200,200,30,100,60,30,275,275,255,250,50,43,85,250,100,449,150,200,350,500,150,85,110,120,300,50,585,73,40,150,349,80,84,200,85,100,55,100,350,125,35,75,35,60,83,130,275,54,99,225,120,86,59,75,45,90,110,100,250,80,250,300,65,38,150,350,250,269,85,250,315,100,130,70,139,149,110,120,100,110,90,200,28,125,499,92,28,59,99,39,100,43,28,180,28,460,50,75,109,65,89,199,42,90,42,65,69,1900,85,195,320,100,100,172,220,55,185,200,85,50,175,75,95,57,120,115,278,190,100,190,150,140,100,180,80,59,98,100,80,50,32,110,51,80,68,150,289,90,65,212,40,500,65,60,99,82,90,51,56,265,56,219,68,300,160,250,125,199,68,120,85,28,175,123,140,90,120,250,250,29,50,479,75,50,85,150,60,110,225,175,500,79,490,94,140,28,80,40,109,75,115,328,114,55,166,325,200,80,499,499,250,100,120,58,50,52,33,90,89,217,150,76,70,75,650,75,99,249,75,70,75,85,75,90,450,300,195,300,500,199,145,99,77,55,90,100,175,60,125,120,50,395,99,200,55,225,200,300,220,300,190,300,300,190,200,1250,70,799,659,650,650,260,250,399,55,130,43,475,200,55,99,289,499,61,55,180,25,25,25,55,80,60,299,24,125,180,95,250,200,299,93,225,310,1000,90,120,90,75,75,64,249,44,50,55,400,150,110,93,370,129,830,196,250,90,440,52,105,40,159,489,125,310,203,165,154,27,220,300,150,13,200,300,89,289,650,70,399,590,110,289,117,250,150,125,50,160,229,265,200,7500,200,120,200,50,200,130,188,150,200,375,85,93,175,65,275,75,85,150,68,450,150,63,90,42,75,106,125,50,199,155,175,199,120,135,101,299,268,120,200,150,55,85,45,2500,550,150,194,140,89,175,151,54,120,55,50,137,137,70,137,65,120,117,90,150,137,250,99,75,55,40,250,200,180,250,200,152,245,40,459,350,55,55,650,70,350,275,78,105,60,149,35,36,38,120,50,32,95,150,100,850,145,650,175,190,140,169,85,68,80,65,210,699,79,89,80,130,70,60,58,135,150,58,40,300,245,35,59,600,150,245,145,145,145,145,158,145,50,165,174,150,239,150,80,200,100,69,150,60,499,300,55,300,200,140,399,310,250,110,300,180,250,79,200,300,200,190,120,150,299,48,300,100,68,173,850,50,169,85,175,150,118,399,108,160,248,160,190,130,225,175,80,130,60,102,129,131,80,100,200,975,4200,80,895,150,290,170,170,70,499,37,447,35,447,600,37,255,320,795,65,995,56,695,300,150,1800,295,56,595,300,119,300,150,195,300,900,210,295,225,120,250,600,220,450,150,200,399,200,300,389,495,200,28,200,72,200,75,160,85,73,100,88,150,125,30,75,100,100,100,302,400,180,189,175,189,145,350,92,300,60,177,230,177,160,184,194,400,200,550,202,275,277,162,217,180,149,50,295,70,295,495,1099,129,400,181,428,123,88,20,89,42,80,150,111,90,109,68,38,69,360,145,120,650,250,599,200,150,100,330,150,179,185,200,50,650,180,75,700,300,220,180,60,75,155,180,180,180,400,60,135,79,100,77,59,77,137,100,69,120,69,120,180,60,200,549,50,136,65,125,295,385,479,99,260,45,235,87,198,275,134,199,59,198,11,80,50,150,140,181,395,45,65,57,65,400,325,99,90,600,70,60,100,89,255,350,88,65,160,180,299,250,190,100,50,150,160,80,150,140,75,279,169,395,80,300,285,30,22,390,500,500,500,97,150,125,200,294,165,50,295,100,180,89,199,199,110,250,70,99,125,90,210,50,150,55,200,150,50,60,70,34,50,350,225,130,151,75,65,100,150,68,650,425,445,1750,225,220,154,98,210,140,70,52,295,339,87,100,160,250,65,135,300,94,390,50,450,289,175,300,400,30,49,210,150,40,191,550,110,39,250,225,65,235,109,300,590,171,249,65,49,100,96,585,40,25,29,80,200,350,25,75,350,179,50,160,150,99,80,110,399,425,250,399,399,399,500,179,299,124,124,420,109,42,279,42,125,60,42,150,75,229,110,99,86,90,46,140,99,499,125,47,60,110,50,66,130,365,319,57,150,195,120,99,500,70,55,600,150,100,120,229,67,125,100,55,209,290,75,100,28,100,250,60,89,69,79,60,210,170,227,450,51,500,175,88,500,165,100,140,80,195,225,140,131,163,995,275,70,70,348,60,60,945,70,159,159,125,200,42,395,42,150,208,110,142,198,165,500,100,130,500,110,35,319,150,300,295,150,369,59,95,74,100,329,100,100,444,250,150,25,550,900,50,25,220,200,250,350,375,395,150,280,40,300,225,58,59,45,96,275,305,71,90,45,50,114,100,120,130,110,175,260,209,125,249,55,130,490,45,60,300,900,225,205,400,360,307,199,320,85,55,189,920,500,225,400,900,225,89,170,65,800,210,55,390,275,750,450,295,50,930,75,49,70,90,350,599,36,70,36,70,150,35,40,230,40,459,100,95,196,110,179,330,78,349,75,700,38,177,140,50,200,950,332,416,75,60,126,86,50,75,255,100,170,65,59,169,145,249,500,80,99,245,49,67,66,250,475,42,750,50,109,350,109,55,80,50,289,65,210,75,125,37,160,70,78,50,41,43,33,33,32,48,34,30,32,120,28,33,80,78,75,79,30,130,200,399,55,153,50,250,160,80,235,250,190,52,42,250,115,149,80,250,225,60,85,39,95,350,78,382,124,150,150,90,60,86,2995,69,145,249,55,125,199,229,199,50,225,180,62,480,48,250,120,125,249,300,198,250,66,335,95,300,330,131,99,56,305,195,250,200,150,30,250,500,165,260,145,140,150,199,70,41,69,119,75,185,125,220,550,100,150,225,86,270,69,90,63,350,121,999,60,60,180,80,80,500,60,180,90,299,180,125,225,60,125,279,250,4500,300,180,85,150,175,110,450,120,358,235,200,175,139,55,150,700,450,200,75,250,50,230,71,140,42,300,342,290,70,321,75,95,100,200,175,150,75,189,275,75,189,50,269,299,150,190,100,250,250,347,75,50,250,120,82,45,140,250,220,110,275,160,225,500,295,190,125,99,100,225,350,120,90,65,67,295,70,299,40,190,198,168,289,225,171,60,66,77,125,50,85,349,400,140,125,1200,90,90,220,400,215,250,170,94,195,175,30,40,400,100,185,149,226,150,214,45,177,250,489,250,650,250,150,30,250,400,400,350,500,489,78,99,450,300,500,200,500,85,129,385,119,189,89,100,65,100,220,190,200,125,100,230,160,185,185,80,450,70,340,249,120,35,108,288,150,199,135,75,223,150,120,199,300,80,60,450,88,89,185,50,88,89,300,575,600,88,88,225,800,30,79,220,172,99,58,89,220,190,55,55,65,202,60,475,305,60,262,70,300,74,48,48,200,48,48,48,48,48,48,48,48,48,199,48,48,48,48,48,48,200,249,209,45,210,100,900,180,300,400,38,150,140,175,60,35,219,350,85,450,55,99,70,60,99,300,349,264,149,220,58,100,299,299,55,75,850,44,200,49,60,203,211,38,350,100,150,320,28,25,25,1750,25,249,60,240,325,95,250,38,35,100,200,60,69,159,63,64,34,79,45,119,165,80,150,75,35,259,100,180,200,395,150,97,475,250,200,650,184,89,189,198,125,500,275,130,31,85,50,105,100,300,275,290,160,178,60,85,200,95,220,145,55,99,97,249,90,55,50,249,200,950,149,180,109,50,50,100,85,179,50,190,120,90,750,90,200,280,200,130,65,120,197,67,250,35,100,100,100,100,350,65,50,250,55,299,50,499,120,36,49,170,465,46,120,175,150,70,55,95,50,250,57,85,300,40,35,89,60,49,100,99,67,100,50,159,250,240,135,60,160,125,50,800,68,165,600,900,80,90,175,180,600,65,139,110,32,145,109,350,60,95,275,187,100,250,149,70,80,843,67,150,129,70,140,46,213,59,65,75,225,66,200,395,400,215,500,75,145,46,179,132,79,150,90,450,210,69,120,209,800,128,149,429,135,95,160,130,320,87,205,305,144,167,100,168,425,115,46,38,60,300,159,600,185,99,140,290,180,170,200,170,400,99,425,175,20,350,149,350,220,200,170,200,175,161,300,125,80,160,190,75,365,150,55,190,80,75,130,78,90,85,39,75,150,37,12,300,110,54,45,119,35,190,220,99,200,65,50,60,41,350,70,54,100,100,90,196,78,100,320,129,80,85,40,140,100,56,100,180,150,65,100,75,95,65,49,120,40,90,249,300,800,400,240,400,49,179,35,400,250,129,475,35,10,90,100,200,125,50,135,199,295,140,358,89,358,85,111,100,265,295,417,65,150,57,75,180,59,54,40,350,230,95,299,55,239,51,74,40,120,200,200,200,200,450,32,58,63,45,55,210,65,31,35,72,34,225,300,100,80,130,100,219,65,150,297,100,450,60,60,235,67,120,226,25,350,275,65,39,99,100,85,60,300,75,140,130,75,251,75,100,295,310,69,125,51,80,395,450,500,99,42,50,249,49,210,225,59,35,90,250,125,80,200,98,105,285,159,279,60,91,99,130,70,52,69,118,30,195,125,79,300,30,79,59,2000,30,79,80,75,115,30,175,89,150,30,150,80,160,43,260,300,145,400,30,250,250,48,400,145,140,60,145,315,300,95,199,100,60,250,150,160,70,150,90,300,1400,97,150,300,250,300,325,44,30,750,115,80,135,49,270,200,200,70,30,80,249,400,399,30,30,45,295,449,249,48,400,149,350,125,120,249,299,195,101,40,90,35,50,70,400,59,290,48,85,75,60,80,95,225,150,90,50,175,249,399,380,399,79,649,160,380,450,198,200,195,140,55,59,65,125,70,85,115,50,50,58,200,280,379,200,175,150,70,80,65,260,50,160,100,80,35,85,100,75,140,299,62,45,55,99,130,300,75,350,195,60,110,70,50,80,33,399,350,100,95,46,86,85,66,105,199,150,135,120,120,89,135,43,500,130,139,150,180,270,70,130,275,650,160,120,220,190,61,189,70,199,145,100,180,190,190,70,1100,190,49,190,36,340,300,300,101,190,50,50,80,125,60,200,40,55,110,100,225,60,225,199,100,225,50,250,350,199,350,45,65,199,169,50,210,95,189,145,159,299,399,85,75,145,168,150,225,177,199,139,50,300,280,295,280,116,155,175,120,59,155,165,250,165,295,150,750,140,115,199,140,80,151,75,288,188,195,250,50,100,99,125,50,78,215,60,100,175,87,150,177,54,115,223,220,75,125,115,50,250,125,189,89,500,50,220,60,65,70,80,80,309,78,119,600,50,65,323,300,170,1500,174,56,350,350,129,175,150,150,125,180,229,99,80,170,63,198,180,550,90,130,135,165,165,600,70,65,230,60,135,49,156,300,269,35,125,250,80,50,300,67,400,169,75,140,50,39,39,350,99,275,120,282,185,275,110,90,299,75,168,30,495,100,30,79,53,595,500,189,299,70,350,80,80,100,200,180,45,750,50,75,135,150,150,600,99,85,190,129,89,375,90,450,220,50,220,60,225,100,100,280,65,45,62,315,500,399,164,60,180,499,35,229,50,79,307,225,145,85,110,40,180,299,60,199,299,80,80,450,115,100,150,85,375,105,179,250,195,189,195,150,100,100,55,699,30,350,230,350,100,49,699,190,110,30,99,63,45,220,179,249,60,250,200,290,88,199,125,79,550,300,225,260,185,280,249,90,47,128,220,258,90,400,79,100,66,425,425,235,84,135,100,346,80,200,125,170,125,65,1600,800,200,100,250,44,112,122,380,60,90,100,225,120,95,60,59,420,60,150,140,285,135,199,69,289,70,105,129,105,116,199,196,175,128,250,100,150,60,80,80,57,59,130,50,75,85,45,350,50,119,120,200,190,133,50,123,260,599,300,250,79,129,185,75,62,49,65,140,180,143,52,54,60,300,50,71,168,195,50,50,800,168,45,40,150,75,70,250,139,345,220,399,125,169,105,99,70,125,150,151,80,49,320,116,149,100,90,60,56,15,40,82,350,99,99,48,100,146,150,80,67,180,269,110,279,650,150,48,129,150,134,50,225,125,44,75,180,135,180,180,125,50,240,75,125,244,95,95,90,209,90,149,120,100,77,48,99,150,49,40,68,75,250,40,50,159,120,180,55,75,69,185,42,6500,42,99,229,200,125,50,1050,385,99,50,75,155,90,300,115,210,70,172,270,80,79,75,250,120,60,100,202,90,75,110,50,79,109,170,70,68,1308,70,125,65,255,320,130,119,50,165,75,46,70,75,147,69,299,164,55,85,37,95,390,100,80,185,148,170,197,69,97,122,560,315,222,90,56,175,350,583,200,175,69,125,85,190,25,34,150,55,42,209,179,300,150,100,45,350,149,99,100,39,49,129,180,150,40,89,300,59,89,89,99,150,150,150,80,250,185,250,145,170,51,90,80,80,90,55,85,300,550,55,99,50,60,85,45,240,150,229,200,135,75,115,595,280,200,150,75,175,200,180,250,250,157,198,60,78,320,50,250,250,110,130,35,73,69,67,300,69,150,69,85,69,69,95,54,150,39,45,150,85,70,139,250,132,195,500,150,100,50,70,561,200,60,209,55,159,220,115,220,99,75,250,65,90,250,250,38,65,209,200,75,35,50,50,150,33,46,65,250,100,225,89,134,50,45,55,199,90,98,125,179,260,250,115,129,250,199,99,125,139,1000,95,90,150,215,245,100,155,122,35,80,65,45,45,229,200,78,110,135,999,200,50,2999,1999,200,50,195,70,600,150,25,180,80,35,55,162,95,80,50,30,250,125,190,70,50,120,45,75,85,59,69,275,95,161,30,125,80,99,85,35,35,750,44,120,125,40,234,39,167,200,225,70,70,120,103,66,55,89,200,89,120,100,160,135,150,199,150,70,150,120,200,99,67,150,250,125,600,117,99,60,34,240,130,50,85,40,60,150,150,170,138,85,75,35,100,50,41,249,137,65,270,199,91,160,115,200,46,50,100,150,55,220,39,178,29,33,45,75,70,125,350,242,88,195,400,77,150,180,125,50,220,100,77,77,45,77,51,85,77,40,77,200,77,51,100,125,99,190,200,199,250,135,120,100,180,170,95,39,100,330,109,230,55,150,100,299,180,159,60,225,94,207,170,40,57,300,210,90,70,400,45,50,280,150,16,300,30,181,58,55,40,105,84,450,379,79,95,45,55,165,65,65,60,250,129,109,450,520,316,450,74,75,37,349,150,44,72,169,120,70,250,1369,150,75,45,299,350,269,269,100,65,450,68,1749,150,275,320,60,46,185,325,75,100,75,63,140,103,65,45,70,75,169,43,250,285,100,275,321,303,466,338,343,269,421,314,333,38,75,80,202,35,40,150,39,120,45,40,107,59,110,40,188,70,60,75,195,55,35,239,99,75,75,200,400,90,215,239,75,100,75,65,115,50,59,75,79,40,150,75,300,45,200,240,150,400,80,80,57,299,55,60,150,200,180,430,98,128,38,38,39,39,39,110,349,33,57,80,50,47,250,200,85,139,85,78,28,101,54,49,48,57,115,40,200,75,120,45,74,60,45,66,120,100,30,200,158,350,165,299,176,55,85,50,225,70,185,115,88,450,198,75,400,185,50,200,101,350,215,120,170,180,80,60,139,101,750,180,99,325,45,110,150,107,235,137,70,60,39,125,40,89,40,396,89,40,220,89,62,45,85,393,316,385,267,278,365,178,75,50,111,150,50,99,84,110,144,50,100,550,80,90,60,499,198,245,375,369,150,150,250,45,32,60,380,129,700,350,50,46,89,60,170,110,105,245,120,65,70,250,130,35,46,35,100,119,60,40,50,55,80,129,140,250,260,75,41,80,225,45,50,80,43,235,125,70,49,140,235,70,155,150,145,99,100,140,100,39,143,75,95,50,80,200,59,100,180,110,50,80,50,169,60,80,50,200,170,50,90,199,225,20,475,50,60,47,80,70,800,140,210,350,45,205,33,37,34,180,65,159,35,30,202,150,55,345,85,68,93,145,120,130,93,95,80,58,25,25,45,99,35,260,170,50,140,60,42,45,120,120,54,40,75,190,75,200,170,125,65,70,40,115,55,90],\"xaxis\":\"x\",\"yaxis\":\"y\",\"type\":\"histogram\"}],                        {\"template\":{\"data\":{\"bar\":[{\"error_x\":{\"color\":\"#2a3f5f\"},\"error_y\":{\"color\":\"#2a3f5f\"},\"marker\":{\"line\":{\"color\":\"#E5ECF6\",\"width\":0.5},\"pattern\":{\"fillmode\":\"overlay\",\"size\":10,\"solidity\":0.2}},\"type\":\"bar\"}],\"barpolar\":[{\"marker\":{\"line\":{\"color\":\"#E5ECF6\",\"width\":0.5},\"pattern\":{\"fillmode\":\"overlay\",\"size\":10,\"solidity\":0.2}},\"type\":\"barpolar\"}],\"carpet\":[{\"aaxis\":{\"endlinecolor\":\"#2a3f5f\",\"gridcolor\":\"white\",\"linecolor\":\"white\",\"minorgridcolor\":\"white\",\"startlinecolor\":\"#2a3f5f\"},\"baxis\":{\"endlinecolor\":\"#2a3f5f\",\"gridcolor\":\"white\",\"linecolor\":\"white\",\"minorgridcolor\":\"white\",\"startlinecolor\":\"#2a3f5f\"},\"type\":\"carpet\"}],\"choropleth\":[{\"colorbar\":{\"outlinewidth\":0,\"ticks\":\"\"},\"type\":\"choropleth\"}],\"contour\":[{\"colorbar\":{\"outlinewidth\":0,\"ticks\":\"\"},\"colorscale\":[[0.0,\"#0d0887\"],[0.1111111111111111,\"#46039f\"],[0.2222222222222222,\"#7201a8\"],[0.3333333333333333,\"#9c179e\"],[0.4444444444444444,\"#bd3786\"],[0.5555555555555556,\"#d8576b\"],[0.6666666666666666,\"#ed7953\"],[0.7777777777777778,\"#fb9f3a\"],[0.8888888888888888,\"#fdca26\"],[1.0,\"#f0f921\"]],\"type\":\"contour\"}],\"contourcarpet\":[{\"colorbar\":{\"outlinewidth\":0,\"ticks\":\"\"},\"type\":\"contourcarpet\"}],\"heatmap\":[{\"colorbar\":{\"outlinewidth\":0,\"ticks\":\"\"},\"colorscale\":[[0.0,\"#0d0887\"],[0.1111111111111111,\"#46039f\"],[0.2222222222222222,\"#7201a8\"],[0.3333333333333333,\"#9c179e\"],[0.4444444444444444,\"#bd3786\"],[0.5555555555555556,\"#d8576b\"],[0.6666666666666666,\"#ed7953\"],[0.7777777777777778,\"#fb9f3a\"],[0.8888888888888888,\"#fdca26\"],[1.0,\"#f0f921\"]],\"type\":\"heatmap\"}],\"heatmapgl\":[{\"colorbar\":{\"outlinewidth\":0,\"ticks\":\"\"},\"colorscale\":[[0.0,\"#0d0887\"],[0.1111111111111111,\"#46039f\"],[0.2222222222222222,\"#7201a8\"],[0.3333333333333333,\"#9c179e\"],[0.4444444444444444,\"#bd3786\"],[0.5555555555555556,\"#d8576b\"],[0.6666666666666666,\"#ed7953\"],[0.7777777777777778,\"#fb9f3a\"],[0.8888888888888888,\"#fdca26\"],[1.0,\"#f0f921\"]],\"type\":\"heatmapgl\"}],\"histogram\":[{\"marker\":{\"pattern\":{\"fillmode\":\"overlay\",\"size\":10,\"solidity\":0.2}},\"type\":\"histogram\"}],\"histogram2d\":[{\"colorbar\":{\"outlinewidth\":0,\"ticks\":\"\"},\"colorscale\":[[0.0,\"#0d0887\"],[0.1111111111111111,\"#46039f\"],[0.2222222222222222,\"#7201a8\"],[0.3333333333333333,\"#9c179e\"],[0.4444444444444444,\"#bd3786\"],[0.5555555555555556,\"#d8576b\"],[0.6666666666666666,\"#ed7953\"],[0.7777777777777778,\"#fb9f3a\"],[0.8888888888888888,\"#fdca26\"],[1.0,\"#f0f921\"]],\"type\":\"histogram2d\"}],\"histogram2dcontour\":[{\"colorbar\":{\"outlinewidth\":0,\"ticks\":\"\"},\"colorscale\":[[0.0,\"#0d0887\"],[0.1111111111111111,\"#46039f\"],[0.2222222222222222,\"#7201a8\"],[0.3333333333333333,\"#9c179e\"],[0.4444444444444444,\"#bd3786\"],[0.5555555555555556,\"#d8576b\"],[0.6666666666666666,\"#ed7953\"],[0.7777777777777778,\"#fb9f3a\"],[0.8888888888888888,\"#fdca26\"],[1.0,\"#f0f921\"]],\"type\":\"histogram2dcontour\"}],\"mesh3d\":[{\"colorbar\":{\"outlinewidth\":0,\"ticks\":\"\"},\"type\":\"mesh3d\"}],\"parcoords\":[{\"line\":{\"colorbar\":{\"outlinewidth\":0,\"ticks\":\"\"}},\"type\":\"parcoords\"}],\"pie\":[{\"automargin\":true,\"type\":\"pie\"}],\"scatter\":[{\"marker\":{\"colorbar\":{\"outlinewidth\":0,\"ticks\":\"\"}},\"type\":\"scatter\"}],\"scatter3d\":[{\"line\":{\"colorbar\":{\"outlinewidth\":0,\"ticks\":\"\"}},\"marker\":{\"colorbar\":{\"outlinewidth\":0,\"ticks\":\"\"}},\"type\":\"scatter3d\"}],\"scattercarpet\":[{\"marker\":{\"colorbar\":{\"outlinewidth\":0,\"ticks\":\"\"}},\"type\":\"scattercarpet\"}],\"scattergeo\":[{\"marker\":{\"colorbar\":{\"outlinewidth\":0,\"ticks\":\"\"}},\"type\":\"scattergeo\"}],\"scattergl\":[{\"marker\":{\"colorbar\":{\"outlinewidth\":0,\"ticks\":\"\"}},\"type\":\"scattergl\"}],\"scattermapbox\":[{\"marker\":{\"colorbar\":{\"outlinewidth\":0,\"ticks\":\"\"}},\"type\":\"scattermapbox\"}],\"scatterpolar\":[{\"marker\":{\"colorbar\":{\"outlinewidth\":0,\"ticks\":\"\"}},\"type\":\"scatterpolar\"}],\"scatterpolargl\":[{\"marker\":{\"colorbar\":{\"outlinewidth\":0,\"ticks\":\"\"}},\"type\":\"scatterpolargl\"}],\"scatterternary\":[{\"marker\":{\"colorbar\":{\"outlinewidth\":0,\"ticks\":\"\"}},\"type\":\"scatterternary\"}],\"surface\":[{\"colorbar\":{\"outlinewidth\":0,\"ticks\":\"\"},\"colorscale\":[[0.0,\"#0d0887\"],[0.1111111111111111,\"#46039f\"],[0.2222222222222222,\"#7201a8\"],[0.3333333333333333,\"#9c179e\"],[0.4444444444444444,\"#bd3786\"],[0.5555555555555556,\"#d8576b\"],[0.6666666666666666,\"#ed7953\"],[0.7777777777777778,\"#fb9f3a\"],[0.8888888888888888,\"#fdca26\"],[1.0,\"#f0f921\"]],\"type\":\"surface\"}],\"table\":[{\"cells\":{\"fill\":{\"color\":\"#EBF0F8\"},\"line\":{\"color\":\"white\"}},\"header\":{\"fill\":{\"color\":\"#C8D4E3\"},\"line\":{\"color\":\"white\"}},\"type\":\"table\"}]},\"layout\":{\"annotationdefaults\":{\"arrowcolor\":\"#2a3f5f\",\"arrowhead\":0,\"arrowwidth\":1},\"autotypenumbers\":\"strict\",\"coloraxis\":{\"colorbar\":{\"outlinewidth\":0,\"ticks\":\"\"}},\"colorscale\":{\"diverging\":[[0,\"#8e0152\"],[0.1,\"#c51b7d\"],[0.2,\"#de77ae\"],[0.3,\"#f1b6da\"],[0.4,\"#fde0ef\"],[0.5,\"#f7f7f7\"],[0.6,\"#e6f5d0\"],[0.7,\"#b8e186\"],[0.8,\"#7fbc41\"],[0.9,\"#4d9221\"],[1,\"#276419\"]],\"sequential\":[[0.0,\"#0d0887\"],[0.1111111111111111,\"#46039f\"],[0.2222222222222222,\"#7201a8\"],[0.3333333333333333,\"#9c179e\"],[0.4444444444444444,\"#bd3786\"],[0.5555555555555556,\"#d8576b\"],[0.6666666666666666,\"#ed7953\"],[0.7777777777777778,\"#fb9f3a\"],[0.8888888888888888,\"#fdca26\"],[1.0,\"#f0f921\"]],\"sequentialminus\":[[0.0,\"#0d0887\"],[0.1111111111111111,\"#46039f\"],[0.2222222222222222,\"#7201a8\"],[0.3333333333333333,\"#9c179e\"],[0.4444444444444444,\"#bd3786\"],[0.5555555555555556,\"#d8576b\"],[0.6666666666666666,\"#ed7953\"],[0.7777777777777778,\"#fb9f3a\"],[0.8888888888888888,\"#fdca26\"],[1.0,\"#f0f921\"]]},\"colorway\":[\"#636efa\",\"#EF553B\",\"#00cc96\",\"#ab63fa\",\"#FFA15A\",\"#19d3f3\",\"#FF6692\",\"#B6E880\",\"#FF97FF\",\"#FECB52\"],\"font\":{\"color\":\"#2a3f5f\"},\"geo\":{\"bgcolor\":\"white\",\"lakecolor\":\"white\",\"landcolor\":\"#E5ECF6\",\"showlakes\":true,\"showland\":true,\"subunitcolor\":\"white\"},\"hoverlabel\":{\"align\":\"left\"},\"hovermode\":\"closest\",\"mapbox\":{\"style\":\"light\"},\"paper_bgcolor\":\"white\",\"plot_bgcolor\":\"#E5ECF6\",\"polar\":{\"angularaxis\":{\"gridcolor\":\"white\",\"linecolor\":\"white\",\"ticks\":\"\"},\"bgcolor\":\"#E5ECF6\",\"radialaxis\":{\"gridcolor\":\"white\",\"linecolor\":\"white\",\"ticks\":\"\"}},\"scene\":{\"xaxis\":{\"backgroundcolor\":\"#E5ECF6\",\"gridcolor\":\"white\",\"gridwidth\":2,\"linecolor\":\"white\",\"showbackground\":true,\"ticks\":\"\",\"zerolinecolor\":\"white\"},\"yaxis\":{\"backgroundcolor\":\"#E5ECF6\",\"gridcolor\":\"white\",\"gridwidth\":2,\"linecolor\":\"white\",\"showbackground\":true,\"ticks\":\"\",\"zerolinecolor\":\"white\"},\"zaxis\":{\"backgroundcolor\":\"#E5ECF6\",\"gridcolor\":\"white\",\"gridwidth\":2,\"linecolor\":\"white\",\"showbackground\":true,\"ticks\":\"\",\"zerolinecolor\":\"white\"}},\"shapedefaults\":{\"line\":{\"color\":\"#2a3f5f\"}},\"ternary\":{\"aaxis\":{\"gridcolor\":\"white\",\"linecolor\":\"white\",\"ticks\":\"\"},\"baxis\":{\"gridcolor\":\"white\",\"linecolor\":\"white\",\"ticks\":\"\"},\"bgcolor\":\"#E5ECF6\",\"caxis\":{\"gridcolor\":\"white\",\"linecolor\":\"white\",\"ticks\":\"\"}},\"title\":{\"x\":0.05},\"xaxis\":{\"automargin\":true,\"gridcolor\":\"white\",\"linecolor\":\"white\",\"ticks\":\"\",\"title\":{\"standoff\":15},\"zerolinecolor\":\"white\",\"zerolinewidth\":2},\"yaxis\":{\"automargin\":true,\"gridcolor\":\"white\",\"linecolor\":\"white\",\"ticks\":\"\",\"title\":{\"standoff\":15},\"zerolinecolor\":\"white\",\"zerolinewidth\":2}}},\"xaxis\":{\"anchor\":\"y\",\"domain\":[0.0,1.0],\"title\":{\"text\":\"price\"}},\"yaxis\":{\"anchor\":\"x\",\"domain\":[0.0,1.0],\"title\":{\"text\":\"count\"}},\"legend\":{\"tracegroupgap\":0},\"margin\":{\"t\":60},\"barmode\":\"relative\"},                        {\"responsive\": true}                    ).then(function(){\n",
              "                            \n",
              "var gd = document.getElementById('f0715741-e884-4808-97c8-438f31fc87bd');\n",
              "var x = new MutationObserver(function (mutations, observer) {{\n",
              "        var display = window.getComputedStyle(gd).display;\n",
              "        if (!display || display === 'none') {{\n",
              "            console.log([gd, 'removed!']);\n",
              "            Plotly.purge(gd);\n",
              "            observer.disconnect();\n",
              "        }}\n",
              "}});\n",
              "\n",
              "// Listen for the removal of the full notebook cells\n",
              "var notebookContainer = gd.closest('#notebook-container');\n",
              "if (notebookContainer) {{\n",
              "    x.observe(notebookContainer, {childList: true});\n",
              "}}\n",
              "\n",
              "// Listen for the clearing of the current output cell\n",
              "var outputEl = gd.closest('.output');\n",
              "if (outputEl) {{\n",
              "    x.observe(outputEl, {childList: true});\n",
              "}}\n",
              "\n",
              "                        })                };                            </script>        </div>\n",
              "</body>\n",
              "</html>"
            ]
          },
          "metadata": {}
        }
      ]
    },
    {
      "cell_type": "code",
      "source": [
        "#price lower than 1000\n",
        "price_less_than_1000 = df[df['price'] <= 1000]\n",
        "col = 'price'\n",
        "sns.distplot(price_less_than_1000[col], color = '#055E85',fit = norm);\n",
        "feature = price_less_than_1000[col]\n",
        "plt.axvline(feature.mean(), color='#ff033e', linestyle='dashed', linewidth=3,label= 'mean');  #Rose-Red Color indicate mean of data\n",
        "plt.axvline(feature.median(), color='#A020F0', linestyle='dashed', linewidth=3,label='median'); #Cyan indicate median of data\n",
        "\n",
        "plt.legend(bbox_to_anchor = (1.0, 1), loc = 'up')\n",
        "# Add a title to the plot with custom font size and color\n",
        "plt.title('Distribution of Price', fontsize=20, color='red')\n",
        "\n",
        "# Show the plot\n",
        "plt.show()"
      ],
      "metadata": {
        "colab": {
          "base_uri": "https://localhost:8080/",
          "height": 300
        },
        "id": "H5Ws0-gpGwTm",
        "outputId": "031f8259-8060-4e09-976a-bb51aa3817e0"
      },
      "execution_count": 24,
      "outputs": [
        {
          "output_type": "display_data",
          "data": {
            "text/plain": [
              "<Figure size 432x288 with 1 Axes>"
            ],
            "image/png": "[encoded data removed]"
          },
          "metadata": {
            "needs_background": "light"
          }
        }
      ]
    },
    {
      "cell_type": "code",
      "source": [
        "# Calculate Q1, Q3, and IQR\n",
        "Q1 = df['price'].quantile(0.25)\n",
        "Q3 = df['price'].quantile(0.75)\n",
        "IQR = Q3 - Q1\n",
        "\n",
        "# Identify outliers using the IQR method\n",
        "outliers = df[~((df['price'] < (Q1 - 1.5 * IQR)) | (df['price'] > (Q3 + 1.5 * IQR)))]\n",
        "\n",
        "# Remove the outliers from the dataset\n",
        "df_clean = df[((df['price'] >= (Q1 - 1.5 * IQR)) & (df['price'] <= (Q3 + 1.5 * IQR)))]"
      ],
      "metadata": {
        "id": "JS3Dzb5hpJaN"
      },
      "execution_count": 25,
      "outputs": []
    },
    {
      "cell_type": "code",
      "source": [
        "col = 'price'\n",
        "sns.distplot(df_clean[col], color = '#055E85',fit = norm);\n",
        "feature = df_clean[col]\n",
        "plt.axvline(feature.mean(), color='#ff033e', linestyle='dashed', linewidth=3,label= 'mean');  #Rose-Red Color indicate mean of data\n",
        "plt.axvline(feature.median(), color='#A020F0', linestyle='dashed', linewidth=3,label='median'); #Cyan indicate median of data\n",
        "\n",
        "plt.legend(bbox_to_anchor = (1.0, 1), loc = 'up')\n",
        "# Add a title to the plot with custom font size and color\n",
        "plt.title('Distribution of Price', fontsize=20, color='red')\n",
        "\n",
        "# Show the plot\n",
        "plt.show()"
      ],
      "metadata": {
        "colab": {
          "base_uri": "https://localhost:8080/",
          "height": 300
        },
        "id": "XZ6z3UAWrQyh",
        "outputId": "a68d1312-be87-4a37-9595-4f195cde832a"
      },
      "execution_count": 26,
      "outputs": [
        {
          "output_type": "display_data",
          "data": {
            "text/plain": [
              "<Figure size 432x288 with 1 Axes>"
            ],
            "image/png": "[encoded data removed]"
          },
          "metadata": {
            "needs_background": "light"
          }
        }
      ]
    },
    {
      "cell_type": "code",
      "source": [
        "#box plot for outlier visualization\n",
        "sns.boxplot(y='price', data=df_clean).set_title('Price Distribution');"
      ],
      "metadata": {
        "colab": {
          "base_uri": "https://localhost:8080/",
          "height": 268
        },
        "id": "D91yvMryWWhP",
        "outputId": "d768c138-104f-407c-cd21-8b2278867394"
      },
      "execution_count": 27,
      "outputs": [
        {
          "output_type": "display_data",
          "data": {
            "text/plain": [
              "<Figure size 432x288 with 1 Axes>"
            ],
            "image/png": "[encoded data removed]"
          },
          "metadata": {
            "needs_background": "light"
          }
        }
      ]
    },
    {
      "cell_type": "markdown",
      "source": [
        "##### 1. Why did you pick the specific chart?"
      ],
      "metadata": {
        "id": "K5QZ13OEpz2H"
      }
    },
    {
      "cell_type": "markdown",
      "source": [
        "> To understand distribution of price as the best way to understand distribution of continous data is either through histogram or kde plot, so i used distplot which is a combination of both.\n",
        "\n"
      ],
      "metadata": {
        "id": "XESiWehPqBRc"
      }
    },
    {
      "cell_type": "markdown",
      "source": [
        "##### 2. What is/are the insight(s) found from the chart?"
      ],
      "metadata": {
        "id": "lQ7QKXXCp7Bj"
      }
    },
    {
      "cell_type": "markdown",
      "source": [
        "> From the first plot, i found that price was distrbuted from range 0 to 10,000. But it was hard to visualize the entire range from graph, even though i found that most of the distribution was for price below 1000 and very less for price above 1000. Secondly i found that price was right skewed, so tried removing oultiers using IQR method. However in context of this project will not use the cleaned data. "
      ],
      "metadata": {
        "id": "C_j1G7yiqdRP"
      }
    },
    {
      "cell_type": "markdown",
      "source": [
        "##### 3. Will the gained insights help creating a positive business impact? \n",
        "Are there any insights that lead to negative growth? Justify with specific reason."
      ],
      "metadata": {
        "id": "448CDAPjqfQr"
      }
    },
    {
      "cell_type": "markdown",
      "source": [
        "> Yes, understanding distribution of price is important for any business because it can affect the demand for the product or service. If the price is too high, it may discourage potential customers from making a purchase, leading to lower sales and revenue. On the other hand, if the price is too low, the business may not be able to cover its costs or make a profit, in this case maintainence cost. Therefore, it is important for businesses to carefully consider the distribution of prices in order to find a balance that maximizes revenue while still being attractive to customers.\n",
        "\n",
        "> Price for only three airbnb is 10000 which is very high compared to price where most fall in range under 1000. This may cause negative effect on buisness revenue. However it need extra attentioin to get clear insight if it really affect or not by comparing it with other feature to know exactly.\n",
        "\n"
      ],
      "metadata": {
        "id": "3cspy4FjqxJW"
      }
    },
    {
      "cell_type": "markdown",
      "source": [
        "#### Chart - 2 Pie Chart - neighbourhood_group"
      ],
      "metadata": {
        "id": "KSlN3yHqYklG"
      }
    },
    {
      "cell_type": "code",
      "source": [
        "# Chart - 2 visualization code\n",
        "df_new = pd.DataFrame(df['neighbourhood_group'].value_counts().reset_index().rename(\n",
        "    columns = {'index': 'neighbourhood_group', 'neighbourhood_group': 'count'}))\n",
        "#plotting pie plot for neighbourhood_group using plotly\n",
        "fig = px.pie(df_new, values='count', names='neighbourhood_group', title='neighbourhood_group');\n",
        "#\n",
        "fig.update_traces(textposition='inside', textinfo='percent+label');\n",
        "fig.show();"
      ],
      "metadata": {
        "id": "R4YgtaqtYklH",
        "colab": {
          "base_uri": "https://localhost:8080/",
          "height": 542
        },
        "outputId": "82374f95-a2a1-4493-a406-e07bf449595d"
      },
      "execution_count": 46,
      "outputs": [
        {
          "output_type": "display_data",
          "data": {
            "text/html": [
              "<html>\n",
              "<head><meta charset=\"utf-8\" /></head>\n",
              "<body>\n",
              "    <div>            <script src=\"https://cdnjs.cloudflare.com/ajax/libs/mathjax/2.7.5/MathJax.js?config=TeX-AMS-MML_SVG\"></script><script type=\"text/javascript\">if (window.MathJax) {MathJax.Hub.Config({SVG: {font: \"STIX-Web\"}});}</script>                <script type=\"text/javascript\">window.PlotlyConfig = {MathJaxConfig: 'local'};</script>\n",
              "        <script src=\"https://cdn.plot.ly/plotly-2.8.3.min.js\"></script>                <div id=\"2dde7d39-f03f-49bf-b5cd-08bb45a90b64\" class=\"plotly-graph-div\" style=\"height:525px; width:100%;\"></div>            <script type=\"text/javascript\">                                    window.PLOTLYENV=window.PLOTLYENV || {};                                    if (document.getElementById(\"2dde7d39-f03f-49bf-b5cd-08bb45a90b64\")) {                    Plotly.newPlot(                        \"2dde7d39-f03f-49bf-b5cd-08bb45a90b64\",                        [{\"domain\":{\"x\":[0.0,1.0],\"y\":[0.0,1.0]},\"hovertemplate\":\"neighbourhood_group=%{label}<br>count=%{value}<extra></extra>\",\"labels\":[\"Manhattan\",\"Brooklyn\",\"Queens\",\"Bronx\",\"Staten Island\"],\"legendgroup\":\"\",\"name\":\"\",\"showlegend\":true,\"values\":[21661,20104,5666,1091,373],\"type\":\"pie\",\"textinfo\":\"percent+label\",\"textposition\":\"inside\"}],                        {\"template\":{\"data\":{\"bar\":[{\"error_x\":{\"color\":\"#2a3f5f\"},\"error_y\":{\"color\":\"#2a3f5f\"},\"marker\":{\"line\":{\"color\":\"#E5ECF6\",\"width\":0.5},\"pattern\":{\"fillmode\":\"overlay\",\"size\":10,\"solidity\":0.2}},\"type\":\"bar\"}],\"barpolar\":[{\"marker\":{\"line\":{\"color\":\"#E5ECF6\",\"width\":0.5},\"pattern\":{\"fillmode\":\"overlay\",\"size\":10,\"solidity\":0.2}},\"type\":\"barpolar\"}],\"carpet\":[{\"aaxis\":{\"endlinecolor\":\"#2a3f5f\",\"gridcolor\":\"white\",\"linecolor\":\"white\",\"minorgridcolor\":\"white\",\"startlinecolor\":\"#2a3f5f\"},\"baxis\":{\"endlinecolor\":\"#2a3f5f\",\"gridcolor\":\"white\",\"linecolor\":\"white\",\"minorgridcolor\":\"white\",\"startlinecolor\":\"#2a3f5f\"},\"type\":\"carpet\"}],\"choropleth\":[{\"colorbar\":{\"outlinewidth\":0,\"ticks\":\"\"},\"type\":\"choropleth\"}],\"contour\":[{\"colorbar\":{\"outlinewidth\":0,\"ticks\":\"\"},\"colorscale\":[[0.0,\"#0d0887\"],[0.1111111111111111,\"#46039f\"],[0.2222222222222222,\"#7201a8\"],[0.3333333333333333,\"#9c179e\"],[0.4444444444444444,\"#bd3786\"],[0.5555555555555556,\"#d8576b\"],[0.6666666666666666,\"#ed7953\"],[0.7777777777777778,\"#fb9f3a\"],[0.8888888888888888,\"#fdca26\"],[1.0,\"#f0f921\"]],\"type\":\"contour\"}],\"contourcarpet\":[{\"colorbar\":{\"outlinewidth\":0,\"ticks\":\"\"},\"type\":\"contourcarpet\"}],\"heatmap\":[{\"colorbar\":{\"outlinewidth\":0,\"ticks\":\"\"},\"colorscale\":[[0.0,\"#0d0887\"],[0.1111111111111111,\"#46039f\"],[0.2222222222222222,\"#7201a8\"],[0.3333333333333333,\"#9c179e\"],[0.4444444444444444,\"#bd3786\"],[0.5555555555555556,\"#d8576b\"],[0.6666666666666666,\"#ed7953\"],[0.7777777777777778,\"#fb9f3a\"],[0.8888888888888888,\"#fdca26\"],[1.0,\"#f0f921\"]],\"type\":\"heatmap\"}],\"heatmapgl\":[{\"colorbar\":{\"outlinewidth\":0,\"ticks\":\"\"},\"colorscale\":[[0.0,\"#0d0887\"],[0.1111111111111111,\"#46039f\"],[0.2222222222222222,\"#7201a8\"],[0.3333333333333333,\"#9c179e\"],[0.4444444444444444,\"#bd3786\"],[0.5555555555555556,\"#d8576b\"],[0.6666666666666666,\"#ed7953\"],[0.7777777777777778,\"#fb9f3a\"],[0.8888888888888888,\"#fdca26\"],[1.0,\"#f0f921\"]],\"type\":\"heatmapgl\"}],\"histogram\":[{\"marker\":{\"pattern\":{\"fillmode\":\"overlay\",\"size\":10,\"solidity\":0.2}},\"type\":\"histogram\"}],\"histogram2d\":[{\"colorbar\":{\"outlinewidth\":0,\"ticks\":\"\"},\"colorscale\":[[0.0,\"#0d0887\"],[0.1111111111111111,\"#46039f\"],[0.2222222222222222,\"#7201a8\"],[0.3333333333333333,\"#9c179e\"],[0.4444444444444444,\"#bd3786\"],[0.5555555555555556,\"#d8576b\"],[0.6666666666666666,\"#ed7953\"],[0.7777777777777778,\"#fb9f3a\"],[0.8888888888888888,\"#fdca26\"],[1.0,\"#f0f921\"]],\"type\":\"histogram2d\"}],\"histogram2dcontour\":[{\"colorbar\":{\"outlinewidth\":0,\"ticks\":\"\"},\"colorscale\":[[0.0,\"#0d0887\"],[0.1111111111111111,\"#46039f\"],[0.2222222222222222,\"#7201a8\"],[0.3333333333333333,\"#9c179e\"],[0.4444444444444444,\"#bd3786\"],[0.5555555555555556,\"#d8576b\"],[0.6666666666666666,\"#ed7953\"],[0.7777777777777778,\"#fb9f3a\"],[0.8888888888888888,\"#fdca26\"],[1.0,\"#f0f921\"]],\"type\":\"histogram2dcontour\"}],\"mesh3d\":[{\"colorbar\":{\"outlinewidth\":0,\"ticks\":\"\"},\"type\":\"mesh3d\"}],\"parcoords\":[{\"line\":{\"colorbar\":{\"outlinewidth\":0,\"ticks\":\"\"}},\"type\":\"parcoords\"}],\"pie\":[{\"automargin\":true,\"type\":\"pie\"}],\"scatter\":[{\"marker\":{\"colorbar\":{\"outlinewidth\":0,\"ticks\":\"\"}},\"type\":\"scatter\"}],\"scatter3d\":[{\"line\":{\"colorbar\":{\"outlinewidth\":0,\"ticks\":\"\"}},\"marker\":{\"colorbar\":{\"outlinewidth\":0,\"ticks\":\"\"}},\"type\":\"scatter3d\"}],\"scattercarpet\":[{\"marker\":{\"colorbar\":{\"outlinewidth\":0,\"ticks\":\"\"}},\"type\":\"scattercarpet\"}],\"scattergeo\":[{\"marker\":{\"colorbar\":{\"outlinewidth\":0,\"ticks\":\"\"}},\"type\":\"scattergeo\"}],\"scattergl\":[{\"marker\":{\"colorbar\":{\"outlinewidth\":0,\"ticks\":\"\"}},\"type\":\"scattergl\"}],\"scattermapbox\":[{\"marker\":{\"colorbar\":{\"outlinewidth\":0,\"ticks\":\"\"}},\"type\":\"scattermapbox\"}],\"scatterpolar\":[{\"marker\":{\"colorbar\":{\"outlinewidth\":0,\"ticks\":\"\"}},\"type\":\"scatterpolar\"}],\"scatterpolargl\":[{\"marker\":{\"colorbar\":{\"outlinewidth\":0,\"ticks\":\"\"}},\"type\":\"scatterpolargl\"}],\"scatterternary\":[{\"marker\":{\"colorbar\":{\"outlinewidth\":0,\"ticks\":\"\"}},\"type\":\"scatterternary\"}],\"surface\":[{\"colorbar\":{\"outlinewidth\":0,\"ticks\":\"\"},\"colorscale\":[[0.0,\"#0d0887\"],[0.1111111111111111,\"#46039f\"],[0.2222222222222222,\"#7201a8\"],[0.3333333333333333,\"#9c179e\"],[0.4444444444444444,\"#bd3786\"],[0.5555555555555556,\"#d8576b\"],[0.6666666666666666,\"#ed7953\"],[0.7777777777777778,\"#fb9f3a\"],[0.8888888888888888,\"#fdca26\"],[1.0,\"#f0f921\"]],\"type\":\"surface\"}],\"table\":[{\"cells\":{\"fill\":{\"color\":\"#EBF0F8\"},\"line\":{\"color\":\"white\"}},\"header\":{\"fill\":{\"color\":\"#C8D4E3\"},\"line\":{\"color\":\"white\"}},\"type\":\"table\"}]},\"layout\":{\"annotationdefaults\":{\"arrowcolor\":\"#2a3f5f\",\"arrowhead\":0,\"arrowwidth\":1},\"autotypenumbers\":\"strict\",\"coloraxis\":{\"colorbar\":{\"outlinewidth\":0,\"ticks\":\"\"}},\"colorscale\":{\"diverging\":[[0,\"#8e0152\"],[0.1,\"#c51b7d\"],[0.2,\"#de77ae\"],[0.3,\"#f1b6da\"],[0.4,\"#fde0ef\"],[0.5,\"#f7f7f7\"],[0.6,\"#e6f5d0\"],[0.7,\"#b8e186\"],[0.8,\"#7fbc41\"],[0.9,\"#4d9221\"],[1,\"#276419\"]],\"sequential\":[[0.0,\"#0d0887\"],[0.1111111111111111,\"#46039f\"],[0.2222222222222222,\"#7201a8\"],[0.3333333333333333,\"#9c179e\"],[0.4444444444444444,\"#bd3786\"],[0.5555555555555556,\"#d8576b\"],[0.6666666666666666,\"#ed7953\"],[0.7777777777777778,\"#fb9f3a\"],[0.8888888888888888,\"#fdca26\"],[1.0,\"#f0f921\"]],\"sequentialminus\":[[0.0,\"#0d0887\"],[0.1111111111111111,\"#46039f\"],[0.2222222222222222,\"#7201a8\"],[0.3333333333333333,\"#9c179e\"],[0.4444444444444444,\"#bd3786\"],[0.5555555555555556,\"#d8576b\"],[0.6666666666666666,\"#ed7953\"],[0.7777777777777778,\"#fb9f3a\"],[0.8888888888888888,\"#fdca26\"],[1.0,\"#f0f921\"]]},\"colorway\":[\"#636efa\",\"#EF553B\",\"#00cc96\",\"#ab63fa\",\"#FFA15A\",\"#19d3f3\",\"#FF6692\",\"#B6E880\",\"#FF97FF\",\"#FECB52\"],\"font\":{\"color\":\"#2a3f5f\"},\"geo\":{\"bgcolor\":\"white\",\"lakecolor\":\"white\",\"landcolor\":\"#E5ECF6\",\"showlakes\":true,\"showland\":true,\"subunitcolor\":\"white\"},\"hoverlabel\":{\"align\":\"left\"},\"hovermode\":\"closest\",\"mapbox\":{\"style\":\"light\"},\"paper_bgcolor\":\"white\",\"plot_bgcolor\":\"#E5ECF6\",\"polar\":{\"angularaxis\":{\"gridcolor\":\"white\",\"linecolor\":\"white\",\"ticks\":\"\"},\"bgcolor\":\"#E5ECF6\",\"radialaxis\":{\"gridcolor\":\"white\",\"linecolor\":\"white\",\"ticks\":\"\"}},\"scene\":{\"xaxis\":{\"backgroundcolor\":\"#E5ECF6\",\"gridcolor\":\"white\",\"gridwidth\":2,\"linecolor\":\"white\",\"showbackground\":true,\"ticks\":\"\",\"zerolinecolor\":\"white\"},\"yaxis\":{\"backgroundcolor\":\"#E5ECF6\",\"gridcolor\":\"white\",\"gridwidth\":2,\"linecolor\":\"white\",\"showbackground\":true,\"ticks\":\"\",\"zerolinecolor\":\"white\"},\"zaxis\":{\"backgroundcolor\":\"#E5ECF6\",\"gridcolor\":\"white\",\"gridwidth\":2,\"linecolor\":\"white\",\"showbackground\":true,\"ticks\":\"\",\"zerolinecolor\":\"white\"}},\"shapedefaults\":{\"line\":{\"color\":\"#2a3f5f\"}},\"ternary\":{\"aaxis\":{\"gridcolor\":\"white\",\"linecolor\":\"white\",\"ticks\":\"\"},\"baxis\":{\"gridcolor\":\"white\",\"linecolor\":\"white\",\"ticks\":\"\"},\"bgcolor\":\"#E5ECF6\",\"caxis\":{\"gridcolor\":\"white\",\"linecolor\":\"white\",\"ticks\":\"\"}},\"title\":{\"x\":0.05},\"xaxis\":{\"automargin\":true,\"gridcolor\":\"white\",\"linecolor\":\"white\",\"ticks\":\"\",\"title\":{\"standoff\":15},\"zerolinecolor\":\"white\",\"zerolinewidth\":2},\"yaxis\":{\"automargin\":true,\"gridcolor\":\"white\",\"linecolor\":\"white\",\"ticks\":\"\",\"title\":{\"standoff\":15},\"zerolinecolor\":\"white\",\"zerolinewidth\":2}}},\"legend\":{\"tracegroupgap\":0},\"title\":{\"text\":\"neighbourhood_group\"}},                        {\"responsive\": true}                    ).then(function(){\n",
              "                            \n",
              "var gd = document.getElementById('2dde7d39-f03f-49bf-b5cd-08bb45a90b64');\n",
              "var x = new MutationObserver(function (mutations, observer) {{\n",
              "        var display = window.getComputedStyle(gd).display;\n",
              "        if (!display || display === 'none') {{\n",
              "            console.log([gd, 'removed!']);\n",
              "            Plotly.purge(gd);\n",
              "            observer.disconnect();\n",
              "        }}\n",
              "}});\n",
              "\n",
              "// Listen for the removal of the full notebook cells\n",
              "var notebookContainer = gd.closest('#notebook-container');\n",
              "if (notebookContainer) {{\n",
              "    x.observe(notebookContainer, {childList: true});\n",
              "}}\n",
              "\n",
              "// Listen for the clearing of the current output cell\n",
              "var outputEl = gd.closest('.output');\n",
              "if (outputEl) {{\n",
              "    x.observe(outputEl, {childList: true});\n",
              "}}\n",
              "\n",
              "                        })                };                            </script>        </div>\n",
              "</body>\n",
              "</html>"
            ]
          },
          "metadata": {}
        }
      ]
    },
    {
      "cell_type": "markdown",
      "source": [
        "##### 1. Why did you pick the specific chart?"
      ],
      "metadata": {
        "id": "t6dVpIINYklI"
      }
    },
    {
      "cell_type": "markdown",
      "source": [
        "> Pie chart is easy to understand as each slice of the pie represents a different category of data. It helps in understanding different proportion of data. A pie chart for the neighbourhood_group field show the distribution of listings across different neighborhood groups."
      ],
      "metadata": {
        "id": "5aaW0BYyYklI"
      }
    },
    {
      "cell_type": "markdown",
      "source": [
        "##### 2. What is/are the insight(s) found from the chart?"
      ],
      "metadata": {
        "id": "ijmpgYnKYklI"
      }
    },
    {
      "cell_type": "markdown",
      "source": [
        "> Amoung all different area Manhattan and Brooklyn has maximum airbnb and Staten Island has least airbnb."
      ],
      "metadata": {
        "id": "PSx9atu2YklI"
      }
    },
    {
      "cell_type": "markdown",
      "source": [
        "##### 3. Will the gained insights help creating a positive business impact? \n",
        "Are there any insights that lead to negative growth? Justify with specific reason."
      ],
      "metadata": {
        "id": "-JiQyfWJYklI"
      }
    },
    {
      "cell_type": "markdown",
      "source": [
        "> Based on the above insight it will be useful in understanding the popularity of different neighborhood groups, or for comparing the supply of listings in different neighborhoods.\n",
        "\n",
        "> Compartively less airbnb in Staten Island will generate less revenue, hence need to change marketing strategy like giving promotional offer would work."
      ],
      "metadata": {
        "id": "BcBbebzrYklV"
      }
    },
    {
      "cell_type": "markdown",
      "source": [
        "#### Chart - 3 Barplot - Popular Host"
      ],
      "metadata": {
        "id": "4Of9eVA-YrdM"
      }
    },
    {
      "cell_type": "code",
      "source": [
        "# Chart - 4 visualization code\n",
        "#grouping all host id to know top 10 host\n",
        "df_popular_host = df.groupby(['host_id','host_name'])['id'].count().reset_index().sort_values(\n",
        "                            'id',ascending = False)[:10]\n",
        "# Chart - 3 visualization code\n",
        "#barplot\n",
        "plt.figure(figsize=(12,8));\n",
        "ax = sns.barplot(data = df_popular_host,x='host_name', y = 'id'); \n",
        "# ax.bar_label(ax.containers[0]);  will work other than google colab\n",
        "\n",
        "# Add labels to the bars\n",
        "for bar in ax.patches:\n",
        "    ax.annotate(format(bar.get_height(), '.0f'),\n",
        "                   (bar.get_x() + bar.get_width() / 2,\n",
        "                    bar.get_height()), ha='center', va='center',\n",
        "                   size=15, xytext=(0, 8),\n",
        "                   textcoords='offset points')\n",
        "\n",
        "# Set the font size of the tick labels to 12\n",
        "ax.tick_params(axis='both', which='major', labelsize=18);\n",
        "# Set the x-label with a font size of 25\n",
        "ax.set_xlabel(\"Host Name\", fontsize=25)\n",
        "plt.xticks(fontsize = 14, rotation = 90);\n",
        "\n",
        "# Set the y-label with a font size of 25\n",
        "ax.set_ylabel(\"Total Airbnb\", fontsize=25)\n",
        "plt.title('Top 10 Host with Most Airbnb', fontsize=20, color='purple');"
      ],
      "metadata": {
        "id": "irlUoxc8YrdO",
        "colab": {
          "base_uri": "https://localhost:8080/",
          "height": 653
        },
        "outputId": "6e40a8a4-e2b2-423c-9776-bc8f2d4e5ee9"
      },
      "execution_count": 109,
      "outputs": [
        {
          "output_type": "display_data",
          "data": {
            "text/plain": [
              "<Figure size 864x576 with 1 Axes>"
            ],
            "image/png": "[encoded data removed]"
          },
          "metadata": {
            "needs_background": "light"
          }
        }
      ]
    },
    {
      "cell_type": "markdown",
      "source": [
        "##### 1. Why did you pick the specific chart?"
      ],
      "metadata": {
        "id": "iky9q4vBYrdO"
      }
    },
    {
      "cell_type": "markdown",
      "source": [
        "> Since popular host name represent to be discrete data, barplot will be the best option for plotting these type of data."
      ],
      "metadata": {
        "id": "aJRCwT6DYrdO"
      }
    },
    {
      "cell_type": "markdown",
      "source": [
        "##### 2. What is/are the insight(s) found from the chart?"
      ],
      "metadata": {
        "id": "F6T5p64dYrdO"
      }
    },
    {
      "cell_type": "markdown",
      "source": [
        "> Sounder (NYC) is the most popular host with the highest number of airbnb listings."
      ],
      "metadata": {
        "id": "Xx8WAJvtYrdO"
      }
    },
    {
      "cell_type": "markdown",
      "source": [
        "##### 3. Will the gained insights help creating a positive business impact? \n",
        "Are there any insights that lead to negative growth? Justify with specific reason."
      ],
      "metadata": {
        "id": "y-Ehk30pYrdP"
      }
    },
    {
      "cell_type": "markdown",
      "source": [
        "> Sounder (NYC) has maximux listing that means, there is a chance he/she will be generating more revenue. \n",
        "\n",
        "> There are host with only 1 listing, they can create a negative brand name if they won't generate profit. Strategies can be designed on how they can generate more revenue."
      ],
      "metadata": {
        "id": "jLNxxz7MYrdP"
      }
    },
    {
      "cell_type": "markdown",
      "source": [
        "### Bivariate"
      ],
      "metadata": {
        "id": "Qd0XGyRsaouO"
      }
    },
    {
      "cell_type": "markdown",
      "source": [
        "#### Chart - 4 Lineplot - Price Point of neighbourhood_group"
      ],
      "metadata": {
        "id": "EM7whBJCYoAo"
      }
    },
    {
      "cell_type": "code",
      "source": [
        "# Chart - 3 visualization code\n",
        "#grouping and taking mean of price \n",
        "df_avg_price = df.groupby('neighbourhood_group')['price'].mean().reset_index().sort_values(\n",
        "    'price',ascending = False)\n",
        "\n",
        "#line plot\n",
        "plt.figure(figsize=(12,8));\n",
        "\n",
        "ax = sns.lineplot(data = df_avg_price,x='neighbourhood_group', y = 'price',\n",
        "  marker= 'o', color = 'green',linewidth=3); \n",
        "\n",
        "# Set the font size of the tick labels to 12\n",
        "ax.tick_params(axis='both', which='major', labelsize=18);\n",
        "# Set the x-label with a font size of 25\n",
        "ax.set_xlabel(\"neighbourhood_group\", fontsize=25)\n",
        "\n",
        "# Set the y-label with a font size of 25\n",
        "ax.set_ylabel(\"Price\", fontsize=25)\n",
        "plt.title('Price Point of neighbourhood_group', fontsize=20, color='green');"
      ],
      "metadata": {
        "id": "t6GMdE67YoAp",
        "colab": {
          "base_uri": "https://localhost:8080/",
          "height": 541
        },
        "outputId": "87d5c738-b22f-4aad-b497-1aeab29d57df"
      },
      "execution_count": 121,
      "outputs": [
        {
          "output_type": "display_data",
          "data": {
            "text/plain": [
              "<Figure size 864x576 with 1 Axes>"
            ],
            "image/png": "[encoded data removed]"
          },
          "metadata": {
            "needs_background": "light"
          }
        }
      ]
    },
    {
      "cell_type": "markdown",
      "source": [
        "##### 1. Why did you pick the specific chart?"
      ],
      "metadata": {
        "id": "fge-S5ZAYoAp"
      }
    },
    {
      "cell_type": "markdown",
      "source": [
        "> I wanted to find the trend of price in neighbourhood_groups."
      ],
      "metadata": {
        "id": "5dBItgRVYoAp"
      }
    },
    {
      "cell_type": "markdown",
      "source": [
        "##### 2. What is/are the insight(s) found from the chart?"
      ],
      "metadata": {
        "id": "85gYPyotYoAp"
      }
    },
    {
      "cell_type": "markdown",
      "source": [
        "> Price which airbnb offer in Manhattan is more than others. Based on the earlier analysis we found that Staten Island has less number of airbnb, price point for that is relatively high when compared to others.   "
      ],
      "metadata": {
        "id": "4jstXR6OYoAp"
      }
    },
    {
      "cell_type": "markdown",
      "source": [
        "##### 3. Will the gained insights help creating a positive business impact? \n",
        "Are there any insights that lead to negative growth? Justify with specific reason."
      ],
      "metadata": {
        "id": "RoGjAbkUYoAp"
      }
    },
    {
      "cell_type": "markdown",
      "source": [
        "> Yes, the price point of airbnb refers to the specific price at which it is offered for service. Manhattan offers a competitive avg price of 196 which is a good value to generate profitable revenue and enhance brand perception.\n",
        "\n",
        "> Price point in Staten Island is relatively high compared to number of airbnb it has, it can decrease demand and cause negative brand perception."
      ],
      "metadata": {
        "id": "zfJ8IqMcYoAp"
      }
    },
    {
      "cell_type": "markdown",
      "source": [
        "#### Chart - 5 Customer Engagement"
      ],
      "metadata": {
        "id": "bamQiAODYuh1"
      }
    },
    {
      "cell_type": "code",
      "source": [
        "# Chart - 5 visualization code\n",
        "df_engage = df.groupby(['name','id'])['number_of_reviews'].sum().reset_index().sort_values(\n",
        "    'number_of_reviews',ascending = False)[:10]\n",
        "#barplot\n",
        "plt.figure(figsize=(12,8));\n",
        "ax = sns.barplot(data = df_engage, y='name', x = 'number_of_reviews'); \n",
        "# ax.bar_label(ax.containers[0]);  will work other than google colab\n",
        "\n",
        "# Set the font size of the tick labels to 12\n",
        "ax.tick_params(axis='both', which='major', labelsize=15);\n",
        "# Set the x-label with a font size of 25\n",
        "ax.set_xlabel(\"Total Number of Reviews\", fontsize=25)\n",
        "\n",
        "# Set the y-label with a font size of 25\n",
        "ax.set_ylabel(\"Airbnb Name\", fontsize=25)\n",
        "plt.title('Top 10 Customer Engaging Airbnb', fontsize=20, color='purple');"
      ],
      "metadata": {
        "id": "TIJwrbroYuh3",
        "colab": {
          "base_uri": "https://localhost:8080/",
          "height": 448
        },
        "outputId": "8ac2407c-6944-42e7-e4f1-44ce3418be39"
      },
      "execution_count": 124,
      "outputs": [
        {
          "output_type": "display_data",
          "data": {
            "text/plain": [
              "<Figure size 864x576 with 1 Axes>"
            ],
            "image/png": "[encoded data removed]"
          },
          "metadata": {
            "needs_background": "light"
          }
        }
      ]
    },
    {
      "cell_type": "code",
      "source": [
        "#reviews_per_month\n",
        "df_engage2 = df.groupby(['id','name'])['reviews_per_month'].sum().reset_index().sort_values(\n",
        "    'reviews_per_month', ascending = False)[:10]\n",
        "#barplot\n",
        "plt.figure(figsize=(12,8));\n",
        "ax = sns.barplot(data = df_engage2, y='name', x = 'reviews_per_month'); \n",
        "# ax.bar_label(ax.containers[0]);  will work other than google colab\n",
        "\n",
        "# Set the font size of the tick labels to 12\n",
        "ax.tick_params(axis='both', which='major', labelsize=15);\n",
        "# Set the x-label with a font size of 25\n",
        "ax.set_xlabel(\"Reviews Per Month\", fontsize=25)\n",
        "\n",
        "# Set the y-label with a font size of 25\n",
        "ax.set_ylabel(\"Airbnb Name\", fontsize=25)\n",
        "plt.title('Top 10 Customer Engaging Airbnb', fontsize=20, color='purple');"
      ],
      "metadata": {
        "colab": {
          "base_uri": "https://localhost:8080/",
          "height": 447
        },
        "id": "gnD4DnsCuR7c",
        "outputId": "cf749ba3-d023-49d9-c005-3973e81f9ede"
      },
      "execution_count": 131,
      "outputs": [
        {
          "output_type": "display_data",
          "data": {
            "text/plain": [
              "<Figure size 864x576 with 1 Axes>"
            ],
            "image/png": "[encoded data removed]"
          },
          "metadata": {
            "needs_background": "light"
          }
        }
      ]
    },
    {
      "cell_type": "markdown",
      "source": [
        "##### 1. Why did you pick the specific chart?"
      ],
      "metadata": {
        "id": "QHF8YVU7Yuh3"
      }
    },
    {
      "cell_type": "markdown",
      "source": [
        "> I used this plot to display relative proportions of reviews, since barplot helps to compare data across different categories."
      ],
      "metadata": {
        "id": "dcxuIMRPYuh3"
      }
    },
    {
      "cell_type": "markdown",
      "source": [
        "##### 2. What is/are the insight(s) found from the chart?"
      ],
      "metadata": {
        "id": "GwzvFGzlYuh3"
      }
    },
    {
      "cell_type": "markdown",
      "source": [
        "> Room near JFK Queen Bed has maximum number of reviews but when compared with average review per month airbnb listing - Enjoy great views of the City in our Deluxe Room! shows maximum customer engagement."
      ],
      "metadata": {
        "id": "uyqkiB8YYuh3"
      }
    },
    {
      "cell_type": "markdown",
      "source": [
        "##### 3. Will the gained insights help creating a positive business impact? \n",
        "Are there any insights that lead to negative growth? Justify with specific reason."
      ],
      "metadata": {
        "id": "qYpmQ266Yuh3"
      }
    },
    {
      "cell_type": "markdown",
      "source": [
        "> Yes, customer engagement is the heart and soul of any business, maximum engagement means maximum profit.\n",
        "\n",
        "> Negative impact could be identified if sentiment analysis for review will be done, it is hard to predict with numbers, deos not have specific data for the analysis."
      ],
      "metadata": {
        "id": "_WtzZ_hCYuh4"
      }
    },
    {
      "cell_type": "markdown",
      "source": [
        "#### Chart - 6"
      ],
      "metadata": {
        "id": "OH-pJp9IphqM"
      }
    },
    {
      "cell_type": "code",
      "source": [
        "df.head(1)"
      ],
      "metadata": {
        "colab": {
          "base_uri": "https://localhost:8080/",
          "height": 266
        },
        "id": "ThIe_UtrwXex",
        "outputId": "24b74c9b-e06b-478d-cd36-675930f0641f"
      },
      "execution_count": 29,
      "outputs": [
        {
          "output_type": "execute_result",
          "data": {
            "text/plain": [
              "     id                                name  host_id host_name  \\\n",
              "0  2539  Clean & quiet apt home by the park     2787      John   \n",
              "\n",
              "  neighbourhood_group neighbourhood  latitude  longitude     room_type  price  \\\n",
              "0            Brooklyn    Kensington     40.65     -73.97  Private room    149   \n",
              "\n",
              "   minimum_nights  number_of_reviews  reviews_per_month  \\\n",
              "0               1                  9               0.21   \n",
              "\n",
              "   calculated_host_listings_count  availability_365  number_of_bookings  \\\n",
              "0                               6               365                 365   \n",
              "\n",
              "   potential_revenue_per_year  \n",
              "0                       54385  "
            ],
            "text/html": [
              "\n",
              "  <div id=\"df-528b01a5-66a3-4e93-93a8-bd80c56efd4c\">\n",
              "    <div class=\"colab-df-container\">\n",
              "      <div>\n",
              "<style scoped>\n",
              "    .dataframe tbody tr th:only-of-type {\n",
              "        vertical-align: middle;\n",
              "    }\n",
              "\n",
              "    .dataframe tbody tr th {\n",
              "        vertical-align: top;\n",
              "    }\n",
              "\n",
              "    .dataframe thead th {\n",
              "        text-align: right;\n",
              "    }\n",
              "</style>\n",
              "<table border=\"1\" class=\"dataframe\">\n",
              "  <thead>\n",
              "    <tr style=\"text-align: right;\">\n",
              "      <th></th>\n",
              "      <th>id</th>\n",
              "      <th>name</th>\n",
              "      <th>host_id</th>\n",
              "      <th>host_name</th>\n",
              "      <th>neighbourhood_group</th>\n",
              "      <th>neighbourhood</th>\n",
              "      <th>latitude</th>\n",
              "      <th>longitude</th>\n",
              "      <th>room_type</th>\n",
              "      <th>price</th>\n",
              "      <th>minimum_nights</th>\n",
              "      <th>number_of_reviews</th>\n",
              "      <th>reviews_per_month</th>\n",
              "      <th>calculated_host_listings_count</th>\n",
              "      <th>availability_365</th>\n",
              "      <th>number_of_bookings</th>\n",
              "      <th>potential_revenue_per_year</th>\n",
              "    </tr>\n",
              "  </thead>\n",
              "  <tbody>\n",
              "    <tr>\n",
              "      <th>0</th>\n",
              "      <td>2539</td>\n",
              "      <td>Clean &amp; quiet apt home by the park</td>\n",
              "      <td>2787</td>\n",
              "      <td>John</td>\n",
              "      <td>Brooklyn</td>\n",
              "      <td>Kensington</td>\n",
              "      <td>40.65</td>\n",
              "      <td>-73.97</td>\n",
              "      <td>Private room</td>\n",
              "      <td>149</td>\n",
              "      <td>1</td>\n",
              "      <td>9</td>\n",
              "      <td>0.21</td>\n",
              "      <td>6</td>\n",
              "      <td>365</td>\n",
              "      <td>365</td>\n",
              "      <td>54385</td>\n",
              "    </tr>\n",
              "  </tbody>\n",
              "</table>\n",
              "</div>\n",
              "      <button class=\"colab-df-convert\" onclick=\"convertToInteractive('df-528b01a5-66a3-4e93-93a8-bd80c56efd4c')\"\n",
              "              title=\"Convert this dataframe to an interactive table.\"\n",
              "              style=\"display:none;\">\n",
              "        \n",
              "  <svg xmlns=\"http://www.w3.org/2000/svg\" height=\"24px\"viewBox=\"0 0 24 24\"\n",
              "       width=\"24px\">\n",
              "    <path d=\"M0 0h24v24H0V0z\" fill=\"none\"/>\n",
              "    <path d=\"M18.56 5.44l.94 2.06.94-2.06 2.06-.94-2.06-.94-.94-2.06-.94 2.06-2.06.94zm-11 1L8.5 8.5l.94-2.06 2.06-.94-2.06-.94L8.5 2.5l-.94 2.06-2.06.94zm10 10l.94 2.06.94-2.06 2.06-.94-2.06-.94-.94-2.06-.94 2.06-2.06.94z\"/><path d=\"M17.41 7.96l-1.37-1.37c-.4-.4-.92-.59-1.43-.59-.52 0-1.04.2-1.43.59L10.3 9.45l-7.72 7.72c-.78.78-.78 2.05 0 2.83L4 21.41c.39.39.9.59 1.41.59.51 0 1.02-.2 1.41-.59l7.78-7.78 2.81-2.81c.8-.78.8-2.07 0-2.86zM5.41 20L4 18.59l7.72-7.72 1.47 1.35L5.41 20z\"/>\n",
              "  </svg>\n",
              "      </button>\n",
              "      \n",
              "  <style>\n",
              "    .colab-df-container {\n",
              "      display:flex;\n",
              "      flex-wrap:wrap;\n",
              "      gap: 12px;\n",
              "    }\n",
              "\n",
              "    .colab-df-convert {\n",
              "      background-color: #E8F0FE;\n",
              "      border: none;\n",
              "      border-radius: 50%;\n",
              "      cursor: pointer;\n",
              "      display: none;\n",
              "      fill: #1967D2;\n",
              "      height: 32px;\n",
              "      padding: 0 0 0 0;\n",
              "      width: 32px;\n",
              "    }\n",
              "\n",
              "    .colab-df-convert:hover {\n",
              "      background-color: #E2EBFA;\n",
              "      box-shadow: 0px 1px 2px rgba(60, 64, 67, 0.3), 0px 1px 3px 1px rgba(60, 64, 67, 0.15);\n",
              "      fill: #174EA6;\n",
              "    }\n",
              "\n",
              "    [theme=dark] .colab-df-convert {\n",
              "      background-color: #3B4455;\n",
              "      fill: #D2E3FC;\n",
              "    }\n",
              "\n",
              "    [theme=dark] .colab-df-convert:hover {\n",
              "      background-color: #434B5C;\n",
              "      box-shadow: 0px 1px 3px 1px rgba(0, 0, 0, 0.15);\n",
              "      filter: drop-shadow(0px 1px 2px rgba(0, 0, 0, 0.3));\n",
              "      fill: #FFFFFF;\n",
              "    }\n",
              "  </style>\n",
              "\n",
              "      <script>\n",
              "        const buttonEl =\n",
              "          document.querySelector('#df-528b01a5-66a3-4e93-93a8-bd80c56efd4c button.colab-df-convert');\n",
              "        buttonEl.style.display =\n",
              "          google.colab.kernel.accessAllowed ? 'block' : 'none';\n",
              "\n",
              "        async function convertToInteractive(key) {\n",
              "          const element = document.querySelector('#df-528b01a5-66a3-4e93-93a8-bd80c56efd4c');\n",
              "          const dataTable =\n",
              "            await google.colab.kernel.invokeFunction('convertToInteractive',\n",
              "                                                     [key], {});\n",
              "          if (!dataTable) return;\n",
              "\n",
              "          const docLinkHtml = 'Like what you see? Visit the ' +\n",
              "            '<a target=\"_blank\" href=https://colab.research.google.com/notebooks/data_table.ipynb>data table notebook</a>'\n",
              "            + ' to learn more about interactive tables.';\n",
              "          element.innerHTML = '';\n",
              "          dataTable['output_type'] = 'display_data';\n",
              "          await google.colab.output.renderOutput(dataTable, element);\n",
              "          const docLink = document.createElement('div');\n",
              "          docLink.innerHTML = docLinkHtml;\n",
              "          element.appendChild(docLink);\n",
              "        }\n",
              "      </script>\n",
              "    </div>\n",
              "  </div>\n",
              "  "
            ]
          },
          "metadata": {},
          "execution_count": 29
        }
      ]
    },
    {
      "cell_type": "code",
      "source": [],
      "metadata": {
        "id": "sdtcJwodsO1T"
      },
      "execution_count": null,
      "outputs": []
    },
    {
      "cell_type": "code",
      "source": [
        "# Chart - 6 visualization code"
      ],
      "metadata": {
        "id": "kuRf4wtuphqN"
      },
      "execution_count": 33,
      "outputs": []
    },
    {
      "cell_type": "markdown",
      "source": [
        "##### 1. Why did you pick the specific chart?"
      ],
      "metadata": {
        "id": "bbFf2-_FphqN"
      }
    },
    {
      "cell_type": "markdown",
      "source": [
        "Answer Here."
      ],
      "metadata": {
        "id": "loh7H2nzphqN"
      }
    },
    {
      "cell_type": "markdown",
      "source": [
        "##### 2. What is/are the insight(s) found from the chart?"
      ],
      "metadata": {
        "id": "_ouA3fa0phqN"
      }
    },
    {
      "cell_type": "markdown",
      "source": [
        "Answer Here"
      ],
      "metadata": {
        "id": "VECbqPI7phqN"
      }
    },
    {
      "cell_type": "markdown",
      "source": [
        "##### 3. Will the gained insights help creating a positive business impact? \n",
        "Are there any insights that lead to negative growth? Justify with specific reason."
      ],
      "metadata": {
        "id": "Seke61FWphqN"
      }
    },
    {
      "cell_type": "markdown",
      "source": [
        "Answer Here"
      ],
      "metadata": {
        "id": "DW4_bGpfphqN"
      }
    },
    {
      "cell_type": "markdown",
      "source": [
        "#### Chart - 7"
      ],
      "metadata": {
        "id": "PIIx-8_IphqN"
      }
    },
    {
      "cell_type": "code",
      "source": [
        "# Chart - 7 visualization code"
      ],
      "metadata": {
        "id": "lqAIGUfyphqO"
      },
      "execution_count": 34,
      "outputs": []
    },
    {
      "cell_type": "markdown",
      "source": [
        "##### 1. Why did you pick the specific chart?"
      ],
      "metadata": {
        "id": "t27r6nlMphqO"
      }
    },
    {
      "cell_type": "markdown",
      "source": [
        "Answer Here."
      ],
      "metadata": {
        "id": "iv6ro40sphqO"
      }
    },
    {
      "cell_type": "markdown",
      "source": [
        "##### 2. What is/are the insight(s) found from the chart?"
      ],
      "metadata": {
        "id": "r2jJGEOYphqO"
      }
    },
    {
      "cell_type": "markdown",
      "source": [
        "Answer Here"
      ],
      "metadata": {
        "id": "Po6ZPi4hphqO"
      }
    },
    {
      "cell_type": "markdown",
      "source": [
        "##### 3. Will the gained insights help creating a positive business impact? \n",
        "Are there any insights that lead to negative growth? Justify with specific reason."
      ],
      "metadata": {
        "id": "b0JNsNcRphqO"
      }
    },
    {
      "cell_type": "markdown",
      "source": [
        "Answer Here"
      ],
      "metadata": {
        "id": "xvSq8iUTphqO"
      }
    },
    {
      "cell_type": "markdown",
      "source": [
        "#### Chart - 8"
      ],
      "metadata": {
        "id": "BZR9WyysphqO"
      }
    },
    {
      "cell_type": "code",
      "source": [
        "# Chart - 8 visualization code"
      ],
      "metadata": {
        "id": "TdPTWpAVphqO"
      },
      "execution_count": 35,
      "outputs": []
    },
    {
      "cell_type": "markdown",
      "source": [
        "##### 1. Why did you pick the specific chart?"
      ],
      "metadata": {
        "id": "jj7wYXLtphqO"
      }
    },
    {
      "cell_type": "markdown",
      "source": [
        "Answer Here."
      ],
      "metadata": {
        "id": "Ob8u6rCTphqO"
      }
    },
    {
      "cell_type": "markdown",
      "source": [
        "##### 2. What is/are the insight(s) found from the chart?"
      ],
      "metadata": {
        "id": "eZrbJ2SmphqO"
      }
    },
    {
      "cell_type": "markdown",
      "source": [
        "Answer Here"
      ],
      "metadata": {
        "id": "mZtgC_hjphqO"
      }
    },
    {
      "cell_type": "markdown",
      "source": [
        "##### 3. Will the gained insights help creating a positive business impact? \n",
        "Are there any insights that lead to negative growth? Justify with specific reason."
      ],
      "metadata": {
        "id": "rFu4xreNphqO"
      }
    },
    {
      "cell_type": "markdown",
      "source": [
        "Answer Here"
      ],
      "metadata": {
        "id": "ey_0qi68phqO"
      }
    },
    {
      "cell_type": "markdown",
      "source": [
        "#### Chart - 9"
      ],
      "metadata": {
        "id": "YJ55k-q6phqO"
      }
    },
    {
      "cell_type": "code",
      "source": [
        "# Chart - 9 visualization code"
      ],
      "metadata": {
        "id": "B2aS4O1ophqO"
      },
      "execution_count": 36,
      "outputs": []
    },
    {
      "cell_type": "markdown",
      "source": [
        "##### 1. Why did you pick the specific chart?"
      ],
      "metadata": {
        "id": "gCFgpxoyphqP"
      }
    },
    {
      "cell_type": "markdown",
      "source": [
        "Answer Here."
      ],
      "metadata": {
        "id": "TVxDimi2phqP"
      }
    },
    {
      "cell_type": "markdown",
      "source": [
        "##### 2. What is/are the insight(s) found from the chart?"
      ],
      "metadata": {
        "id": "OVtJsKN_phqQ"
      }
    },
    {
      "cell_type": "markdown",
      "source": [
        "Answer Here"
      ],
      "metadata": {
        "id": "ngGi97qjphqQ"
      }
    },
    {
      "cell_type": "markdown",
      "source": [
        "##### 3. Will the gained insights help creating a positive business impact? \n",
        "Are there any insights that lead to negative growth? Justify with specific reason."
      ],
      "metadata": {
        "id": "lssrdh5qphqQ"
      }
    },
    {
      "cell_type": "markdown",
      "source": [
        "Answer Here"
      ],
      "metadata": {
        "id": "tBpY5ekJphqQ"
      }
    },
    {
      "cell_type": "markdown",
      "source": [
        "#### Chart - 10"
      ],
      "metadata": {
        "id": "U2RJ9gkRphqQ"
      }
    },
    {
      "cell_type": "code",
      "source": [
        "# Chart - 10 visualization code"
      ],
      "metadata": {
        "id": "GM7a4YP4phqQ"
      },
      "execution_count": 37,
      "outputs": []
    },
    {
      "cell_type": "markdown",
      "source": [
        "##### 1. Why did you pick the specific chart?"
      ],
      "metadata": {
        "id": "1M8mcRywphqQ"
      }
    },
    {
      "cell_type": "markdown",
      "source": [
        "Answer Here."
      ],
      "metadata": {
        "id": "8agQvks0phqQ"
      }
    },
    {
      "cell_type": "markdown",
      "source": [
        "##### 2. What is/are the insight(s) found from the chart?"
      ],
      "metadata": {
        "id": "tgIPom80phqQ"
      }
    },
    {
      "cell_type": "markdown",
      "source": [
        "Answer Here"
      ],
      "metadata": {
        "id": "Qp13pnNzphqQ"
      }
    },
    {
      "cell_type": "markdown",
      "source": [
        "##### 3. Will the gained insights help creating a positive business impact? \n",
        "Are there any insights that lead to negative growth? Justify with specific reason."
      ],
      "metadata": {
        "id": "JMzcOPDDphqR"
      }
    },
    {
      "cell_type": "markdown",
      "source": [
        "Answer Here"
      ],
      "metadata": {
        "id": "R4Ka1PC2phqR"
      }
    },
    {
      "cell_type": "markdown",
      "source": [
        "#### Chart - 11"
      ],
      "metadata": {
        "id": "x-EpHcCOp1ci"
      }
    },
    {
      "cell_type": "code",
      "source": [
        "# Chart - 11 visualization code"
      ],
      "metadata": {
        "id": "mAQTIvtqp1cj"
      },
      "execution_count": 38,
      "outputs": []
    },
    {
      "cell_type": "markdown",
      "source": [
        "##### 1. Why did you pick the specific chart?"
      ],
      "metadata": {
        "id": "X_VqEhTip1ck"
      }
    },
    {
      "cell_type": "markdown",
      "source": [
        "Answer Here."
      ],
      "metadata": {
        "id": "-vsMzt_np1ck"
      }
    },
    {
      "cell_type": "markdown",
      "source": [
        "##### 2. What is/are the insight(s) found from the chart?"
      ],
      "metadata": {
        "id": "8zGJKyg5p1ck"
      }
    },
    {
      "cell_type": "markdown",
      "source": [
        "Answer Here"
      ],
      "metadata": {
        "id": "ZYdMsrqVp1ck"
      }
    },
    {
      "cell_type": "markdown",
      "source": [
        "##### 3. Will the gained insights help creating a positive business impact? \n",
        "Are there any insights that lead to negative growth? Justify with specific reason."
      ],
      "metadata": {
        "id": "PVzmfK_Ep1ck"
      }
    },
    {
      "cell_type": "markdown",
      "source": [
        "Answer Here"
      ],
      "metadata": {
        "id": "druuKYZpp1ck"
      }
    },
    {
      "cell_type": "markdown",
      "source": [
        "#### Chart - 12"
      ],
      "metadata": {
        "id": "n3dbpmDWp1ck"
      }
    },
    {
      "cell_type": "code",
      "source": [
        "# Chart - 12 visualization code"
      ],
      "metadata": {
        "id": "bwevp1tKp1ck"
      },
      "execution_count": 39,
      "outputs": []
    },
    {
      "cell_type": "markdown",
      "source": [
        "##### 1. Why did you pick the specific chart?"
      ],
      "metadata": {
        "id": "ylSl6qgtp1ck"
      }
    },
    {
      "cell_type": "markdown",
      "source": [
        "Answer Here."
      ],
      "metadata": {
        "id": "m2xqNkiQp1ck"
      }
    },
    {
      "cell_type": "markdown",
      "source": [
        "##### 2. What is/are the insight(s) found from the chart?"
      ],
      "metadata": {
        "id": "ZWILFDl5p1ck"
      }
    },
    {
      "cell_type": "markdown",
      "source": [
        "Answer Here"
      ],
      "metadata": {
        "id": "x-lUsV2mp1ck"
      }
    },
    {
      "cell_type": "markdown",
      "source": [
        "##### 3. Will the gained insights help creating a positive business impact? \n",
        "Are there any insights that lead to negative growth? Justify with specific reason."
      ],
      "metadata": {
        "id": "M7G43BXep1ck"
      }
    },
    {
      "cell_type": "markdown",
      "source": [
        "Answer Here"
      ],
      "metadata": {
        "id": "5wwDJXsLp1cl"
      }
    },
    {
      "cell_type": "markdown",
      "source": [
        "#### Chart - 13"
      ],
      "metadata": {
        "id": "Ag9LCva-p1cl"
      }
    },
    {
      "cell_type": "code",
      "source": [
        "# Chart - 13 visualization code"
      ],
      "metadata": {
        "id": "EUfxeq9-p1cl"
      },
      "execution_count": 40,
      "outputs": []
    },
    {
      "cell_type": "markdown",
      "source": [
        "##### 1. Why did you pick the specific chart?"
      ],
      "metadata": {
        "id": "E6MkPsBcp1cl"
      }
    },
    {
      "cell_type": "markdown",
      "source": [
        "Answer Here."
      ],
      "metadata": {
        "id": "V22bRsFWp1cl"
      }
    },
    {
      "cell_type": "markdown",
      "source": [
        "##### 2. What is/are the insight(s) found from the chart?"
      ],
      "metadata": {
        "id": "2cELzS2fp1cl"
      }
    },
    {
      "cell_type": "markdown",
      "source": [
        "Answer Here"
      ],
      "metadata": {
        "id": "ozQPc2_Ip1cl"
      }
    },
    {
      "cell_type": "markdown",
      "source": [
        "##### 3. Will the gained insights help creating a positive business impact? \n",
        "Are there any insights that lead to negative growth? Justify with specific reason."
      ],
      "metadata": {
        "id": "3MPXvC8up1cl"
      }
    },
    {
      "cell_type": "markdown",
      "source": [
        "Answer Here"
      ],
      "metadata": {
        "id": "GL8l1tdLp1cl"
      }
    },
    {
      "cell_type": "markdown",
      "source": [
        "#### Chart - 14 - Correlation Heatmap"
      ],
      "metadata": {
        "id": "NC_X3p0fY2L0"
      }
    },
    {
      "cell_type": "code",
      "source": [
        "# Correlation Heatmap visualization code"
      ],
      "metadata": {
        "id": "xyC9zolEZNRQ"
      },
      "execution_count": 41,
      "outputs": []
    },
    {
      "cell_type": "markdown",
      "source": [
        "##### 1. Why did you pick the specific chart?"
      ],
      "metadata": {
        "id": "UV0SzAkaZNRQ"
      }
    },
    {
      "cell_type": "markdown",
      "source": [
        "Answer Here."
      ],
      "metadata": {
        "id": "DVPuT8LYZNRQ"
      }
    },
    {
      "cell_type": "markdown",
      "source": [
        "##### 2. What is/are the insight(s) found from the chart?"
      ],
      "metadata": {
        "id": "YPEH6qLeZNRQ"
      }
    },
    {
      "cell_type": "markdown",
      "source": [
        "Answer Here"
      ],
      "metadata": {
        "id": "bfSqtnDqZNRR"
      }
    },
    {
      "cell_type": "markdown",
      "source": [
        "#### Chart - 15 - Pair Plot "
      ],
      "metadata": {
        "id": "q29F0dvdveiT"
      }
    },
    {
      "cell_type": "code",
      "source": [
        "# Pair Plot visualization code"
      ],
      "metadata": {
        "id": "o58-TEIhveiU"
      },
      "execution_count": 42,
      "outputs": []
    },
    {
      "cell_type": "markdown",
      "source": [
        "##### 1. Why did you pick the specific chart?"
      ],
      "metadata": {
        "id": "EXh0U9oCveiU"
      }
    },
    {
      "cell_type": "markdown",
      "source": [
        "Answer Here."
      ],
      "metadata": {
        "id": "eMmPjTByveiU"
      }
    },
    {
      "cell_type": "markdown",
      "source": [
        "##### 2. What is/are the insight(s) found from the chart?"
      ],
      "metadata": {
        "id": "22aHeOlLveiV"
      }
    },
    {
      "cell_type": "markdown",
      "source": [
        "Answer Here"
      ],
      "metadata": {
        "id": "uPQ8RGwHveiV"
      }
    },
    {
      "cell_type": "markdown",
      "source": [
        "## **5. Solution to Business Objective**"
      ],
      "metadata": {
        "id": "JcMwzZxoAimU"
      }
    },
    {
      "cell_type": "markdown",
      "source": [
        "#### What do you suggest the client to achieve Business Objective ? \n",
        "Explain Briefly."
      ],
      "metadata": {
        "id": "8G2x9gOozGDZ"
      }
    },
    {
      "cell_type": "markdown",
      "source": [
        "Answer Here."
      ],
      "metadata": {
        "id": "pASKb0qOza21"
      }
    },
    {
      "cell_type": "markdown",
      "source": [
        "# **Conclusion**"
      ],
      "metadata": {
        "id": "gCX9965dhzqZ"
      }
    },
    {
      "cell_type": "markdown",
      "source": [
        "Write the conclusion here."
      ],
      "metadata": {
        "id": "Fjb1IsQkh3yE"
      }
    }
  ]
}